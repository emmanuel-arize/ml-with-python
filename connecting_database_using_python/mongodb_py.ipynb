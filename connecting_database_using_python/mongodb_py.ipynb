{
 "cells": [
  {
   "cell_type": "markdown",
   "metadata": {
    "toc": true
   },
   "source": [
    "<h1>Table of Contents<span class=\"tocSkip\"></span></h1>\n",
    "<div class=\"toc\"><ul class=\"toc-item\"></ul></div>"
   ]
  },
  {
   "cell_type": "code",
   "execution_count": 113,
   "metadata": {},
   "outputs": [],
   "source": [
    "import pymongo\n",
    "from pymongo import MongoClient\n",
    "from random import randint"
   ]
  },
  {
   "cell_type": "code",
   "execution_count": 124,
   "metadata": {},
   "outputs": [],
   "source": [
    "# Requires the PyMongo package.\n",
    "# https://api.mongodb.com/python/current\n",
    "\n",
    "client = MongoClient('mongodb://localhost:27017/')\n",
    "filter={'stock.size': 'S'}\n",
    "\n",
    "result = client['managerie']['inventory'].find(\n",
    "  filter=filter\n",
    ")\n"
   ]
  },
  {
   "cell_type": "code",
   "execution_count": 125,
   "metadata": {},
   "outputs": [
    {
     "name": "stdout",
     "output_type": "stream",
     "text": [
      "{'_id': ObjectId('60b7e9aa25e54a27b0bc2d3f'), 'item': 'MNO2', 'details': {'model': '14Q3', 'manufacturer': 'ABC Company'}, 'stock': [{'size': 'S', 'qty': 5}, {'size': 'M', 'qty': 5}, {'size': 'L', 'qty': 1}], 'category': 'clothing'}\n",
      "{'_id': ObjectId('60b7e9aa25e54a27b0bc2d40'), 'item': 'IJK2', 'details': {'model': '14Q2', 'manufacturer': 'M5 Corporation'}, 'stock': [{'size': 'S', 'qty': 5}, {'size': 'L', 'qty': 1}], 'category': 'houseware'}\n",
      "{'_id': ObjectId('60b7ec2325e54a27b0bc2d42'), 'item': 'ZYT1', 'details': {'model': '14Q1', 'manufacturer': 'ABC Company'}, 'stock': [{'size': 'S', 'qty': 5}, {'size': 'M', 'qty': 5}], 'category': 'houseware'}\n"
     ]
    }
   ],
   "source": [
    "for x in result:\n",
    "    print(x)"
   ]
  },
  {
   "cell_type": "code",
   "execution_count": 126,
   "metadata": {},
   "outputs": [],
   "source": [
    "# Requires the PyMongo package.\n",
    "# https://api.mongodb.com/python/current\n",
    "\n",
    "client = MongoClient('mongodb://localhost:27017/')\n",
    "filter={'stock.size': 'S'}\n",
    "\n",
    "resultt =client.managerie.inventory.find(filter=filter)\n"
   ]
  },
  {
   "cell_type": "code",
   "execution_count": 127,
   "metadata": {},
   "outputs": [
    {
     "name": "stdout",
     "output_type": "stream",
     "text": [
      "{'_id': ObjectId('60b7e9aa25e54a27b0bc2d3f'), 'item': 'MNO2', 'details': {'model': '14Q3', 'manufacturer': 'ABC Company'}, 'stock': [{'size': 'S', 'qty': 5}, {'size': 'M', 'qty': 5}, {'size': 'L', 'qty': 1}], 'category': 'clothing'}\n",
      "{'_id': ObjectId('60b7e9aa25e54a27b0bc2d40'), 'item': 'IJK2', 'details': {'model': '14Q2', 'manufacturer': 'M5 Corporation'}, 'stock': [{'size': 'S', 'qty': 5}, {'size': 'L', 'qty': 1}], 'category': 'houseware'}\n",
      "{'_id': ObjectId('60b7ec2325e54a27b0bc2d42'), 'item': 'ZYT1', 'details': {'model': '14Q1', 'manufacturer': 'ABC Company'}, 'stock': [{'size': 'S', 'qty': 5}, {'size': 'M', 'qty': 5}], 'category': 'houseware'}\n"
     ]
    }
   ],
   "source": [
    "for x in resultt:\n",
    "    print(x)"
   ]
  },
  {
   "cell_type": "code",
   "execution_count": 2,
   "metadata": {},
   "outputs": [],
   "source": [
    "url=\"mongodb://localhost:27017\"\n",
    "client=pymongo.MongoClient(url)"
   ]
  },
  {
   "cell_type": "code",
   "execution_count": 46,
   "metadata": {},
   "outputs": [
    {
     "name": "stdout",
     "output_type": "stream",
     "text": [
      "{'_id': ObjectId('60b7e7dc25e54a27b0bc2d3d'), 'item': 'ABC1', 'category': 'clothing', 'details': {'model': '14Q3', 'manufacturer': 'XYZ Company'}}\n",
      "{'_id': ObjectId('60b7e9aa25e54a27b0bc2d3e'), 'item': 'ABC2', 'details': {'model': '14Q3', 'manufacturer': 'M1 Corporation'}, 'stock': [{'size': 'M', 'qty': 50}], 'category': 'clothing'}\n",
      "{'_id': ObjectId('60b7e9aa25e54a27b0bc2d3f'), 'item': 'MNO2', 'details': {'model': '14Q3', 'manufacturer': 'ABC Company'}, 'stock': [{'size': 'S', 'qty': 5}, {'size': 'M', 'qty': 5}, {'size': 'L', 'qty': 1}], 'category': 'clothing'}\n",
      "{'_id': ObjectId('60b7e9aa25e54a27b0bc2d40'), 'item': 'IJK2', 'details': {'model': '14Q2', 'manufacturer': 'M5 Corporation'}, 'stock': [{'size': 'S', 'qty': 5}, {'size': 'L', 'qty': 1}], 'category': 'houseware'}\n",
      "{'_id': ObjectId('60b7ebd225e54a27b0bc2d41'), 'item': 'BE10', 'details': {'model': '14Q2', 'manufacturer': 'XYZ Company'}, 'stock': [{'size': 'L', 'qty': 5}], 'category': 'clothing'}\n",
      "{'_id': ObjectId('60b7ec2325e54a27b0bc2d42'), 'item': 'ZYT1', 'details': {'model': '14Q1', 'manufacturer': 'ABC Company'}, 'stock': [{'size': 'S', 'qty': 5}, {'size': 'M', 'qty': 5}], 'category': 'houseware'}\n"
     ]
    }
   ],
   "source": [
    "db=client.managerie\n",
    "for x in db.inventory.find():\n",
    "    print(x)"
   ]
  },
  {
   "cell_type": "code",
   "execution_count": 47,
   "metadata": {},
   "outputs": [
    {
     "name": "stdout",
     "output_type": "stream",
     "text": [
      "{'_id': ObjectId('60b7e9aa25e54a27b0bc2d3e'), 'item': 'ABC2', 'details': {'model': '14Q3', 'manufacturer': 'M1 Corporation'}, 'stock': [{'size': 'M', 'qty': 50}], 'category': 'clothing'}\n",
      "{'_id': ObjectId('60b7e9aa25e54a27b0bc2d3f'), 'item': 'MNO2', 'details': {'model': '14Q3', 'manufacturer': 'ABC Company'}, 'stock': [{'size': 'S', 'qty': 5}, {'size': 'M', 'qty': 5}, {'size': 'L', 'qty': 1}], 'category': 'clothing'}\n",
      "{'_id': ObjectId('60b7ec2325e54a27b0bc2d42'), 'item': 'ZYT1', 'details': {'model': '14Q1', 'manufacturer': 'ABC Company'}, 'stock': [{'size': 'S', 'qty': 5}, {'size': 'M', 'qty': 5}], 'category': 'houseware'}\n"
     ]
    }
   ],
   "source": [
    "for x in db.inventory.find({'stock.size':\"M\"}):\n",
    "    print(x)"
   ]
  },
  {
   "cell_type": "code",
   "execution_count": 48,
   "metadata": {},
   "outputs": [
    {
     "name": "stdout",
     "output_type": "stream",
     "text": [
      "{'_id': ObjectId('60b7e9aa25e54a27b0bc2d40'), 'item': 'IJK2', 'details': {'model': '14Q2', 'manufacturer': 'M5 Corporation'}, 'stock': [{'size': 'S', 'qty': 5}, {'size': 'L', 'qty': 1}], 'category': 'houseware'}\n",
      "{'_id': ObjectId('60b7ec2325e54a27b0bc2d42'), 'item': 'ZYT1', 'details': {'model': '14Q1', 'manufacturer': 'ABC Company'}, 'stock': [{'size': 'S', 'qty': 5}, {'size': 'M', 'qty': 5}], 'category': 'houseware'}\n"
     ]
    }
   ],
   "source": [
    "for x in db.inventory.find({'category':\"houseware\"}):\n",
    "    print(x)"
   ]
  },
  {
   "cell_type": "markdown",
   "metadata": {},
   "source": [
    "# projections (selecting certain columns as in sql) \n",
    "\n",
    "***Return Specified Fields Only***\n",
    "\n",
    "You can remove the _id field from the results by specifying its exclusion in the projection, as in the followingexample:"
   ]
  },
  {
   "cell_type": "code",
   "execution_count": 167,
   "metadata": {},
   "outputs": [],
   "source": [
    "db=client.managerie"
   ]
  },
  {
   "cell_type": "code",
   "execution_count": 168,
   "metadata": {},
   "outputs": [
    {
     "name": "stdout",
     "output_type": "stream",
     "text": [
      "{'item': 'ABC2', 'stock': [{'size': 'M'}]}\n",
      "{'item': 'MNO2', 'stock': [{'size': 'S'}, {'size': 'M'}, {'size': 'L'}]}\n",
      "{'item': 'ZYT1', 'stock': [{'size': 'S'}, {'size': 'M'}]}\n"
     ]
    }
   ],
   "source": [
    "for x in db.inventory.find({'stock.size':\"M\"},{'item':1,'stock.size':1,'_id':0}):\n",
    "    print(x)"
   ]
  },
  {
   "cell_type": "code",
   "execution_count": 169,
   "metadata": {},
   "outputs": [
    {
     "name": "stdout",
     "output_type": "stream",
     "text": [
      "{'details': {'manufacturer': 'M1 Corporation'}, 'stock': [{'qty': 50}], 'category': 'clothing'}\n",
      "{'details': {'manufacturer': 'ABC Company'}, 'stock': [{'qty': 5}, {'qty': 5}, {'qty': 1}], 'category': 'clothing'}\n",
      "{'details': {'manufacturer': 'ABC Company'}, 'stock': [{'qty': 5}, {'qty': 5}], 'category': 'houseware'}\n"
     ]
    }
   ],
   "source": [
    "for x in db.inventory.find({'stock.size':\"M\"},{'item':0,'details.model':0,'stock.size':0,'_id':0}):\n",
    "    print(x)"
   ]
  },
  {
   "cell_type": "code",
   "execution_count": 170,
   "metadata": {},
   "outputs": [
    {
     "name": "stdout",
     "output_type": "stream",
     "text": [
      "{'item': 'ABC1', 'category': 'clothing', 'details': {'model': '14Q3', 'manufacturer': 'XYZ Company'}}\n",
      "{'item': 'ABC2', 'details': {'model': '14Q3', 'manufacturer': 'M1 Corporation'}, 'stock': [{'size': 'M', 'qty': 50}], 'category': 'clothing'}\n",
      "{'item': 'MNO2', 'details': {'model': '14Q3', 'manufacturer': 'ABC Company'}, 'stock': [{'size': 'S', 'qty': 5}, {'size': 'M', 'qty': 5}, {'size': 'L', 'qty': 1}], 'category': 'clothing'}\n",
      "{'item': 'BE10', 'details': {'model': '14Q2', 'manufacturer': 'XYZ Company'}, 'stock': [{'size': 'L', 'qty': 5}], 'category': 'clothing'}\n"
     ]
    }
   ],
   "source": [
    "for x in db.inventory.find( { 'category':'clothing'}, { 'ratings': { '$slice': 2},'_id':0} ):\n",
    "    print(x)"
   ]
  },
  {
   "cell_type": "code",
   "execution_count": 171,
   "metadata": {},
   "outputs": [
    {
     "name": "stderr",
     "output_type": "stream",
     "text": [
      "C:\\Anaconda3\\lib\\site-packages\\ipykernel_launcher.py:1: DeprecationWarning: count is deprecated. Use Collection.count_documents instead.\n",
      "  \"\"\"Entry point for launching an IPython kernel.\n"
     ]
    },
    {
     "data": {
      "text/plain": [
       "4"
      ]
     },
     "execution_count": 171,
     "metadata": {},
     "output_type": "execute_result"
    }
   ],
   "source": [
    "db.inventory.find( { 'category':'clothing'}, { 'ratings': { '$slice': 2},'_id':0} ).count()"
   ]
  },
  {
   "cell_type": "markdown",
   "metadata": {},
   "source": [
    "# selecting stock array which has a size of 2"
   ]
  },
  {
   "cell_type": "code",
   "execution_count": 172,
   "metadata": {},
   "outputs": [
    {
     "name": "stdout",
     "output_type": "stream",
     "text": [
      "{'item': 'IJK2', 'details': {'model': '14Q2', 'manufacturer': 'M5 Corporation'}, 'stock': [{'size': 'S', 'qty': 5}, {'size': 'L', 'qty': 1}], 'category': 'houseware'}\n",
      "{'item': 'ZYT1', 'details': {'model': '14Q1', 'manufacturer': 'ABC Company'}, 'stock': [{'size': 'S', 'qty': 5}, {'size': 'M', 'qty': 5}], 'category': 'houseware'}\n"
     ]
    }
   ],
   "source": [
    "for x in db.inventory.find({ 'stock': {'$size': 2}},{'_id':0} ):\n",
    "    print(x)"
   ]
  },
  {
   "cell_type": "markdown",
   "metadata": {},
   "source": [
    "size 1"
   ]
  },
  {
   "cell_type": "code",
   "execution_count": 173,
   "metadata": {},
   "outputs": [
    {
     "name": "stdout",
     "output_type": "stream",
     "text": [
      "{'item': 'ABC2', 'details': {'model': '14Q3', 'manufacturer': 'M1 Corporation'}, 'stock': [{'size': 'M', 'qty': 50}], 'category': 'clothing'}\n",
      "{'item': 'BE10', 'details': {'model': '14Q2', 'manufacturer': 'XYZ Company'}, 'stock': [{'size': 'L', 'qty': 5}], 'category': 'clothing'}\n"
     ]
    }
   ],
   "source": [
    "for x in db.inventory.find({ 'stock': {'$size': 1}},{'_id':0}  ):\n",
    "    print(x)"
   ]
  },
  {
   "cell_type": "markdown",
   "metadata": {},
   "source": [
    "# size 3"
   ]
  },
  {
   "cell_type": "code",
   "execution_count": 174,
   "metadata": {},
   "outputs": [
    {
     "name": "stdout",
     "output_type": "stream",
     "text": [
      "{'item': 'MNO2', 'details': {'model': '14Q3', 'manufacturer': 'ABC Company'}, 'stock': [{'size': 'S', 'qty': 5}, {'size': 'M', 'qty': 5}, {'size': 'L', 'qty': 1}], 'category': 'clothing'}\n"
     ]
    }
   ],
   "source": [
    "for x in db.inventory.find({ 'stock': {'$size': 3}},{'_id':0}  ):\n",
    "    print(x)"
   ]
  },
  {
   "cell_type": "code",
   "execution_count": 175,
   "metadata": {},
   "outputs": [],
   "source": [
    "doc=[{ \"_id\" : 1, \"item\" : \"f1\", 'type': \"food\", 'quantity': 500 },\n",
    "     { \"_id\" : 2, \"item\" : \"f2\", 'type': \"food\", 'quantity': 100 },\n",
    "    { \"_id\" : 3, \"item\" : \"p1\", 'type': \"paper\", 'quantity': 200 },\n",
    "{ \"_id\" : 4, \"item\" : \"p2\", 'type': \"paper\", 'quantity': 150 },\n",
    "{ \"_id\" : 5, \"item\" : \"f3\", 'type': \"food\", 'quantity': 300 },\n",
    "{ \"_id\" : 6, \"item\" : \"t1\", 'type': \"toys\", 'quantity': 500 },\n",
    "{ \"_id\" : 7, \"item\" : \"a1\", 'type': \"apparel\", 'quantity': 250 },\n",
    "{ \"_id\" : 8, \"item\" : \"a2\", 'type': \"apparel\", 'quantity': 400 },\n",
    "{ \"_id\" : 9, \"item\" : \"t2\", 'type': \"toys\", 'quantity': 50 },\n",
    "{ \"_id\" : 10, \"item\" : \"f4\", 'type': \"food\", 'quantity': 75 }]"
   ]
  },
  {
   "cell_type": "code",
   "execution_count": 176,
   "metadata": {},
   "outputs": [],
   "source": [
    "#db.inventory.insert(doc)"
   ]
  },
  {
   "cell_type": "code",
   "execution_count": 178,
   "metadata": {},
   "outputs": [
    {
     "name": "stdout",
     "output_type": "stream",
     "text": [
      "{'_id': 2, 'item': 'f2', 'type': 'food', 'quantity': 100}\n",
      "{'_id': 3, 'item': 'p1', 'type': 'paper', 'quantity': 200}\n",
      "{'_id': 4, 'item': 'p2', 'type': 'paper', 'quantity': 150}\n"
     ]
    }
   ],
   "source": [
    "for x in db.inventory.find( { 'quantity': { '$gte': 100, '$lte': 200 }}):\n",
    "                           print(x)"
   ]
  },
  {
   "cell_type": "code",
   "execution_count": 179,
   "metadata": {},
   "outputs": [
    {
     "name": "stdout",
     "output_type": "stream",
     "text": [
      "{'_id': 2, 'item': 'f2', 'type': 'food', 'quantity': 100}\n",
      "{'_id': 3, 'item': 'p1', 'type': 'paper', 'quantity': 200}\n"
     ]
    }
   ],
   "source": [
    "for x in db.inventory.find( { 'quantity': { '$in':[100, 200] }}):\n",
    "                           print(x)"
   ]
  },
  {
   "cell_type": "code",
   "execution_count": null,
   "metadata": {},
   "outputs": [],
   "source": []
  },
  {
   "cell_type": "code",
   "execution_count": null,
   "metadata": {},
   "outputs": [],
   "source": []
  },
  {
   "cell_type": "code",
   "execution_count": null,
   "metadata": {},
   "outputs": [],
   "source": []
  },
  {
   "cell_type": "code",
   "execution_count": 180,
   "metadata": {},
   "outputs": [],
   "source": [
    "# connetciong to mongodb\n",
    "client=pymongo.MongoClient(url)\n",
    "# use managerie database\n",
    "db=client['managerie']\n",
    "# select inventory collection\n",
    "inventory_col=db['inventory']"
   ]
  },
  {
   "cell_type": "code",
   "execution_count": 181,
   "metadata": {},
   "outputs": [
    {
     "name": "stdout",
     "output_type": "stream",
     "text": [
      "{'_id': ObjectId('60b7e7dc25e54a27b0bc2d3d'), 'item': 'ABC1', 'category': 'clothing', 'details': {'model': '14Q3', 'manufacturer': 'XYZ Company'}}\n",
      "{'_id': ObjectId('60b7e9aa25e54a27b0bc2d3e'), 'item': 'ABC2', 'details': {'model': '14Q3', 'manufacturer': 'M1 Corporation'}, 'stock': [{'size': 'M', 'qty': 50}], 'category': 'clothing'}\n",
      "{'_id': ObjectId('60b7e9aa25e54a27b0bc2d3f'), 'item': 'MNO2', 'details': {'model': '14Q3', 'manufacturer': 'ABC Company'}, 'stock': [{'size': 'S', 'qty': 5}, {'size': 'M', 'qty': 5}, {'size': 'L', 'qty': 1}], 'category': 'clothing'}\n",
      "{'_id': ObjectId('60b7e9aa25e54a27b0bc2d40'), 'item': 'IJK2', 'details': {'model': '14Q2', 'manufacturer': 'M5 Corporation'}, 'stock': [{'size': 'S', 'qty': 5}, {'size': 'L', 'qty': 1}], 'category': 'houseware'}\n",
      "{'_id': ObjectId('60b7ebd225e54a27b0bc2d41'), 'item': 'BE10', 'details': {'model': '14Q2', 'manufacturer': 'XYZ Company'}, 'stock': [{'size': 'L', 'qty': 5}], 'category': 'clothing'}\n",
      "{'_id': ObjectId('60b7ec2325e54a27b0bc2d42'), 'item': 'ZYT1', 'details': {'model': '14Q1', 'manufacturer': 'ABC Company'}, 'stock': [{'size': 'S', 'qty': 5}, {'size': 'M', 'qty': 5}], 'category': 'houseware'}\n",
      "{'_id': 1, 'item': 'f1', 'type': 'food', 'quantity': 500}\n",
      "{'_id': 2, 'item': 'f2', 'type': 'food', 'quantity': 100}\n",
      "{'_id': 3, 'item': 'p1', 'type': 'paper', 'quantity': 200}\n",
      "{'_id': 4, 'item': 'p2', 'type': 'paper', 'quantity': 150}\n",
      "{'_id': 5, 'item': 'f3', 'type': 'food', 'quantity': 300}\n",
      "{'_id': 6, 'item': 't1', 'type': 'toys', 'quantity': 500}\n",
      "{'_id': 7, 'item': 'a1', 'type': 'apparel', 'quantity': 250}\n",
      "{'_id': 8, 'item': 'a2', 'type': 'apparel', 'quantity': 400}\n",
      "{'_id': 9, 'item': 't2', 'type': 'toys', 'quantity': 50}\n",
      "{'_id': 10, 'item': 'f4', 'type': 'food', 'quantity': 75}\n"
     ]
    }
   ],
   "source": [
    "for x in inventory_col.find():\n",
    "    print(x)"
   ]
  },
  {
   "cell_type": "code",
   "execution_count": 182,
   "metadata": {},
   "outputs": [
    {
     "name": "stdout",
     "output_type": "stream",
     "text": [
      "{'_id': ObjectId('60b7e9aa25e54a27b0bc2d40'), 'item': 'IJK2', 'details': {'model': '14Q2', 'manufacturer': 'M5 Corporation'}, 'stock': [{'size': 'S', 'qty': 5}, {'size': 'L', 'qty': 1}], 'category': 'houseware'}\n",
      "{'_id': ObjectId('60b7ec2325e54a27b0bc2d42'), 'item': 'ZYT1', 'details': {'model': '14Q1', 'manufacturer': 'ABC Company'}, 'stock': [{'size': 'S', 'qty': 5}, {'size': 'M', 'qty': 5}], 'category': 'houseware'}\n"
     ]
    }
   ],
   "source": [
    "for x in inventory_col.find({'category':\"houseware\"}):\n",
    "    print(x)"
   ]
  },
  {
   "cell_type": "code",
   "execution_count": 183,
   "metadata": {},
   "outputs": [
    {
     "name": "stdout",
     "output_type": "stream",
     "text": [
      "{'_id': ObjectId('60b7e9aa25e54a27b0bc2d3e'), 'item': 'ABC2', 'details': {'model': '14Q3', 'manufacturer': 'M1 Corporation'}, 'stock': [{'size': 'M', 'qty': 50}], 'category': 'clothing'}\n",
      "{'_id': ObjectId('60b7e9aa25e54a27b0bc2d3f'), 'item': 'MNO2', 'details': {'model': '14Q3', 'manufacturer': 'ABC Company'}, 'stock': [{'size': 'S', 'qty': 5}, {'size': 'M', 'qty': 5}, {'size': 'L', 'qty': 1}], 'category': 'clothing'}\n",
      "{'_id': ObjectId('60b7ec2325e54a27b0bc2d42'), 'item': 'ZYT1', 'details': {'model': '14Q1', 'manufacturer': 'ABC Company'}, 'stock': [{'size': 'S', 'qty': 5}, {'size': 'M', 'qty': 5}], 'category': 'houseware'}\n"
     ]
    }
   ],
   "source": [
    "for x in inventory_col.find({'stock.size':\"M\"}):\n",
    "    print(x)"
   ]
  },
  {
   "cell_type": "code",
   "execution_count": 184,
   "metadata": {},
   "outputs": [],
   "source": [
    "# # create a new database name business\n",
    "db=client.business\n",
    "# #Step 2: Create sample data\n",
    "# names = ['Kitchen','Animal','State', 'Tastey', 'Big','City','Fish', 'Pizza','Goat', 'Salty','Sandwich','Lazy', 'Fun']\n",
    "# company_type = ['LLC','Inc','Company','Corporation']\n",
    "# company_cuisine = ['Pizza', 'Bar Food', 'Fast Food', 'Italian', 'Mexican', 'American', 'Sushi Bar', 'Vegetarian']\n",
    "# for x in range(1, 501):\n",
    "#     business = {\n",
    "#         'name' : names[randint(0, (len(names)-1))] + ' ' + names[randint(0, (len(names)-1))]  + ' ' + company_type[randint(0, (len(company_type)-1))],\n",
    "#         'rating' : randint(1, 5),\n",
    "#         'cuisine' : company_cuisine[randint(0, (len(company_cuisine)-1))] \n",
    "#     }\n",
    "#     #Step 3: Insert business object directly into MongoDB via isnert_one\n",
    "#     result=db.reviews.insert_one(business)\n",
    "#     #Step 4: Print to the console the ObjectID of the new document\n",
    "#     print('Created {0} of 500 as {1}'.format(x,result.inserted_id))\n",
    "# #Step 5: Tell us that you are done\n",
    "# print('finished creating 500 business reviews')"
   ]
  },
  {
   "cell_type": "code",
   "execution_count": 186,
   "metadata": {},
   "outputs": [
    {
     "name": "stdout",
     "output_type": "stream",
     "text": [
      "{'_id': ObjectId('60c091c8d87a365788c63e39'), 'name': 'Animal Goat Corporation', 'rating': 3, 'cuisine': 'Sushi Bar'}\n",
      "{'_id': ObjectId('60c091c8d87a365788c63e3a'), 'name': 'Fun Fish LLC', 'rating': 5, 'cuisine': 'Pizza'}\n",
      "{'_id': ObjectId('60c091c8d87a365788c63e3b'), 'name': 'Pizza Big Company', 'rating': 2, 'cuisine': 'Sushi Bar'}\n",
      "{'_id': ObjectId('60c091c8d87a365788c63e3c'), 'name': 'Animal Lazy Inc', 'rating': 5, 'cuisine': 'Bar Food'}\n",
      "{'_id': ObjectId('60c091c8d87a365788c63e3d'), 'name': 'Big State Inc', 'rating': 3, 'cuisine': 'Mexican'}\n",
      "{'_id': ObjectId('60c091c8d87a365788c63e3e'), 'name': 'Tastey Fun Company', 'rating': 4, 'cuisine': 'Fast Food'}\n",
      "{'_id': ObjectId('60c091c8d87a365788c63e3f'), 'name': 'Animal Kitchen Corporation', 'rating': 4, 'cuisine': 'Bar Food'}\n",
      "{'_id': ObjectId('60c091c8d87a365788c63e40'), 'name': 'Animal Big Company', 'rating': 4, 'cuisine': 'Pizza'}\n",
      "{'_id': ObjectId('60c091c8d87a365788c63e41'), 'name': 'Big Lazy Inc', 'rating': 3, 'cuisine': 'Sushi Bar'}\n",
      "{'_id': ObjectId('60c091c8d87a365788c63e42'), 'name': 'Goat City Corporation', 'rating': 4, 'cuisine': 'Fast Food'}\n"
     ]
    }
   ],
   "source": [
    "for x in db.reviews.find().limit(10):\n",
    "    print(x)"
   ]
  },
  {
   "cell_type": "code",
   "execution_count": 187,
   "metadata": {},
   "outputs": [
    {
     "name": "stdout",
     "output_type": "stream",
     "text": [
      "{'_id': ObjectId('60c091c8d87a365788c63e40'), 'name': 'Animal Big Company', 'rating': 4, 'cuisine': 'Pizza'}\n",
      "{'_id': ObjectId('60c091c8d87a365788c63e69'), 'name': 'Animal Big Company', 'rating': 3, 'cuisine': 'Fast Food'}\n"
     ]
    }
   ],
   "source": [
    "for x in db.reviews.find({'name':\"Animal Big Company\"}).sort('name',-1):\n",
    "    print(x)"
   ]
  },
  {
   "cell_type": "code",
   "execution_count": 188,
   "metadata": {},
   "outputs": [
    {
     "name": "stdout",
     "output_type": "stream",
     "text": [
      "{'_id': ObjectId('60c091c8d87a365788c63e4d'), 'name': 'Tastey Fun Company', 'rating': 1, 'cuisine': 'American'}\n",
      "{'_id': ObjectId('60c091c8d87a365788c63e43'), 'name': 'City Fish Company', 'rating': 1, 'cuisine': 'Fast Food'}\n",
      "{'_id': ObjectId('60c091c8d87a365788c63e4b'), 'name': 'Lazy Salty Corporation', 'rating': 1, 'cuisine': 'Bar Food'}\n",
      "{'_id': ObjectId('60c091c8d87a365788c63e45'), 'name': 'Tastey Pizza Inc', 'rating': 1, 'cuisine': 'Pizza'}\n"
     ]
    }
   ],
   "source": [
    "for x in db.reviews.find({}).sort('rating',1).limit(4):\n",
    "    print(x)"
   ]
  },
  {
   "cell_type": "code",
   "execution_count": 189,
   "metadata": {},
   "outputs": [
    {
     "name": "stdout",
     "output_type": "stream",
     "text": [
      "{'_id': ObjectId('60c091c8d87a365788c63e3a'), 'name': 'Fun Fish LLC', 'rating': 5, 'cuisine': 'Pizza'}\n"
     ]
    }
   ],
   "source": [
    "print(db.reviews.find_one({'rating': 5}))"
   ]
  },
  {
   "cell_type": "code",
   "execution_count": 190,
   "metadata": {},
   "outputs": [
    {
     "name": "stderr",
     "output_type": "stream",
     "text": [
      "C:\\Anaconda3\\lib\\site-packages\\ipykernel_launcher.py:1: DeprecationWarning: count is deprecated. Use estimated_document_count or count_documents instead. Please note that $where must be replaced by $expr, $near must be replaced by $geoWithin with $center, and $nearSphere must be replaced by $geoWithin with $centerSphere\n",
      "  \"\"\"Entry point for launching an IPython kernel.\n"
     ]
    },
    {
     "data": {
      "text/plain": [
       "500"
      ]
     },
     "execution_count": 190,
     "metadata": {},
     "output_type": "execute_result"
    }
   ],
   "source": [
    "db.reviews.count()"
   ]
  },
  {
   "cell_type": "code",
   "execution_count": 191,
   "metadata": {},
   "outputs": [
    {
     "name": "stdout",
     "output_type": "stream",
     "text": [
      "{'_id': ObjectId('60c091c8d87a365788c63e3a'), 'name': 'Fun Fish LLC', 'rating': 5, 'cuisine': 'Pizza'}\n",
      "{'_id': ObjectId('60c091c8d87a365788c63e3c'), 'name': 'Animal Lazy Inc', 'rating': 5, 'cuisine': 'Bar Food'}\n",
      "{'_id': ObjectId('60c091c8d87a365788c63e3e'), 'name': 'Tastey Fun Company', 'rating': 4, 'cuisine': 'Fast Food'}\n",
      "{'_id': ObjectId('60c091c8d87a365788c63e3f'), 'name': 'Animal Kitchen Corporation', 'rating': 4, 'cuisine': 'Bar Food'}\n",
      "{'_id': ObjectId('60c091c8d87a365788c63e40'), 'name': 'Animal Big Company', 'rating': 4, 'cuisine': 'Pizza'}\n",
      "{'_id': ObjectId('60c091c8d87a365788c63e42'), 'name': 'Goat City Corporation', 'rating': 4, 'cuisine': 'Fast Food'}\n",
      "{'_id': ObjectId('60c091c8d87a365788c63e46'), 'name': 'Lazy Goat LLC', 'rating': 5, 'cuisine': 'Sushi Bar'}\n",
      "{'_id': ObjectId('60c091c8d87a365788c63e4e'), 'name': 'Goat Pizza LLC', 'rating': 5, 'cuisine': 'Sushi Bar'}\n",
      "{'_id': ObjectId('60c091c8d87a365788c63e51'), 'name': 'Lazy Sandwich Corporation', 'rating': 4, 'cuisine': 'Pizza'}\n",
      "{'_id': ObjectId('60c091c8d87a365788c63e52'), 'name': 'Goat Kitchen LLC', 'rating': 5, 'cuisine': 'Mexican'}\n"
     ]
    }
   ],
   "source": [
    "for x in  db.reviews.find({'rating':{'$gte':4}}).limit(10):\n",
    "    print(x)"
   ]
  },
  {
   "cell_type": "code",
   "execution_count": 192,
   "metadata": {},
   "outputs": [
    {
     "name": "stdout",
     "output_type": "stream",
     "text": [
      "{'_id': ObjectId('60c091c8d87a365788c63e39'), 'name': 'Animal Goat Corporation', 'rating': 3, 'cuisine': 'Sushi Bar'}\n",
      "{'_id': ObjectId('60c091c8d87a365788c63e3a'), 'name': 'Fun Fish LLC', 'rating': 5, 'cuisine': 'Pizza'}\n",
      "{'_id': ObjectId('60c091c8d87a365788c63e3c'), 'name': 'Animal Lazy Inc', 'rating': 5, 'cuisine': 'Bar Food'}\n",
      "{'_id': ObjectId('60c091c8d87a365788c63e3d'), 'name': 'Big State Inc', 'rating': 3, 'cuisine': 'Mexican'}\n",
      "{'_id': ObjectId('60c091c8d87a365788c63e41'), 'name': 'Big Lazy Inc', 'rating': 3, 'cuisine': 'Sushi Bar'}\n",
      "{'_id': ObjectId('60c091c8d87a365788c63e43'), 'name': 'City Fish Company', 'rating': 1, 'cuisine': 'Fast Food'}\n",
      "{'_id': ObjectId('60c091c8d87a365788c63e44'), 'name': 'Kitchen Sandwich Inc', 'rating': 3, 'cuisine': 'Sushi Bar'}\n",
      "{'_id': ObjectId('60c091c8d87a365788c63e45'), 'name': 'Tastey Pizza Inc', 'rating': 1, 'cuisine': 'Pizza'}\n",
      "{'_id': ObjectId('60c091c8d87a365788c63e46'), 'name': 'Lazy Goat LLC', 'rating': 5, 'cuisine': 'Sushi Bar'}\n",
      "{'_id': ObjectId('60c091c8d87a365788c63e47'), 'name': 'Fish Tastey Company', 'rating': 3, 'cuisine': 'Bar Food'}\n"
     ]
    }
   ],
   "source": [
    "for x in  db.reviews.find({'rating':{'$in':[1,3,5]}}).limit(10):\n",
    "    print(x)"
   ]
  },
  {
   "cell_type": "code",
   "execution_count": 193,
   "metadata": {},
   "outputs": [
    {
     "name": "stdout",
     "output_type": "stream",
     "text": [
      "{'_id': ObjectId('60c091c8d87a365788c63e41'), 'name': 'Big Lazy Inc', 'rating': 3, 'cuisine': 'Sushi Bar'}\n",
      "{'_id': ObjectId('60c091c8d87a365788c63e46'), 'name': 'Lazy Goat LLC', 'rating': 5, 'cuisine': 'Sushi Bar'}\n",
      "{'_id': ObjectId('60c091c8d87a365788c63e58'), 'name': 'Big Lazy Inc', 'rating': 4, 'cuisine': 'Fast Food'}\n",
      "{'_id': ObjectId('60c091c9d87a365788c63ff3'), 'name': 'Lazy Goat LLC', 'rating': 3, 'cuisine': 'Bar Food'}\n"
     ]
    }
   ],
   "source": [
    "for x in  db.reviews.find({'name':{'$in':['Big Lazy Inc','Lazy Goat LLC']}}).limit(10):\n",
    "    print(x)"
   ]
  },
  {
   "cell_type": "markdown",
   "metadata": {},
   "source": [
    "select documents containing names not in the list\n",
    "db.reviews.find({name:{$nin:['Big Lazy Inc','Lazy Goat LLC']}}).limit(10):"
   ]
  },
  {
   "cell_type": "code",
   "execution_count": 194,
   "metadata": {},
   "outputs": [
    {
     "name": "stdout",
     "output_type": "stream",
     "text": [
      "{'_id': ObjectId('60c091c8d87a365788c63e39'), 'name': 'Animal Goat Corporation', 'rating': 3, 'cuisine': 'Sushi Bar'}\n",
      "{'_id': ObjectId('60c091c8d87a365788c63e3a'), 'name': 'Fun Fish LLC', 'rating': 5, 'cuisine': 'Pizza'}\n",
      "{'_id': ObjectId('60c091c8d87a365788c63e3b'), 'name': 'Pizza Big Company', 'rating': 2, 'cuisine': 'Sushi Bar'}\n",
      "{'_id': ObjectId('60c091c8d87a365788c63e3c'), 'name': 'Animal Lazy Inc', 'rating': 5, 'cuisine': 'Bar Food'}\n",
      "{'_id': ObjectId('60c091c8d87a365788c63e3d'), 'name': 'Big State Inc', 'rating': 3, 'cuisine': 'Mexican'}\n",
      "{'_id': ObjectId('60c091c8d87a365788c63e3e'), 'name': 'Tastey Fun Company', 'rating': 4, 'cuisine': 'Fast Food'}\n",
      "{'_id': ObjectId('60c091c8d87a365788c63e3f'), 'name': 'Animal Kitchen Corporation', 'rating': 4, 'cuisine': 'Bar Food'}\n",
      "{'_id': ObjectId('60c091c8d87a365788c63e40'), 'name': 'Animal Big Company', 'rating': 4, 'cuisine': 'Pizza'}\n",
      "{'_id': ObjectId('60c091c8d87a365788c63e42'), 'name': 'Goat City Corporation', 'rating': 4, 'cuisine': 'Fast Food'}\n",
      "{'_id': ObjectId('60c091c8d87a365788c63e43'), 'name': 'City Fish Company', 'rating': 1, 'cuisine': 'Fast Food'}\n"
     ]
    }
   ],
   "source": [
    "for x in  db.reviews.find({'name':{'$nin':['Big Lazy Inc','Lazy Goat LLC']}}).limit(10):\n",
    "    print(x)"
   ]
  },
  {
   "cell_type": "code",
   "execution_count": 195,
   "metadata": {},
   "outputs": [
    {
     "name": "stdout",
     "output_type": "stream",
     "text": [
      "{'_id': ObjectId('60c091c8d87a365788c63e41'), 'name': 'Big Lazy Inc', 'rating': 3, 'cuisine': 'Sushi Bar'}\n",
      "{'_id': ObjectId('60c091c8d87a365788c63e43'), 'name': 'City Fish Company', 'rating': 1, 'cuisine': 'Fast Food'}\n",
      "{'_id': ObjectId('60c091c8d87a365788c63e46'), 'name': 'Lazy Goat LLC', 'rating': 5, 'cuisine': 'Sushi Bar'}\n",
      "{'_id': ObjectId('60c091c8d87a365788c63e58'), 'name': 'Big Lazy Inc', 'rating': 4, 'cuisine': 'Fast Food'}\n",
      "{'_id': ObjectId('60c091c9d87a365788c63f7b'), 'name': 'City Fish Company', 'rating': 1, 'cuisine': 'Mexican'}\n",
      "{'_id': ObjectId('60c091c9d87a365788c63ff3'), 'name': 'Lazy Goat LLC', 'rating': 3, 'cuisine': 'Bar Food'}\n"
     ]
    }
   ],
   "source": [
    "for x in  db.reviews.find({'$or':[{'name':'Big Lazy Inc'},{'name':'Lazy Goat LLC'},\n",
    "                                 {'name': 'City Fish Company'}]}).limit(10):\n",
    "    print(x)"
   ]
  },
  {
   "cell_type": "code",
   "execution_count": 196,
   "metadata": {},
   "outputs": [
    {
     "name": "stdout",
     "output_type": "stream",
     "text": [
      "{'_id': ObjectId('60c091c8d87a365788c63e58'), 'name': 'Big Lazy Inc', 'rating': 4, 'cuisine': 'Fast Food'}\n"
     ]
    }
   ],
   "source": [
    "for x in  db.reviews.find({'$and':[{'name':'Big Lazy Inc'},{'rating':4}]}).limit(10):\n",
    "    print(x)"
   ]
  },
  {
   "cell_type": "markdown",
   "metadata": {},
   "source": [
    "# OR"
   ]
  },
  {
   "cell_type": "code",
   "execution_count": 198,
   "metadata": {},
   "outputs": [
    {
     "name": "stdout",
     "output_type": "stream",
     "text": [
      "{'_id': ObjectId('60c091c8d87a365788c63e58'), 'name': 'Big Lazy Inc', 'rating': 4, 'cuisine': 'Fast Food'}\n"
     ]
    }
   ],
   "source": [
    "for x in  db.reviews.find({'name':'Big Lazy Inc','rating':4}).limit(10):\n",
    "    print(x)"
   ]
  },
  {
   "cell_type": "markdown",
   "metadata": {},
   "source": [
    "# Elemenst Operators"
   ]
  },
  {
   "cell_type": "markdown",
   "metadata": {},
   "source": [
    "select documents where name Field exists"
   ]
  },
  {
   "cell_type": "code",
   "execution_count": 199,
   "metadata": {
    "scrolled": true
   },
   "outputs": [
    {
     "name": "stdout",
     "output_type": "stream",
     "text": [
      "{'_id': ObjectId('60c091c8d87a365788c63e39'), 'name': 'Animal Goat Corporation', 'rating': 3, 'cuisine': 'Sushi Bar'}\n",
      "{'_id': ObjectId('60c091c8d87a365788c63e3a'), 'name': 'Fun Fish LLC', 'rating': 5, 'cuisine': 'Pizza'}\n",
      "{'_id': ObjectId('60c091c8d87a365788c63e3b'), 'name': 'Pizza Big Company', 'rating': 2, 'cuisine': 'Sushi Bar'}\n",
      "{'_id': ObjectId('60c091c8d87a365788c63e3c'), 'name': 'Animal Lazy Inc', 'rating': 5, 'cuisine': 'Bar Food'}\n"
     ]
    }
   ],
   "source": [
    "for x in  db.reviews.find({'name':{'$exists':True}}).limit(4):\n",
    "    print(x)"
   ]
  },
  {
   "cell_type": "markdown",
   "metadata": {},
   "source": [
    "# projections (selecting certain columns as in sql) \n",
    "\n",
    "***Return Specified Fields Only***\n",
    "\n",
    "You can remove the _id field from the results by specifying its exclusion in the projection, as in the followingexample:"
   ]
  },
  {
   "cell_type": "code",
   "execution_count": 200,
   "metadata": {},
   "outputs": [
    {
     "name": "stdout",
     "output_type": "stream",
     "text": [
      "{'name': 'Big Lazy Inc', 'rating': 3, 'cuisine': 'Sushi Bar'}\n",
      "{'name': 'City Fish Company', 'rating': 1, 'cuisine': 'Fast Food'}\n",
      "{'name': 'Lazy Goat LLC', 'rating': 5, 'cuisine': 'Sushi Bar'}\n",
      "{'name': 'Big Lazy Inc', 'rating': 4, 'cuisine': 'Fast Food'}\n",
      "{'name': 'City Fish Company', 'rating': 1, 'cuisine': 'Mexican'}\n",
      "{'name': 'Lazy Goat LLC', 'rating': 3, 'cuisine': 'Bar Food'}\n"
     ]
    }
   ],
   "source": [
    "for x in  db.reviews.find({'$or':[{'name':'Big Lazy Inc'},{'name':'Lazy Goat LLC'},\n",
    "                                 {'name': 'City Fish Company'}]},\n",
    "                          {'rating':1,'name':1,'cuisine':1,'_id':0}).limit(10):\n",
    "    print(x)"
   ]
  },
  {
   "cell_type": "code",
   "execution_count": 201,
   "metadata": {},
   "outputs": [
    {
     "name": "stdout",
     "output_type": "stream",
     "text": [
      "{'_id': ObjectId('60c091c8d87a365788c63e41'), 'name': 'Big Lazy Inc', 'cuisine': 'Sushi Bar'}\n",
      "{'_id': ObjectId('60c091c8d87a365788c63e43'), 'name': 'City Fish Company', 'cuisine': 'Fast Food'}\n",
      "{'_id': ObjectId('60c091c8d87a365788c63e46'), 'name': 'Lazy Goat LLC', 'cuisine': 'Sushi Bar'}\n",
      "{'_id': ObjectId('60c091c8d87a365788c63e58'), 'name': 'Big Lazy Inc', 'cuisine': 'Fast Food'}\n",
      "{'_id': ObjectId('60c091c9d87a365788c63f7b'), 'name': 'City Fish Company', 'cuisine': 'Mexican'}\n",
      "{'_id': ObjectId('60c091c9d87a365788c63ff3'), 'name': 'Lazy Goat LLC', 'cuisine': 'Bar Food'}\n"
     ]
    }
   ],
   "source": [
    "for x in  db.reviews.find({'$or':[{'name':'Big Lazy Inc'},{'name':'Lazy Goat LLC'},\n",
    "                                 {'name': 'City Fish Company'}]},{'name':1,'cuisine':1}).limit(10):\n",
    "    print(x)"
   ]
  },
  {
   "cell_type": "code",
   "execution_count": 136,
   "metadata": {},
   "outputs": [],
   "source": [
    "import numpy as np\n",
    "import pandas as pd"
   ]
  },
  {
   "cell_type": "markdown",
   "metadata": {},
   "source": [
    "# Saving the data into a csv file"
   ]
  },
  {
   "cell_type": "code",
   "execution_count": 202,
   "metadata": {},
   "outputs": [
    {
     "data": {
      "text/plain": [
       "[{'name': 'Fun Fish LLC', 'rating': 5, 'cuisine': 'Pizza'},\n",
       " {'name': 'Pizza Big Company', 'rating': 2, 'cuisine': 'Sushi Bar'},\n",
       " {'name': 'Animal Lazy Inc', 'rating': 5, 'cuisine': 'Bar Food'}]"
      ]
     },
     "execution_count": 202,
     "metadata": {},
     "output_type": "execute_result"
    }
   ],
   "source": [
    "data=[x for x in db.reviews.find({},{'_id':0})]\n",
    "data[1:4]"
   ]
  },
  {
   "cell_type": "code",
   "execution_count": 204,
   "metadata": {},
   "outputs": [
    {
     "data": {
      "text/html": [
       "<div>\n",
       "<style scoped>\n",
       "    .dataframe tbody tr th:only-of-type {\n",
       "        vertical-align: middle;\n",
       "    }\n",
       "\n",
       "    .dataframe tbody tr th {\n",
       "        vertical-align: top;\n",
       "    }\n",
       "\n",
       "    .dataframe thead th {\n",
       "        text-align: right;\n",
       "    }\n",
       "</style>\n",
       "<table border=\"1\" class=\"dataframe\">\n",
       "  <thead>\n",
       "    <tr style=\"text-align: right;\">\n",
       "      <th></th>\n",
       "      <th>name</th>\n",
       "      <th>rating</th>\n",
       "      <th>cuisine</th>\n",
       "    </tr>\n",
       "  </thead>\n",
       "  <tbody>\n",
       "    <tr>\n",
       "      <th>0</th>\n",
       "      <td>Animal Goat Corporation</td>\n",
       "      <td>3</td>\n",
       "      <td>Sushi Bar</td>\n",
       "    </tr>\n",
       "    <tr>\n",
       "      <th>1</th>\n",
       "      <td>Fun Fish LLC</td>\n",
       "      <td>5</td>\n",
       "      <td>Pizza</td>\n",
       "    </tr>\n",
       "    <tr>\n",
       "      <th>2</th>\n",
       "      <td>Pizza Big Company</td>\n",
       "      <td>2</td>\n",
       "      <td>Sushi Bar</td>\n",
       "    </tr>\n",
       "    <tr>\n",
       "      <th>3</th>\n",
       "      <td>Animal Lazy Inc</td>\n",
       "      <td>5</td>\n",
       "      <td>Bar Food</td>\n",
       "    </tr>\n",
       "    <tr>\n",
       "      <th>4</th>\n",
       "      <td>Big State Inc</td>\n",
       "      <td>3</td>\n",
       "      <td>Mexican</td>\n",
       "    </tr>\n",
       "    <tr>\n",
       "      <th>5</th>\n",
       "      <td>Tastey Fun Company</td>\n",
       "      <td>4</td>\n",
       "      <td>Fast Food</td>\n",
       "    </tr>\n",
       "    <tr>\n",
       "      <th>6</th>\n",
       "      <td>Animal Kitchen Corporation</td>\n",
       "      <td>4</td>\n",
       "      <td>Bar Food</td>\n",
       "    </tr>\n",
       "    <tr>\n",
       "      <th>7</th>\n",
       "      <td>Animal Big Company</td>\n",
       "      <td>4</td>\n",
       "      <td>Pizza</td>\n",
       "    </tr>\n",
       "    <tr>\n",
       "      <th>8</th>\n",
       "      <td>Big Lazy Inc</td>\n",
       "      <td>3</td>\n",
       "      <td>Sushi Bar</td>\n",
       "    </tr>\n",
       "    <tr>\n",
       "      <th>9</th>\n",
       "      <td>Goat City Corporation</td>\n",
       "      <td>4</td>\n",
       "      <td>Fast Food</td>\n",
       "    </tr>\n",
       "    <tr>\n",
       "      <th>10</th>\n",
       "      <td>City Fish Company</td>\n",
       "      <td>1</td>\n",
       "      <td>Fast Food</td>\n",
       "    </tr>\n",
       "    <tr>\n",
       "      <th>11</th>\n",
       "      <td>Kitchen Sandwich Inc</td>\n",
       "      <td>3</td>\n",
       "      <td>Sushi Bar</td>\n",
       "    </tr>\n",
       "    <tr>\n",
       "      <th>12</th>\n",
       "      <td>Tastey Pizza Inc</td>\n",
       "      <td>1</td>\n",
       "      <td>Pizza</td>\n",
       "    </tr>\n",
       "    <tr>\n",
       "      <th>13</th>\n",
       "      <td>Lazy Goat LLC</td>\n",
       "      <td>5</td>\n",
       "      <td>Sushi Bar</td>\n",
       "    </tr>\n",
       "    <tr>\n",
       "      <th>14</th>\n",
       "      <td>Fish Tastey Company</td>\n",
       "      <td>3</td>\n",
       "      <td>Bar Food</td>\n",
       "    </tr>\n",
       "    <tr>\n",
       "      <th>15</th>\n",
       "      <td>Fish State LLC</td>\n",
       "      <td>2</td>\n",
       "      <td>Fast Food</td>\n",
       "    </tr>\n",
       "    <tr>\n",
       "      <th>16</th>\n",
       "      <td>City Kitchen LLC</td>\n",
       "      <td>3</td>\n",
       "      <td>Bar Food</td>\n",
       "    </tr>\n",
       "    <tr>\n",
       "      <th>17</th>\n",
       "      <td>Sandwich Fun LLC</td>\n",
       "      <td>3</td>\n",
       "      <td>Vegetarian</td>\n",
       "    </tr>\n",
       "    <tr>\n",
       "      <th>18</th>\n",
       "      <td>Lazy Salty Corporation</td>\n",
       "      <td>1</td>\n",
       "      <td>Bar Food</td>\n",
       "    </tr>\n",
       "    <tr>\n",
       "      <th>19</th>\n",
       "      <td>Kitchen Big Corporation</td>\n",
       "      <td>2</td>\n",
       "      <td>Fast Food</td>\n",
       "    </tr>\n",
       "  </tbody>\n",
       "</table>\n",
       "</div>"
      ],
      "text/plain": [
       "                          name  rating     cuisine\n",
       "0      Animal Goat Corporation       3   Sushi Bar\n",
       "1                 Fun Fish LLC       5       Pizza\n",
       "2            Pizza Big Company       2   Sushi Bar\n",
       "3              Animal Lazy Inc       5    Bar Food\n",
       "4                Big State Inc       3     Mexican\n",
       "5           Tastey Fun Company       4   Fast Food\n",
       "6   Animal Kitchen Corporation       4    Bar Food\n",
       "7           Animal Big Company       4       Pizza\n",
       "8                 Big Lazy Inc       3   Sushi Bar\n",
       "9        Goat City Corporation       4   Fast Food\n",
       "10           City Fish Company       1   Fast Food\n",
       "11        Kitchen Sandwich Inc       3   Sushi Bar\n",
       "12            Tastey Pizza Inc       1       Pizza\n",
       "13               Lazy Goat LLC       5   Sushi Bar\n",
       "14         Fish Tastey Company       3    Bar Food\n",
       "15              Fish State LLC       2   Fast Food\n",
       "16            City Kitchen LLC       3    Bar Food\n",
       "17            Sandwich Fun LLC       3  Vegetarian\n",
       "18      Lazy Salty Corporation       1    Bar Food\n",
       "19     Kitchen Big Corporation       2   Fast Food"
      ]
     },
     "execution_count": 204,
     "metadata": {},
     "output_type": "execute_result"
    }
   ],
   "source": [
    "data_csv=pd.DataFrame.from_dict(data,orient='columns')\n",
    "data_csv.head(20)"
   ]
  },
  {
   "cell_type": "code",
   "execution_count": null,
   "metadata": {},
   "outputs": [],
   "source": []
  }
 ],
 "metadata": {
  "kernelspec": {
   "display_name": "Python 3",
   "language": "python",
   "name": "python3"
  },
  "language_info": {
   "codemirror_mode": {
    "name": "ipython",
    "version": 3
   },
   "file_extension": ".py",
   "mimetype": "text/x-python",
   "name": "python",
   "nbconvert_exporter": "python",
   "pygments_lexer": "ipython3",
   "version": "3.6.5"
  },
  "latex_envs": {
   "LaTeX_envs_menu_present": true,
   "autoclose": false,
   "autocomplete": true,
   "bibliofile": "biblio.bib",
   "cite_by": "apalike",
   "current_citInitial": 1,
   "eqLabelWithNumbers": true,
   "eqNumInitial": 1,
   "hotkeys": {
    "equation": "Ctrl-E",
    "itemize": "Ctrl-I"
   },
   "labels_anchors": false,
   "latex_user_defs": false,
   "report_style_numbering": false,
   "user_envs_cfg": false
  },
  "nbTranslate": {
   "displayLangs": [
    "*"
   ],
   "hotkey": "alt-t",
   "langInMainMenu": true,
   "sourceLang": "en",
   "targetLang": "fr",
   "useGoogleTranslate": true
  },
  "toc": {
   "base_numbering": 1,
   "nav_menu": {},
   "number_sections": true,
   "sideBar": true,
   "skip_h1_title": true,
   "title_cell": "Table of Contents",
   "title_sidebar": "Contents",
   "toc_cell": true,
   "toc_position": {},
   "toc_section_display": true,
   "toc_window_display": true
  }
 },
 "nbformat": 4,
 "nbformat_minor": 2
}
