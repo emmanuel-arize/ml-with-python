{
 "cells": [
  {
   "cell_type": "markdown",
   "metadata": {
    "toc": true
   },
   "source": [
    "<h1>Table of Contents<span class=\"tocSkip\"></span></h1>\n",
    "<div class=\"toc\"><ul class=\"toc-item\"></ul></div>"
   ]
  },
  {
   "cell_type": "code",
   "execution_count": 16,
   "metadata": {},
   "outputs": [],
   "source": [
    "from sklearn.model_selection import GridSearchCV\n",
    "from sklearn.linear_model import SGDClassifier\n",
    "from sklearn.neighbors import KNeighborsClassifier\n",
    "from sklearn.ensemble import RandomForestClassifier\n",
    "import numpy as np\n",
    "from sklearn.feature_extraction.text import CountVectorizer,TfidfTransformer\n",
    "from sklearn.datasets import fetch_20newsgroups\n",
    "from sklearn.pipeline import Pipeline"
   ]
  },
  {
   "cell_type": "code",
   "execution_count": 17,
   "metadata": {},
   "outputs": [],
   "source": [
    "categories = ['alt.atheism', 'soc.religion.christian','comp.graphics', 'sci.med','sci.electronics',\n",
    "              'sci.space','talk.politics.guns','talk.politics.mideast','talk.politics.misc',\n",
    "              'talk.religion.misc','misc.forsale']"
   ]
  },
  {
   "cell_type": "code",
   "execution_count": 18,
   "metadata": {},
   "outputs": [],
   "source": [
    "twenty_train=fetch_20newsgroups(subset='train',categories=categories,\n",
    "                                remove=('footers','headers','quotes'))"
   ]
  },
  {
   "cell_type": "code",
   "execution_count": 19,
   "metadata": {},
   "outputs": [],
   "source": [
    "pipeline=Pipeline([('vec',CountVectorizer()),('tf_idf',TfidfTransformer()),\n",
    "             ('sgd',SGDClassifier())])"
   ]
  },
  {
   "cell_type": "code",
   "execution_count": 20,
   "metadata": {},
   "outputs": [
    {
     "data": {
      "text/plain": [
       "{'vec': CountVectorizer(),\n",
       " 'tf_idf': TfidfTransformer(),\n",
       " 'sgd': SGDClassifier()}"
      ]
     },
     "execution_count": 20,
     "metadata": {},
     "output_type": "execute_result"
    }
   ],
   "source": [
    "pipeline.named_steps"
   ]
  },
  {
   "cell_type": "code",
   "execution_count": 25,
   "metadata": {},
   "outputs": [],
   "source": [
    "parameter={'vec__ngram_range':[(1,2),(2,3)],'tf_idf__norm':('l1','l2'),\n",
    "           'tf_idf__use_idf':(True,False),'sgd__alpha':(1e-1, 1e-3),\n",
    "           'sgd__penalty':('l1','l2'),'sgd__max_iter':[10,15] }"
   ]
  },
  {
   "cell_type": "code",
   "execution_count": 26,
   "metadata": {},
   "outputs": [],
   "source": [
    "parameter_search=GridSearchCV(estimator=pipeline,param_grid=parameter,cv=5,n_jobs=-1)"
   ]
  },
  {
   "cell_type": "code",
   "execution_count": 27,
   "metadata": {},
   "outputs": [
    {
     "data": {
      "text/plain": [
       "dict_keys(['memory', 'steps', 'verbose', 'vec', 'tf_idf', 'sgd', 'vec__analyzer', 'vec__binary', 'vec__decode_error', 'vec__dtype', 'vec__encoding', 'vec__input', 'vec__lowercase', 'vec__max_df', 'vec__max_features', 'vec__min_df', 'vec__ngram_range', 'vec__preprocessor', 'vec__stop_words', 'vec__strip_accents', 'vec__token_pattern', 'vec__tokenizer', 'vec__vocabulary', 'tf_idf__norm', 'tf_idf__smooth_idf', 'tf_idf__sublinear_tf', 'tf_idf__use_idf', 'sgd__alpha', 'sgd__average', 'sgd__class_weight', 'sgd__early_stopping', 'sgd__epsilon', 'sgd__eta0', 'sgd__fit_intercept', 'sgd__l1_ratio', 'sgd__learning_rate', 'sgd__loss', 'sgd__max_iter', 'sgd__n_iter_no_change', 'sgd__n_jobs', 'sgd__penalty', 'sgd__power_t', 'sgd__random_state', 'sgd__shuffle', 'sgd__tol', 'sgd__validation_fraction', 'sgd__verbose', 'sgd__warm_start'])"
      ]
     },
     "execution_count": 27,
     "metadata": {},
     "output_type": "execute_result"
    }
   ],
   "source": [
    "parameter_search.estimator.get_params().keys()"
   ]
  },
  {
   "cell_type": "code",
   "execution_count": 28,
   "metadata": {},
   "outputs": [
    {
     "name": "stderr",
     "output_type": "stream",
     "text": [
      "C:\\anaconda\\lib\\site-packages\\sklearn\\linear_model\\_stochastic_gradient.py:574: ConvergenceWarning: Maximum number of iteration reached before convergence. Consider increasing max_iter to improve the fit.\n",
      "  warnings.warn(\"Maximum number of iteration reached before \"\n"
     ]
    },
    {
     "data": {
      "text/plain": [
       "GridSearchCV(cv=5,\n",
       "             estimator=Pipeline(steps=[('vec', CountVectorizer()),\n",
       "                                       ('tf_idf', TfidfTransformer()),\n",
       "                                       ('sgd', SGDClassifier())]),\n",
       "             n_jobs=-1,\n",
       "             param_grid={'sgd__alpha': (0.1, 0.001), 'sgd__max_iter': [10, 15],\n",
       "                         'sgd__penalty': ('l1', 'l2'),\n",
       "                         'tf_idf__norm': ('l1', 'l2'),\n",
       "                         'tf_idf__use_idf': (True, False),\n",
       "                         'vec__ngram_range': [(1, 2), (2, 3)]})"
      ]
     },
     "execution_count": 28,
     "metadata": {},
     "output_type": "execute_result"
    }
   ],
   "source": [
    "parameter_search.fit(twenty_train.data[:500],twenty_train.target[:500])"
   ]
  },
  {
   "cell_type": "markdown",
   "metadata": {},
   "source": [
    "The  best_score_ and  store the best mean score and the best_params_ attributes corresponding to that score"
   ]
  },
  {
   "cell_type": "code",
   "execution_count": 29,
   "metadata": {},
   "outputs": [
    {
     "data": {
      "text/plain": [
       "0.5479999999999999"
      ]
     },
     "execution_count": 29,
     "metadata": {},
     "output_type": "execute_result"
    }
   ],
   "source": [
    "parameter_search.best_score_"
   ]
  },
  {
   "cell_type": "code",
   "execution_count": 30,
   "metadata": {},
   "outputs": [
    {
     "data": {
      "text/plain": [
       "{'sgd__alpha': 0.001,\n",
       " 'sgd__max_iter': 15,\n",
       " 'sgd__penalty': 'l2',\n",
       " 'tf_idf__norm': 'l2',\n",
       " 'tf_idf__use_idf': True,\n",
       " 'vec__ngram_range': (1, 2)}"
      ]
     },
     "execution_count": 30,
     "metadata": {},
     "output_type": "execute_result"
    }
   ],
   "source": [
    "parameter_search.best_params_"
   ]
  },
  {
   "cell_type": "code",
   "execution_count": 31,
   "metadata": {},
   "outputs": [
    {
     "data": {
      "text/plain": [
       "Pipeline(steps=[('vec', CountVectorizer(ngram_range=(1, 2))),\n",
       "                ('tf_idf', TfidfTransformer()),\n",
       "                ('sgd', SGDClassifier(alpha=0.001, max_iter=15))])"
      ]
     },
     "execution_count": 31,
     "metadata": {},
     "output_type": "execute_result"
    }
   ],
   "source": [
    "parameter_search.best_estimator_"
   ]
  },
  {
   "cell_type": "code",
   "execution_count": 33,
   "metadata": {},
   "outputs": [
    {
     "name": "stdout",
     "output_type": "stream",
     "text": [
      "God is good           =========>  soc.religion.christian\n",
      "who is your creator           =========>  alt.atheism\n",
      "OpenGL on the GPU is fast           =========>  comp.graphics\n",
      "I am selling my car           =========>  misc.forsale\n",
      "i will pray tonight           =========>  soc.religion.christian\n"
     ]
    }
   ],
   "source": [
    "docs_new = ['God is good','who is your creator', 'OpenGL on the GPU is fast',\n",
    "            'I am selling my car','i will pray tonight']\n",
    "predict=parameter_search.predict(docs_new)\n",
    "for doc, pred in zip(docs_new,predict):\n",
    "    print('{}           =========>  {}'.format(doc,twenty_train.target_names[pred]))"
   ]
  },
  {
   "cell_type": "code",
   "execution_count": 34,
   "metadata": {},
   "outputs": [],
   "source": [
    "clf=Pipeline(steps=[('vec', CountVectorizer(ngram_range=(1, 2))),\n",
    "                ('tf_idf', TfidfTransformer()),\n",
    "                ('sgd', SGDClassifier(alpha=0.001))])"
   ]
  },
  {
   "cell_type": "code",
   "execution_count": null,
   "metadata": {},
   "outputs": [],
   "source": []
  }
 ],
 "metadata": {
  "kernelspec": {
   "display_name": "Python 3",
   "language": "python",
   "name": "python3"
  },
  "language_info": {
   "codemirror_mode": {
    "name": "ipython",
    "version": 3
   },
   "file_extension": ".py",
   "mimetype": "text/x-python",
   "name": "python",
   "nbconvert_exporter": "python",
   "pygments_lexer": "ipython3",
   "version": "3.8.8"
  },
  "latex_envs": {
   "LaTeX_envs_menu_present": true,
   "autoclose": false,
   "autocomplete": true,
   "bibliofile": "biblio.bib",
   "cite_by": "apalike",
   "current_citInitial": 1,
   "eqLabelWithNumbers": true,
   "eqNumInitial": 1,
   "hotkeys": {
    "equation": "Ctrl-E",
    "itemize": "Ctrl-I"
   },
   "labels_anchors": false,
   "latex_user_defs": false,
   "report_style_numbering": false,
   "user_envs_cfg": false
  },
  "nbTranslate": {
   "displayLangs": [
    "*"
   ],
   "hotkey": "alt-t",
   "langInMainMenu": true,
   "sourceLang": "en",
   "targetLang": "fr",
   "useGoogleTranslate": true
  },
  "toc": {
   "base_numbering": 1,
   "nav_menu": {},
   "number_sections": true,
   "sideBar": true,
   "skip_h1_title": true,
   "title_cell": "Table of Contents",
   "title_sidebar": "Contents",
   "toc_cell": true,
   "toc_position": {},
   "toc_section_display": true,
   "toc_window_display": true
  }
 },
 "nbformat": 4,
 "nbformat_minor": 2
}
