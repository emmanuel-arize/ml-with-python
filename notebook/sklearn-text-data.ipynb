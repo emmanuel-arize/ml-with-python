{
 "cells": [
  {
   "cell_type": "markdown",
   "metadata": {
    "toc": true
   },
   "source": [
    "<h1>Table of Contents<span class=\"tocSkip\"></span></h1>\n",
    "<div class=\"toc\"><ul class=\"toc-item\"><li><span><a href=\"#Organization\" data-toc-modified-id=\"Organization-1\"><span class=\"toc-item-num\">1&nbsp;&nbsp;</span>Organization</a></span></li></ul></div>"
   ]
  },
  {
   "cell_type": "markdown",
   "metadata": {},
   "source": [
    "The dataset is called “Twenty Newsgroups”. Here is the official description, quoted from the website:\n",
    "The 20 Newsgroups data set is a collection of approximately 20,000 newsgroup documents, partitioned\n",
    "(nearly) evenly across 20 different newsgroups. To the best of our knowledge, it was originally collected\n",
    "by Ken Lang, probably for his paper “Newsweeder: Learning to filter netnews,” though he does not explicitly mention this collection. The 20 newsgroups collection has become a popular data set for experiments in text applications of machine learning techniques, such as text classification and text clustering\n",
    "\n",
    "## Organization\n",
    "The data is organized into 20 different newsgroups, each corresponding to a different topic. Some of the newsgroups are very closely related to each other (e.g. comp.sys.ibm.pc.hardware / comp.sys.mac.hardware), while others are highly unrelated (e.g misc.forsale / soc.religion.christian). Here is a list of the 20 newsgroups, partitioned (more or less) according to subject matter:\n",
    "\n",
    "comp.graphics,  comp.os.ms-windows.misc, comp.sys.ibm.pc.hardware\n",
    "comp.sys.mac.hardware, comp.windows.x, rec.autos\n",
    "rec.motorcycles, rec.sport.baseball, rec.sport.hockey,\tsci.crypt\n",
    "sci.electronics, sci.med, sci.space, misc.forsale,\ttalk.politics.misc\n",
    ", talk.politics.guns, talk.politics.mideast, \ttalk.religion.misc\n",
    ", alt.atheism, soc.religion.christian\n",
    "</ul>"
   ]
  },
  {
   "cell_type": "code",
   "execution_count": 1,
   "metadata": {},
   "outputs": [],
   "source": [
    "from sklearn.datasets import fetch_20newsgroups\n",
    "from sklearn.pipeline import Pipeline\n",
    "from sklearn.linear_model import SGDClassifier\n",
    "from sklearn import metrics \n",
    "import numpy as np\n",
    "import seaborn as sns\n",
    "import pandas as pd\n",
    "from sklearn.feature_extraction.text import CountVectorizer,TfidfTransformer\n",
    "import matplotlib.pyplot as plt\n",
    "from sklearn.naive_bayes import MultinomialNB\n",
    "from sklearn.svm import SVC"
   ]
  },
  {
   "cell_type": "markdown",
   "metadata": {},
   "source": [
    "we will work on a partial dataset with only 11 categories out\n",
    "of the 20 available in the dataset:"
   ]
  },
  {
   "cell_type": "code",
   "execution_count": 2,
   "metadata": {},
   "outputs": [],
   "source": [
    "categories = ['alt.atheism', 'soc.religion.christian','comp.graphics', 'sci.med','sci.electronics',\n",
    "              'sci.space','talk.politics.guns','talk.politics.mideast','talk.politics.misc',\n",
    "              'talk.religion.misc','misc.forsale']"
   ]
  },
  {
   "cell_type": "code",
   "execution_count": 3,
   "metadata": {},
   "outputs": [],
   "source": [
    "twenty_train=fetch_20newsgroups(subset='train',categories=categories,\n",
    "                                remove=('footers','headers','quotes'))"
   ]
  },
  {
   "cell_type": "markdown",
   "metadata": {},
   "source": [
    "# a list of the  categories"
   ]
  },
  {
   "cell_type": "code",
   "execution_count": 4,
   "metadata": {},
   "outputs": [
    {
     "name": "stdout",
     "output_type": "stream",
     "text": [
      "['alt.atheism', 'comp.graphics', 'misc.forsale', 'sci.electronics', 'sci.med', 'sci.space', 'soc.religion.christian', 'talk.politics.guns', 'talk.politics.mideast', 'talk.politics.misc', 'talk.religion.misc']\n"
     ]
    }
   ],
   "source": [
    "print(twenty_train.target_names)"
   ]
  },
  {
   "cell_type": "code",
   "execution_count": 5,
   "metadata": {},
   "outputs": [
    {
     "data": {
      "text/plain": [
       "(5978, 5978, 5978)"
      ]
     },
     "execution_count": 5,
     "metadata": {},
     "output_type": "execute_result"
    }
   ],
   "source": [
    "len(twenty_train.data),len(twenty_train.target),len(twenty_train.filenames)"
   ]
  },
  {
   "cell_type": "code",
   "execution_count": 6,
   "metadata": {},
   "outputs": [
    {
     "name": "stdout",
     "output_type": "stream",
     "text": [
      "I can not believe the way this thread on candida(yeast) has progressed.\n",
      "Steve Dyer and I have been exchanging words over the same topic in Sci. \n",
      "Med. Nutrition when he displayed his typical reserve and attacked a women \n",
      "poster for being treated by a liscenced physician for a disease that did \n",
      "not exist.  Calling this physician a quack was reprehensible Steve and I \n",
      "see that you and some of the others are doing it here as well.  \n",
      "\n",
      "Let me tell you who the quacks really are, these are the physicans who have \n",
      "no idea how the human body interacts with it's environment and how that \n",
      "balance can be altered by diet and antibiotics.  These are the physicians \n",
      "who dismiss their patients with difficult symptomatology and make them go \n",
      "from doctor to doctor to find relief(like Elaine in Sci. Med. Nutrition) and \n",
      "then when they find one that solves their problem, the rest start yelling \n",
      "quack.  Could it just be professional jealousy?  I couldn't help Elaine or Jon\n",
      "but somebody else did.  Could they know more than Me?  No way, they must be a \n",
      "quack.  \n",
      "\n",
      "I've been teaching a human nutrition course for Medical students for over ten \n",
      "years now and guess who the most receptive students are?  Those that were \n",
      "raised on farms and saw first-hand the effect of diet on the health of their \n",
      "farm animals and those students who had made a dramatic diet change prior to \n",
      "entering medical school(switched to the vegan diet).  Typically, this is \n",
      "about 1/3 of my class of 90 students.  Those not interested in nutrition \n",
      "either tune me out or just stop coming to class.  That's okay because I \n",
      "know that some of what I'm teaching is going to stick and there will be at \n",
      "least a few \"enlightened\" physicians practicing in the U.S.  It's really \n",
      "too bad that most U.S. medical schools don't cover nutrition because if \n",
      "they did, candida would not be viewed as a non-disease by so many in the \n",
      "medical profession.\n",
      "\n",
      "In animal husbandry, an animal is reinnoculated with \"good\" bacteria after \n",
      "antibiotics are stopped.  Medicine has decided that since humans do not \n",
      "have a ruminant stomach, no such reinnoculation with \"good\" bacteria is \n",
      "needed after coming off a braod spectrum antibiotic.  Humans have all \n",
      "kinds of different organisms living in the GI system(mouth, stomach, small \n",
      "and large intestine), sinuses, vagina and on the skin.  These are \n",
      "nonpathogenic because they do not cause disease in people unless the immune \n",
      "system is compromised.  They are also called nonpathogens because unlike \n",
      "the pathogenic organisms that cause human disease, they do not produce \n",
      "toxins as they live out their merry existence in and on our body.  But any of \n",
      "these organisms will be considered pathogenic if it manages to take up \n",
      "residence within the body.  A poor mucus membrane barrier can let this \n",
      "happen and vitamin A is mainly responsible for setting up this barrier.\n",
      "Steve got real upset with Elaine's doctor because he was using anti-fungals \n",
      "and vitamin A for her GI problems.  If Steve really understoood what \n",
      "vitamin A does in the body, he would not(or at least should not) be calling \n",
      "Elaine's doctor a quack.\n",
      "\n",
      "Here is a brief primer on yeast.  Yeast infections, as they are commonly \n",
      "called, are not truely caused by yeasts.  The most common organism responsible\n",
      "for this type of infection is Candida albicans or Monilia which is actually a \n",
      "yeast-like fungus.  An infection caused by this organism is called candidiasis.\n",
      "Candidiasis is a very rare occurance because, like an E. Coli infection, it \n",
      "requires that the host immune system be severly depressed.  \n",
      "\n",
      "Candida is frequently found on the skin and all of the mucous membranes of \n",
      "normal healthy people and it rarely becomes a problem unless some predisposing\n",
      "factor is present such as a high blood glucose level(diabetes) or an oral \n",
      "course of antibiotics has been used.  In diabetics, their secretions contain \n",
      "much higher amounts of glucose.  Candida, unlike bacteria, is very limited in \n",
      "it's food(fuel) selection.  Without glucose, it can not grow, it just barely \n",
      "survives.  If it gets access to a lot of glucose, it blooms and over rides \n",
      "the other organisms living with it in the sinuses, GI tract or vagina.  In \n",
      "diabetics, skin lesions can also foster a good bloom site for these little \n",
      "buggers.  The bloom is usually just a minor irritant in most people but \n",
      "some people do really develop a bad inflammatory process at the mucus \n",
      "membrane or skin bloom site.  Whether this is an allergic like reaction to \n",
      "the candida or not isn't certain.  When the bloom is in the vagina or on \n",
      "the skin, it can be easliy seen and some doctors do then try to \"treat\" it.\n",
      "If it's internal, only symptoms can be used and these symptoms are pretty \n",
      "nondiscript.  \n",
      "\n",
      "\n",
      "Candida is kept in check in most people by the normal bacterial flora in \n",
      "the sinuses, the GI tract(mouth, stomach and intestines) and in the \n",
      "vaginal tract which compete with it for food.  The human immune system \n",
      "ususally does not bother itself with these(nonpathogenic organisms) unless \n",
      "they broach the mucus membrane \"barrier\".  If they do, an inflammatory \n",
      "response will be set up.  Most Americans are not getting enough vitamin A \n",
      "from their diets.  About 30% of all American's die with less Vitamin A than \n",
      "they were born with(U.S. autopsy studies).  While this low level of vitamin \n",
      "A does not cause pathology(blindness) it does impair the mucus membrane \n",
      "barrier system.  This would then be a predisposing factor for a strong \n",
      "inflammatory response after a candida bloom.  \n",
      "\n",
      "While diabetics can suffer from a candida \"bloom\" the  most common cause of \n",
      "this type of bloom is the use of broad spectrum antibiotics which \n",
      "knock down many different kinds of bacteria in the body and remove the main \n",
      "competition for candida as far as food is concerned.  While drugs are \n",
      "available to handle candida, many patients find that their doctor will not \n",
      "use them unless there is evidence of a systemic infection.  The toxicity of \n",
      "the anti-fungal drugs does warrant some caution.  But if the GI or sinus \n",
      "inflammation is suspected to be candida(and recent use of a broad spectrum \n",
      "antibiotic is the smoking gun), then anti-fungal use should be approrpriate \n",
      "just as the anti-fungal creams are an appropriate treatment for recurring \n",
      "vaginal yeast infections, in spite of what Mr. Steve Dyer says.\n",
      "\n",
      "But even in patients being given the anti-fungals, the irritation caused by \n",
      "the excessive candida bloom in the sinus, GI tract or the vagina tends to \n",
      "return after drug treatment is discontinued unless the underlying cause of \n",
      "the problem is addressed(lack of a \"good\" bacterial flora in the body and/or \n",
      "poor mucus membrane barrier).  Lactobacillus acidophilus is the most effective \n",
      "therapy for candida overgrowth.  From it's name, it is an acid loving \n",
      "organism and it sets up an acidic condition were it grows.  Candida can not \n",
      "grow very well in an acidic environment.  In the vagina, L. acidophilius is \n",
      "the predominate bacteria(unless you are hit with broad spectrum \n",
      "antibiotics).  \n",
      "\n",
      "In the GI system, the ano-rectal region seems to be a particularly good \n",
      "reservoir for candida and the use of pantyhose by many women creates a very \n",
      "favorable environment around the rectum for transfer(through moisture and \n",
      "humidity) of candida to the vaginal tract.  One of the most effctive ways to \n",
      "minimmize this transfer is to wear undyed cotton underwear.  \n",
      "\n",
      "If the bloom occurs in the anal area, the burning, swelling, pain and even \n",
      "blood discharge make many patients think that they have hemorroids.  If the \n",
      "bloom manages to move further up the GI tract, very diffuse symptomatology \n",
      "occurs(abdominal discomfort and blood in the stool).  This positive stool \n",
      "for occult blood is what sent Elaine to her family doctor in the first \n",
      "place.  After extensive testing, he told her that there was nothing wrong \n",
      "but her gut still hurt.  On to another doctor, and so on.  Richard Kaplan \n",
      "has told me throiugh e-mail that he considers occult blood tests in stool \n",
      "specimens to be a waste of time and money because of the very large number of \n",
      "false positives(candida blooms guys?).  If my gut hurt me on a constant \n",
      "basis, I would want it fixed.  Yes it's nice to know that I don't have \n",
      "colon cancer but what then is causing my distress?  When I finally find a \n",
      "doctor who treats me and gets me 90% better, Steve Dyer calls him a quack.\n",
      "\n",
      "Candida prefers a slightly alkaline environment while bacteria \n",
      "tend to prefer a slightly acidic environment.  The vagina becomes alkaline \n",
      "during a woman's period and this is often when candida blooms in the vagina. \n",
      "Vinegar and water douches are the best way of dealing with vaginal \n",
      "problems.  Many women have also gotten relief from the introduction of \n",
      "Lactobacillus directly into the vaginal tract(I would want to be sure of \n",
      "the purity of the product before trying this).  My wife had this vagina \n",
      "problem after going on birth control pills and searched for over a year \n",
      "until she found a gynocologist who solved the problem rather than just writting \n",
      "scripts for anti-fungal creams.  This was a woman gynocologist who had had \n",
      "the same problem(recurring vaginal yeast infections).  This M.D. did some \n",
      "digging and came up with an acetic acid and L. Acidophilis douche which she \n",
      "used in your office to keep it sterile.  After three treatments, sex \n",
      "returned to our marraige.  I have often wondered what an M.D. with chronic \n",
      "GI distress or sinus problems would do about the problem that he tells his \n",
      "patients is a non-existent syndrome.\n",
      "\n",
      "The nonpathogenic bacteria L. acidophilus is an acid producing bacteria \n",
      "which is the most common bacteria found in the vaginal tract of healthy women.  \n",
      "If taken orally, it can also become a major bacteria in the gut.  Through \n",
      "aresol sprays, it has also been used to innoculate the sinus membranes.\n",
      "But before this innoculation occurs, the mucus membrane barrier system \n",
      "needs to be strengthened.  This is accomplished by vitamin A, vitamin C and \n",
      "some of the B-complex vitamins.  Diet surveys repeatedly show that Americans \n",
      "are not getting enough B6 and folate.  These are probably the segement of \n",
      "the population that will have the greatest problem with this non-existent \n",
      "disorder(candida blooms after antibiotic therapy).\n",
      " \n",
      "Some of the above material was obtained from \"Natural Healing\" by Mark \n",
      "Bricklin, Published by Rodale press, as well as notes from my human \n",
      "nutrition course.  I will be posting a discussion of vitamin A  sometime in \n",
      "the future, along with reference citings to point out the extremely \n",
      "important role that vitamin A plays in the mucus membrane defense system in \n",
      "the body and why vitamin A should be effective in dealing with candida \n",
      "blooms.  Another effective dietary treatment is to restrict carbohydrate \n",
      "intake during the treatment phase, this is especially important if the GI \n",
      "system is involved.  If candida can not get glucose, it's not going to out \n",
      "grow the bacteria and you then give bacteria, which can use amino acids and \n",
      "fatty acids for energy, a chance to take over and keep the candida in check \n",
      "once carbohydrate is returned to the gut.\n",
      "\n",
      "If Steve and some of the other nay-sayers want to jump all over this post, \n",
      "fine.  I jumped all over Steve in Sci. Med. Nutrition because he verbably \n",
      "accosted a poster who was seeking advice about her doctor's use of vitamin \n",
      "A and anti-fungals for a candida bloom in her gut.  People seeking advice \n",
      "from newsnet should not be treated this way.  Those of us giving of our \n",
      "time and knowledge can slug it out to our heart's content.  If you saved \n",
      "your venom for me Steve and left the helpless posters who are timidly \n",
      "seeking help alone, I wouldn't have a problem with your behavior. \n",
      " \n",
      "Martin Banschbach, Ph.D.\n",
      "Professor of Biochemistry and Chairman\n",
      "Department of Biochemistry and Microbiology\n",
      "OSU College of Osteopathic Medicine\n",
      "1111 West 17th St.\n",
      "Tulsa, Ok. 74107\n"
     ]
    }
   ],
   "source": [
    "print(\"\\n\".join(twenty_train.data[0].split('\\n')))"
   ]
  },
  {
   "cell_type": "code",
   "execution_count": 7,
   "metadata": {},
   "outputs": [
    {
     "name": "stdout",
     "output_type": "stream",
     "text": [
      "I can not believe the way this thread on candida(yeast) has progressed.\n",
      "Steve Dyer and I have been exchanging words over the same topic in Sci. \n",
      "Med. Nutrition when he displayed his typical reserve and attacked a women \n",
      "poster for being treated by a liscenced physician for a disease that did \n",
      "not exist.  Calling this physician a quack was reprehensible Steve and I \n",
      "see that you and some of the others are doing it here as well.  \n",
      "\n",
      "Let me tell you who the quacks really are\n",
      " these are the physicans who have \n",
      "no idea how the human body interacts with it's environment and how that \n",
      "balance can be altered by diet and antibiotics.  These are the physicians \n",
      "who dismiss their patients with difficult symptomatology and make them go \n",
      "from doctor to doctor to find relief(like Elaine in Sci. Med. Nutrition) and \n",
      "then when they find one that solves their problem\n",
      " the rest start yelling \n",
      "quack.  Could it just be professional jealousy?  I couldn't help Elaine or Jon\n",
      "but somebody else did.  Could they know more than Me?  No way\n",
      " they must be a \n",
      "quack.  \n",
      "\n",
      "I've been teaching a human nutrition course for Medical students for over ten \n",
      "years now and guess who the most receptive students are?  Those that were \n",
      "raised on farms and saw first-hand the effect of diet on the health of their \n",
      "farm animals and those students who had made a dramatic diet change prior to \n",
      "entering medical school(switched to the vegan diet).  Typically\n",
      " this is \n",
      "about 1/3 of my class of 90 students.  Those not interested in nutrition \n",
      "either tune me out or just stop coming to class.  That's okay because I \n",
      "know that some of what I'm teaching is going to stick and there will be at \n",
      "least a few \"enlightened\" physicians practicing in the U.S.  It's really \n",
      "too bad that most U.S. medical schools don't cover nutrition because if \n",
      "they did\n",
      " candida would not be viewed as a non-disease by so many in the \n",
      "medical profession.\n",
      "\n",
      "In animal husbandry\n",
      " an animal is reinnoculated with \"good\" bacteria after \n",
      "antibiotics are stopped.  Medicine has decided that since humans do not \n",
      "have a ruminant stomach\n",
      " no such reinnoculation with \"good\" bacteria is \n",
      "needed after coming off a braod spectrum antibiotic.  Humans have all \n",
      "kinds of different organisms living in the GI system(mouth\n",
      " stomach\n",
      " small \n",
      "and large intestine)\n",
      " sinuses\n",
      " vagina and on the skin.  These are \n",
      "nonpathogenic because they do not cause disease in people unless the immune \n",
      "system is compromised.  They are also called nonpathogens because unlike \n",
      "the pathogenic organisms that cause human disease\n",
      " they do not produce \n",
      "toxins as they live out their merry existence in and on our body.  But any of \n",
      "these organisms will be considered pathogenic if it manages to take up \n",
      "residence within the body.  A poor mucus membrane barrier can let this \n",
      "happen and vitamin A is mainly responsible for setting up this barrier.\n",
      "Steve got real upset with Elaine's doctor because he was using anti-fungals \n",
      "and vitamin A for her GI problems.  If Steve really understoood what \n",
      "vitamin A does in the body\n",
      " he would not(or at least should not) be calling \n",
      "Elaine's doctor a quack.\n",
      "\n",
      "Here is a brief primer on yeast.  Yeast infections\n",
      " as they are commonly \n",
      "called\n",
      " are not truely caused by yeasts.  The most common organism responsible\n",
      "for this type of infection is Candida albicans or Monilia which is actually a \n",
      "yeast-like fungus.  An infection caused by this organism is called candidiasis.\n",
      "Candidiasis is a very rare occurance because\n",
      " like an E. Coli infection\n",
      " it \n",
      "requires that the host immune system be severly depressed.  \n",
      "\n",
      "Candida is frequently found on the skin and all of the mucous membranes of \n",
      "normal healthy people and it rarely becomes a problem unless some predisposing\n",
      "factor is present such as a high blood glucose level(diabetes) or an oral \n",
      "course of antibiotics has been used.  In diabetics\n",
      " their secretions contain \n",
      "much higher amounts of glucose.  Candida\n",
      " unlike bacteria\n",
      " is very limited in \n",
      "it's food(fuel) selection.  Without glucose\n",
      " it can not grow\n",
      " it just barely \n",
      "survives.  If it gets access to a lot of glucose\n",
      " it blooms and over rides \n",
      "the other organisms living with it in the sinuses\n",
      " GI tract or vagina.  In \n",
      "diabetics\n",
      " skin lesions can also foster a good bloom site for these little \n",
      "buggers.  The bloom is usually just a minor irritant in most people but \n",
      "some people do really develop a bad inflammatory process at the mucus \n",
      "membrane or skin bloom site.  Whether this is an allergic like reaction to \n",
      "the candida or not isn't certain.  When the bloom is in the vagina or on \n",
      "the skin\n",
      " it can be easliy seen and some doctors do then try to \"treat\" it.\n",
      "If it's internal\n",
      " only symptoms can be used and these symptoms are pretty \n",
      "nondiscript.  \n",
      "\n",
      "\n",
      "Candida is kept in check in most people by the normal bacterial flora in \n",
      "the sinuses\n",
      " the GI tract(mouth\n",
      " stomach and intestines) and in the \n",
      "vaginal tract which compete with it for food.  The human immune system \n",
      "ususally does not bother itself with these(nonpathogenic organisms) unless \n",
      "they broach the mucus membrane \"barrier\".  If they do\n",
      " an inflammatory \n",
      "response will be set up.  Most Americans are not getting enough vitamin A \n",
      "from their diets.  About 30% of all American's die with less Vitamin A than \n",
      "they were born with(U.S. autopsy studies).  While this low level of vitamin \n",
      "A does not cause pathology(blindness) it does impair the mucus membrane \n",
      "barrier system.  This would then be a predisposing factor for a strong \n",
      "inflammatory response after a candida bloom.  \n",
      "\n",
      "While diabetics can suffer from a candida \"bloom\" the  most common cause of \n",
      "this type of bloom is the use of broad spectrum antibiotics which \n",
      "knock down many different kinds of bacteria in the body and remove the main \n",
      "competition for candida as far as food is concerned.  While drugs are \n",
      "available to handle candida\n",
      " many patients find that their doctor will not \n",
      "use them unless there is evidence of a systemic infection.  The toxicity of \n",
      "the anti-fungal drugs does warrant some caution.  But if the GI or sinus \n",
      "inflammation is suspected to be candida(and recent use of a broad spectrum \n",
      "antibiotic is the smoking gun)\n",
      " then anti-fungal use should be approrpriate \n",
      "just as the anti-fungal creams are an appropriate treatment for recurring \n",
      "vaginal yeast infections\n",
      " in spite of what Mr. Steve Dyer says.\n",
      "\n",
      "But even in patients being given the anti-fungals\n",
      " the irritation caused by \n",
      "the excessive candida bloom in the sinus\n",
      " GI tract or the vagina tends to \n",
      "return after drug treatment is discontinued unless the underlying cause of \n",
      "the problem is addressed(lack of a \"good\" bacterial flora in the body and/or \n",
      "poor mucus membrane barrier).  Lactobacillus acidophilus is the most effective \n",
      "therapy for candida overgrowth.  From it's name\n",
      " it is an acid loving \n",
      "organism and it sets up an acidic condition were it grows.  Candida can not \n",
      "grow very well in an acidic environment.  In the vagina\n",
      " L. acidophilius is \n",
      "the predominate bacteria(unless you are hit with broad spectrum \n",
      "antibiotics).  \n",
      "\n",
      "In the GI system\n",
      " the ano-rectal region seems to be a particularly good \n",
      "reservoir for candida and the use of pantyhose by many women creates a very \n",
      "favorable environment around the rectum for transfer(through moisture and \n",
      "humidity) of candida to the vaginal tract.  One of the most effctive ways to \n",
      "minimmize this transfer is to wear undyed cotton underwear.  \n",
      "\n",
      "If the bloom occurs in the anal area\n",
      " the burning\n",
      " swelling\n",
      " pain and even \n",
      "blood discharge make many patients think that they have hemorroids.  If the \n",
      "bloom manages to move further up the GI tract\n",
      " very diffuse symptomatology \n",
      "occurs(abdominal discomfort and blood in the stool).  This positive stool \n",
      "for occult blood is what sent Elaine to her family doctor in the first \n",
      "place.  After extensive testing\n",
      " he told her that there was nothing wrong \n",
      "but her gut still hurt.  On to another doctor\n",
      " and so on.  Richard Kaplan \n",
      "has told me throiugh e-mail that he considers occult blood tests in stool \n",
      "specimens to be a waste of time and money because of the very large number of \n",
      "false positives(candida blooms guys?).  If my gut hurt me on a constant \n",
      "basis\n",
      " I would want it fixed.  Yes it's nice to know that I don't have \n",
      "colon cancer but what then is causing my distress?  When I finally find a \n",
      "doctor who treats me and gets me 90% better\n",
      " Steve Dyer calls him a quack.\n",
      "\n",
      "Candida prefers a slightly alkaline environment while bacteria \n",
      "tend to prefer a slightly acidic environment.  The vagina becomes alkaline \n",
      "during a woman's period and this is often when candida blooms in the vagina. \n",
      "Vinegar and water douches are the best way of dealing with vaginal \n",
      "problems.  Many women have also gotten relief from the introduction of \n",
      "Lactobacillus directly into the vaginal tract(I would want to be sure of \n",
      "the purity of the product before trying this).  My wife had this vagina \n",
      "problem after going on birth control pills and searched for over a year \n",
      "until she found a gynocologist who solved the problem rather than just writting \n",
      "scripts for anti-fungal creams.  This was a woman gynocologist who had had \n",
      "the same problem(recurring vaginal yeast infections).  This M.D. did some \n",
      "digging and came up with an acetic acid and L. Acidophilis douche which she \n",
      "used in your office to keep it sterile.  After three treatments\n",
      " sex \n",
      "returned to our marraige.  I have often wondered what an M.D. with chronic \n",
      "GI distress or sinus problems would do about the problem that he tells his \n",
      "patients is a non-existent syndrome.\n",
      "\n",
      "The nonpathogenic bacteria L. acidophilus is an acid producing bacteria \n",
      "which is the most common bacteria found in the vaginal tract of healthy women.  \n",
      "If taken orally\n",
      " it can also become a major bacteria in the gut.  Through \n",
      "aresol sprays\n",
      " it has also been used to innoculate the sinus membranes.\n",
      "But before this innoculation occurs\n",
      " the mucus membrane barrier system \n",
      "needs to be strengthened.  This is accomplished by vitamin A\n",
      " vitamin C and \n",
      "some of the B-complex vitamins.  Diet surveys repeatedly show that Americans \n",
      "are not getting enough B6 and folate.  These are probably the segement of \n",
      "the population that will have the greatest problem with this non-existent \n",
      "disorder(candida blooms after antibiotic therapy).\n",
      " \n",
      "Some of the above material was obtained from \"Natural Healing\" by Mark \n",
      "Bricklin\n",
      " Published by Rodale press\n",
      " as well as notes from my human \n",
      "nutrition course.  I will be posting a discussion of vitamin A  sometime in \n",
      "the future\n",
      " along with reference citings to point out the extremely \n",
      "important role that vitamin A plays in the mucus membrane defense system in \n",
      "the body and why vitamin A should be effective in dealing with candida \n",
      "blooms.  Another effective dietary treatment is to restrict carbohydrate \n",
      "intake during the treatment phase\n",
      " this is especially important if the GI \n",
      "system is involved.  If candida can not get glucose\n",
      " it's not going to out \n",
      "grow the bacteria and you then give bacteria\n",
      " which can use amino acids and \n",
      "fatty acids for energy\n",
      " a chance to take over and keep the candida in check \n",
      "once carbohydrate is returned to the gut.\n",
      "\n",
      "If Steve and some of the other nay-sayers want to jump all over this post\n",
      " \n",
      "fine.  I jumped all over Steve in Sci. Med. Nutrition because he verbably \n",
      "accosted a poster who was seeking advice about her doctor's use of vitamin \n",
      "A and anti-fungals for a candida bloom in her gut.  People seeking advice \n",
      "from newsnet should not be treated this way.  Those of us giving of our \n",
      "time and knowledge can slug it out to our heart's content.  If you saved \n",
      "your venom for me Steve and left the helpless posters who are timidly \n",
      "seeking help alone\n",
      " I wouldn't have a problem with your behavior. \n",
      " \n",
      "Martin Banschbach\n",
      " Ph.D.\n",
      "Professor of Biochemistry and Chairman\n",
      "Department of Biochemistry and Microbiology\n",
      "OSU College of Osteopathic Medicine\n",
      "1111 West 17th St.\n",
      "Tulsa\n",
      " Ok. 74107\n"
     ]
    }
   ],
   "source": [
    "print(\"\\n\".join(twenty_train.data[0].split(',')))"
   ]
  },
  {
   "cell_type": "code",
   "execution_count": 8,
   "metadata": {},
   "outputs": [
    {
     "data": {
      "text/html": [
       "<div>\n",
       "<style scoped>\n",
       "    .dataframe tbody tr th:only-of-type {\n",
       "        vertical-align: middle;\n",
       "    }\n",
       "\n",
       "    .dataframe tbody tr th {\n",
       "        vertical-align: top;\n",
       "    }\n",
       "\n",
       "    .dataframe thead th {\n",
       "        text-align: right;\n",
       "    }\n",
       "</style>\n",
       "<table border=\"1\" class=\"dataframe\">\n",
       "  <thead>\n",
       "    <tr style=\"text-align: right;\">\n",
       "      <th></th>\n",
       "      <th>Category_Index</th>\n",
       "      <th>Category_Names</th>\n",
       "    </tr>\n",
       "  </thead>\n",
       "  <tbody>\n",
       "    <tr>\n",
       "      <th>0</th>\n",
       "      <td>4</td>\n",
       "      <td>sci.med</td>\n",
       "    </tr>\n",
       "    <tr>\n",
       "      <th>1</th>\n",
       "      <td>0</td>\n",
       "      <td>alt.atheism</td>\n",
       "    </tr>\n",
       "    <tr>\n",
       "      <th>2</th>\n",
       "      <td>7</td>\n",
       "      <td>talk.politics.guns</td>\n",
       "    </tr>\n",
       "    <tr>\n",
       "      <th>3</th>\n",
       "      <td>1</td>\n",
       "      <td>comp.graphics</td>\n",
       "    </tr>\n",
       "    <tr>\n",
       "      <th>4</th>\n",
       "      <td>3</td>\n",
       "      <td>sci.electronics</td>\n",
       "    </tr>\n",
       "    <tr>\n",
       "      <th>5</th>\n",
       "      <td>1</td>\n",
       "      <td>comp.graphics</td>\n",
       "    </tr>\n",
       "    <tr>\n",
       "      <th>6</th>\n",
       "      <td>10</td>\n",
       "      <td>talk.religion.misc</td>\n",
       "    </tr>\n",
       "    <tr>\n",
       "      <th>7</th>\n",
       "      <td>0</td>\n",
       "      <td>alt.atheism</td>\n",
       "    </tr>\n",
       "    <tr>\n",
       "      <th>8</th>\n",
       "      <td>4</td>\n",
       "      <td>sci.med</td>\n",
       "    </tr>\n",
       "    <tr>\n",
       "      <th>9</th>\n",
       "      <td>4</td>\n",
       "      <td>sci.med</td>\n",
       "    </tr>\n",
       "  </tbody>\n",
       "</table>\n",
       "</div>"
      ],
      "text/plain": [
       "   Category_Index      Category_Names\n",
       "0               4             sci.med\n",
       "1               0         alt.atheism\n",
       "2               7  talk.politics.guns\n",
       "3               1       comp.graphics\n",
       "4               3     sci.electronics\n",
       "5               1       comp.graphics\n",
       "6              10  talk.religion.misc\n",
       "7               0         alt.atheism\n",
       "8               4             sci.med\n",
       "9               4             sci.med"
      ]
     },
     "execution_count": 8,
     "metadata": {},
     "output_type": "execute_result"
    }
   ],
   "source": [
    "pd.DataFrame({'Category_Index':twenty_train.target[:10],\n",
    "              \"Category_Names\":np.array(twenty_train.target_names)[twenty_train.target[:10]]})"
   ]
  },
  {
   "cell_type": "code",
   "execution_count": 9,
   "metadata": {},
   "outputs": [
    {
     "name": "stdout",
     "output_type": "stream",
     "text": [
      "sci.electronics\n",
      "sci.med\n",
      "alt.atheism\n",
      "alt.atheism\n",
      "comp.graphics\n",
      "alt.atheism\n",
      "talk.politics.guns\n",
      "sci.med\n",
      "sci.electronics\n",
      "sci.electronics\n"
     ]
    }
   ],
   "source": [
    "for i in twenty_train.target[:10]:\n",
    "    print(twenty_train.target_names[twenty_train.target[i]])"
   ]
  },
  {
   "cell_type": "markdown",
   "metadata": {},
   "source": [
    "#  Extracting features  or feature encoding from text files\n",
    "\n",
    "In order to perform machine learning on text documents, the raw (text) data cannot be fed directly to the algorithms as these algorithms expect numerical feature vectors so instead we need to turn the text content into numerical feature vectors and the general process of turning text documents into numerical feature vectors is known as ***vectorization***.\n",
    "\n",
    "# Bag Of Words (BOWs) \n",
    "Is a feature extraction technique used for extracting features from textual data for modeling machine learning algorithm and is commonly used in problems such as language modeling and document classification.  A bag-of-words is a representation of textual data, describing the occurrence of words within a sentence or document, disregarding grammar and the order of words.\n",
    "\n",
    "<p><b>How does Bag of Words Works</b></p>\n",
    "In order to understand how bag of words works let assume we have two simple text documents:\n",
    "```md\n",
    "1. Boys like playing football and Emma is a boy so Emma likes playing football\n",
    "\n",
    "2  Mary likes watching movies \n",
    "\n",
    "```\n",
    "\n",
    "Based on these two text documents, a list of token (words) for each document is as follows\n",
    "\n",
    "```javascript\n",
    "'Boys', 'like', 'playing', 'football', 'and', 'Emma', 'is', 'a', 'boy', 'so', 'Emma', 'likes', 'playing', 'football'\n",
    "\n",
    "\n",
    "'Mary', 'likes', 'watching', 'movies'\n",
    "```\n",
    "\n",
    "\n",
    "denoting document1 by doc1 and 2  by doc2, we will construct a dictionary (key->value pair) of\n",
    "words for both doc1 and doc2 where each key is the word, and each value is the number of occurrences of that word in the given text document."
   ]
  },
  {
   "cell_type": "markdown",
   "metadata": {},
   "source": [
    "```javascript\n",
    "doc1={ 'a' : 1, 'and' : 1, 'boy' : 1, 'Boys' : 1, 'Emma' : 2, 'football' : 2, 'is' : 1,  'like' : 1,  'likes' : 1, 'playing' : 2,   'so' : 1}\n",
    "\n",
    "dco2={'likes' : 1, 'Mary' : 1,  'movies' : 1 ,'watching' : 1}\n",
    "```\n",
    "\n",
    "<b>NOTE :</b> the order of the words is not important\n",
    "\n",
    "\n",
    "Putting everything together and considering **a** as a stop word, features extracted using bag of words for these documents will be"
   ]
  },
  {
   "cell_type": "code",
   "execution_count": 10,
   "metadata": {},
   "outputs": [],
   "source": [
    "doc1='Boys like playing football and Emma is a boy so Emma likes playing football'\n",
    "doc2=\"Mary likes watching movies\"\n",
    "corpus=[doc1,doc2]"
   ]
  },
  {
   "cell_type": "code",
   "execution_count": 11,
   "metadata": {},
   "outputs": [],
   "source": [
    "countV=CountVectorizer()\n",
    "bg=countV.fit_transform(corpus)"
   ]
  },
  {
   "cell_type": "code",
   "execution_count": 12,
   "metadata": {},
   "outputs": [
    {
     "data": {
      "image/png": "[encoded data removed]",
      "text/plain": [
       "<Figure size 432x288 with 1 Axes>"
      ]
     },
     "metadata": {
      "needs_background": "light"
     },
     "output_type": "display_data"
    }
   ],
   "source": [
    "sns.heatmap(bg.toarray(),annot=True,cbar=False\n",
    "            ,yticklabels=['doc1','doc2'],xticklabels=countV.get_feature_names())\n",
    "plt.show()"
   ]
  },
  {
   "cell_type": "code",
   "execution_count": 13,
   "metadata": {},
   "outputs": [
    {
     "data": {
      "text/html": [
       "<div>\n",
       "<style scoped>\n",
       "    .dataframe tbody tr th:only-of-type {\n",
       "        vertical-align: middle;\n",
       "    }\n",
       "\n",
       "    .dataframe tbody tr th {\n",
       "        vertical-align: top;\n",
       "    }\n",
       "\n",
       "    .dataframe thead tr th {\n",
       "        text-align: left;\n",
       "    }\n",
       "</style>\n",
       "<table border=\"1\" class=\"dataframe\">\n",
       "  <thead>\n",
       "    <tr>\n",
       "      <th></th>\n",
       "      <th>and</th>\n",
       "      <th>boy</th>\n",
       "      <th>boys</th>\n",
       "      <th>emma</th>\n",
       "      <th>football</th>\n",
       "      <th>is</th>\n",
       "      <th>like</th>\n",
       "      <th>likes</th>\n",
       "      <th>mary</th>\n",
       "      <th>movies</th>\n",
       "      <th>playing</th>\n",
       "      <th>so</th>\n",
       "      <th>watching</th>\n",
       "    </tr>\n",
       "  </thead>\n",
       "  <tbody>\n",
       "    <tr>\n",
       "      <th>doc1</th>\n",
       "      <td>1</td>\n",
       "      <td>1</td>\n",
       "      <td>1</td>\n",
       "      <td>2</td>\n",
       "      <td>2</td>\n",
       "      <td>1</td>\n",
       "      <td>1</td>\n",
       "      <td>1</td>\n",
       "      <td>0</td>\n",
       "      <td>0</td>\n",
       "      <td>2</td>\n",
       "      <td>1</td>\n",
       "      <td>0</td>\n",
       "    </tr>\n",
       "    <tr>\n",
       "      <th>doc2</th>\n",
       "      <td>0</td>\n",
       "      <td>0</td>\n",
       "      <td>0</td>\n",
       "      <td>0</td>\n",
       "      <td>0</td>\n",
       "      <td>0</td>\n",
       "      <td>0</td>\n",
       "      <td>1</td>\n",
       "      <td>1</td>\n",
       "      <td>1</td>\n",
       "      <td>0</td>\n",
       "      <td>0</td>\n",
       "      <td>1</td>\n",
       "    </tr>\n",
       "  </tbody>\n",
       "</table>\n",
       "</div>"
      ],
      "text/plain": [
       "     and boy boys emma football is like likes mary movies playing so watching\n",
       "doc1   1   1    1    2        2  1    1     1    0      0       2  1        0\n",
       "doc2   0   0    0    0        0  0    0     1    1      1       0  0        1"
      ]
     },
     "execution_count": 13,
     "metadata": {},
     "output_type": "execute_result"
    }
   ],
   "source": [
    "pd.DataFrame(bg.toarray(),columns=[countV.get_feature_names()],index=['doc1','doc2'])"
   ]
  },
  {
   "cell_type": "code",
   "execution_count": 14,
   "metadata": {},
   "outputs": [
    {
     "data": {
      "text/plain": [
       "dict_items([('boys', 2), ('like', 6), ('playing', 10), ('football', 4), ('and', 0), ('emma', 3), ('is', 5), ('boy', 1), ('so', 11), ('likes', 7), ('mary', 8), ('watching', 12), ('movies', 9)])"
      ]
     },
     "execution_count": 14,
     "metadata": {},
     "output_type": "execute_result"
    }
   ],
   "source": [
    "countV.vocabulary_.items()"
   ]
  },
  {
   "cell_type": "code",
   "execution_count": 15,
   "metadata": {},
   "outputs": [
    {
     "data": {
      "text/plain": [
       "11"
      ]
     },
     "execution_count": 15,
     "metadata": {},
     "output_type": "execute_result"
    }
   ],
   "source": [
    "# the index associated with so\n",
    "countV.vocabulary_.get('so')"
   ]
  },
  {
   "cell_type": "code",
   "execution_count": null,
   "metadata": {},
   "outputs": [],
   "source": []
  },
  {
   "cell_type": "markdown",
   "metadata": {},
   "source": [
    "# BOWS representation Of the news data"
   ]
  },
  {
   "cell_type": "code",
   "execution_count": 16,
   "metadata": {},
   "outputs": [],
   "source": [
    "count_vect = CountVectorizer()\n",
    "X_train_counts = count_vect.fit_transform(twenty_train.data)# (documents, vocab)"
   ]
  },
  {
   "cell_type": "code",
   "execution_count": 17,
   "metadata": {},
   "outputs": [
    {
     "data": {
      "text/plain": [
       "(5978, 54996)"
      ]
     },
     "execution_count": 17,
     "metadata": {},
     "output_type": "execute_result"
    }
   ],
   "source": [
    "X_train_counts.shape"
   ]
  },
  {
   "cell_type": "markdown",
   "metadata": {},
   "source": [
    "From <a href='https://scikitlearn.org/stable/tutorial/text_analytics/working_with_text_data.html'>scikitlearn documentation-From occurrences to frequencies</a>\n",
    "\n",
    "Occurrence count is a good start but there is an issue: longer documents will have higher average count values than shorter documents, even though they might talk about the same topics.\n",
    "\n",
    "To avoid these potential discrepancies it suffices to divide the number of occurrences of each word in a document by the total number of words in the document: these new features are called tf for Term Frequencies.\n",
    "\n",
    "Another refinement on top of tf is to downscale weights for words that occur in many documents in the corpus and are therefore less informative than those that occur only in a smaller portion of the corpus.\n",
    "\n",
    "This downscaling is called tf–idf for “Term Frequency times Inverse Document Frequency”.\n",
    "\n",
    "Both tf and tf–idf can be computed as follows using TfidfTransformer:"
   ]
  },
  {
   "cell_type": "code",
   "execution_count": 18,
   "metadata": {},
   "outputs": [],
   "source": [
    "tfidf_transformer = TfidfTransformer()\n",
    "X_train_tfidf=tfidf_transformer.fit_transform(X_train_counts)"
   ]
  },
  {
   "cell_type": "code",
   "execution_count": 19,
   "metadata": {},
   "outputs": [
    {
     "data": {
      "text/plain": [
       "(5978, 54996)"
      ]
     },
     "execution_count": 19,
     "metadata": {},
     "output_type": "execute_result"
    }
   ],
   "source": [
    "X_train_tfidf.shape"
   ]
  },
  {
   "cell_type": "markdown",
   "metadata": {},
   "source": [
    "# feature extraction pipeline"
   ]
  },
  {
   "cell_type": "code",
   "execution_count": 20,
   "metadata": {},
   "outputs": [],
   "source": [
    "feature__extraction_pipeline=Pipeline([('count',CountVectorizer()),('tf',TfidfTransformer())])"
   ]
  },
  {
   "cell_type": "markdown",
   "metadata": {},
   "source": [
    "# adding a classifier to the pipeline"
   ]
  },
  {
   "cell_type": "code",
   "execution_count": 21,
   "metadata": {},
   "outputs": [],
   "source": [
    "model_pipeline=Pipeline([('extract_feat',feature__extraction_pipeline),\n",
    "                         ('mult_clf',MultinomialNB())])"
   ]
  },
  {
   "cell_type": "code",
   "execution_count": 22,
   "metadata": {},
   "outputs": [
    {
     "data": {
      "text/plain": [
       "Pipeline(steps=[('extract_feat',\n",
       "                 Pipeline(steps=[('count', CountVectorizer()),\n",
       "                                 ('tf', TfidfTransformer())])),\n",
       "                ('mult_clf', MultinomialNB())])"
      ]
     },
     "execution_count": 22,
     "metadata": {},
     "output_type": "execute_result"
    }
   ],
   "source": [
    "model_pipeline.fit(twenty_train.data,twenty_train.target)"
   ]
  },
  {
   "cell_type": "code",
   "execution_count": 23,
   "metadata": {},
   "outputs": [
    {
     "name": "stdout",
     "output_type": "stream",
     "text": [
      "God is love=>soc.religion.christian\n",
      "OpenGL on the GPU is fast=>comp.graphics\n",
      "I am selling my car=>misc.forsale\n"
     ]
    }
   ],
   "source": [
    "docs_new = ['God is love', 'OpenGL on the GPU is fast','I am selling my car']\n",
    "predict=model_pipeline.predict(docs_new)\n",
    "for doc, pred in zip(docs_new,predict):\n",
    "    print('{}=>{}'.format(doc,twenty_train.target_names[pred]))"
   ]
  },
  {
   "cell_type": "markdown",
   "metadata": {},
   "source": [
    "# Building a pipeline"
   ]
  },
  {
   "cell_type": "code",
   "execution_count": 24,
   "metadata": {},
   "outputs": [],
   "source": [
    "news_clf=Pipeline([('count',CountVectorizer()),\n",
    "                   ('tf',TfidfTransformer()),\n",
    "                   ('scg_clf',SGDClassifier(max_iter=10,class_weight='balanced'))])"
   ]
  },
  {
   "cell_type": "code",
   "execution_count": 25,
   "metadata": {},
   "outputs": [
    {
     "name": "stderr",
     "output_type": "stream",
     "text": [
      "C:\\Anaconda3\\lib\\site-packages\\sklearn\\linear_model\\_stochastic_gradient.py:573: ConvergenceWarning: Maximum number of iteration reached before convergence. Consider increasing max_iter to improve the fit.\n",
      "  ConvergenceWarning)\n"
     ]
    },
    {
     "data": {
      "text/plain": [
       "Pipeline(steps=[('count', CountVectorizer()), ('tf', TfidfTransformer()),\n",
       "                ('scg_clf',\n",
       "                 SGDClassifier(class_weight='balanced', max_iter=10))])"
      ]
     },
     "execution_count": 25,
     "metadata": {},
     "output_type": "execute_result"
    }
   ],
   "source": [
    "news_clf.fit(twenty_train.data,twenty_train.target)"
   ]
  },
  {
   "cell_type": "code",
   "execution_count": 26,
   "metadata": {},
   "outputs": [
    {
     "name": "stdout",
     "output_type": "stream",
     "text": [
      "God is love=>soc.religion.christian\n",
      "OpenGL on the GPU is fast=>comp.graphics\n",
      "I am selling my car=>misc.forsale\n",
      "i will pray tonight=>soc.religion.christian\n"
     ]
    }
   ],
   "source": [
    "docs_new = ['God is love', 'OpenGL on the GPU is fast','I am selling my car','i will pray tonight']\n",
    "predict=news_clf.predict(docs_new)\n",
    "for doc, pred in zip(docs_new,predict):\n",
    "    print('{}=>{}'.format(doc,twenty_train.target_names[pred]))"
   ]
  },
  {
   "cell_type": "markdown",
   "metadata": {},
   "source": [
    "# Evaluation of the performance on the test set"
   ]
  },
  {
   "cell_type": "code",
   "execution_count": 27,
   "metadata": {},
   "outputs": [],
   "source": [
    "twenty_test = fetch_20newsgroups(subset='test',categories=categories, shuffle=True, \n",
    "                                 random_state=42)"
   ]
  },
  {
   "cell_type": "code",
   "execution_count": 28,
   "metadata": {},
   "outputs": [
    {
     "data": {
      "text/plain": [
       "0.8153266331658291"
      ]
     },
     "execution_count": 28,
     "metadata": {},
     "output_type": "execute_result"
    }
   ],
   "source": [
    "pred_test=news_clf.predict(twenty_test.data)\n",
    "np.mean(twenty_test.target==pred_test)"
   ]
  },
  {
   "cell_type": "code",
   "execution_count": 29,
   "metadata": {},
   "outputs": [
    {
     "name": "stdout",
     "output_type": "stream",
     "text": [
      "                        precision    recall  f1-score   support\n",
      "\n",
      "           alt.atheism       0.73      0.63      0.67       319\n",
      "         comp.graphics       0.87      0.90      0.88       389\n",
      "          misc.forsale       0.90      0.93      0.91       390\n",
      "       sci.electronics       0.81      0.87      0.84       393\n",
      "               sci.med       0.83      0.88      0.85       396\n",
      "             sci.space       0.89      0.91      0.90       394\n",
      "soc.religion.christian       0.79      0.85      0.82       398\n",
      "    talk.politics.guns       0.70      0.87      0.78       364\n",
      " talk.politics.mideast       0.94      0.85      0.90       376\n",
      "    talk.politics.misc       0.77      0.56      0.65       310\n",
      "    talk.religion.misc       0.65      0.51      0.57       251\n",
      "\n",
      "              accuracy                           0.82      3980\n",
      "             macro avg       0.81      0.80      0.80      3980\n",
      "          weighted avg       0.81      0.82      0.81      3980\n",
      "\n"
     ]
    }
   ],
   "source": [
    "print(metrics.classification_report(twenty_test.target,pred_test,\n",
    "                                   target_names=twenty_test.target_names))"
   ]
  },
  {
   "cell_type": "code",
   "execution_count": null,
   "metadata": {},
   "outputs": [],
   "source": []
  }
 ],
 "metadata": {
  "kernelspec": {
   "display_name": "Python 3",
   "language": "python",
   "name": "python3"
  },
  "language_info": {
   "codemirror_mode": {
    "name": "ipython",
    "version": 3
   },
   "file_extension": ".py",
   "mimetype": "text/x-python",
   "name": "python",
   "nbconvert_exporter": "python",
   "pygments_lexer": "ipython3",
   "version": "3.6.5"
  },
  "latex_envs": {
   "LaTeX_envs_menu_present": true,
   "autoclose": false,
   "autocomplete": true,
   "bibliofile": "biblio.bib",
   "cite_by": "apalike",
   "current_citInitial": 1,
   "eqLabelWithNumbers": true,
   "eqNumInitial": 1,
   "hotkeys": {
    "equation": "Ctrl-E",
    "itemize": "Ctrl-I"
   },
   "labels_anchors": false,
   "latex_user_defs": false,
   "report_style_numbering": false,
   "user_envs_cfg": false
  },
  "nbTranslate": {
   "displayLangs": [
    "*"
   ],
   "hotkey": "alt-t",
   "langInMainMenu": true,
   "sourceLang": "en",
   "targetLang": "fr",
   "useGoogleTranslate": true
  },
  "toc": {
   "base_numbering": 1,
   "nav_menu": {},
   "number_sections": true,
   "sideBar": true,
   "skip_h1_title": true,
   "title_cell": "Table of Contents",
   "title_sidebar": "Contents",
   "toc_cell": true,
   "toc_position": {},
   "toc_section_display": true,
   "toc_window_display": true
  }
 },
 "nbformat": 4,
 "nbformat_minor": 2
}
