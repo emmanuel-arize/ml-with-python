{
 "cells": [
  {
   "cell_type": "markdown",
   "metadata": {
    "toc": true
   },
   "source": [
    "<h1>Table of Contents<span class=\"tocSkip\"></span></h1>\n",
    "<div class=\"toc\"><ul class=\"toc-item\"><li><span><a href=\"#Cross-validation\" data-toc-modified-id=\"Cross-validation-1\"><span class=\"toc-item-num\">1&nbsp;&nbsp;</span>Cross-validation</a></span></li><li><span><a href=\"#The-Validation-Set-Approach\" data-toc-modified-id=\"The-Validation-Set-Approach-2\"><span class=\"toc-item-num\">2&nbsp;&nbsp;</span>The Validation Set Approach</a></span></li><li><span><a href=\"#LEAVE-ONE-OUT-CROSS-VALIDATION--LOOCV\" data-toc-modified-id=\"LEAVE-ONE-OUT-CROSS-VALIDATION--LOOCV-3\"><span class=\"toc-item-num\">3&nbsp;&nbsp;</span>LEAVE ONE OUT CROSS VALIDATION- LOOCV</a></span></li><li><span><a href=\"#K-Fold-Cross-Validation\" data-toc-modified-id=\"K-Fold-Cross-Validation-4\"><span class=\"toc-item-num\">4&nbsp;&nbsp;</span>K-Fold Cross-Validation</a></span></li><li><span><a href=\"#REPEATED-K-FOLD-CROSS-VALIDATION\" data-toc-modified-id=\"REPEATED-K-FOLD-CROSS-VALIDATION-5\"><span class=\"toc-item-num\">5&nbsp;&nbsp;</span>REPEATED K-FOLD CROSS-VALIDATION</a></span></li></ul></div>"
   ]
  },
  {
   "cell_type": "code",
   "execution_count": 1,
   "metadata": {},
   "outputs": [],
   "source": [
    "from sklearn.preprocessing import StandardScaler\n",
    "from sklearn.model_selection import train_test_split,LeaveOneOut,KFold,RepeatedKFold\n",
    "import numpy as np\n",
    "from sklearn.linear_model import LinearRegression\n",
    "from sklearn.svm import SVR\n",
    "from sklearn.model_selection import cross_val_score\n",
    "from sklearn.metrics import make_scorer,mean_squared_error,r2_score\n",
    "import sklearn\n",
    "import pandas as pd"
   ]
  },
  {
   "cell_type": "markdown",
   "metadata": {},
   "source": [
    "## Cross-validation \n",
    "***Cross-validation *** One of the finest techniques to check the generalization power of a machine learning model is Cross-validation techniques. Cross-validation is a resampling approach which are can be computationally expensive, because they involve fitting the same model multiple times using different subsets of the training data. **Cross-validation  ** refers to a set of methods for measuring the performance of a given predictive model.\n",
    "\n",
    "1. by dividing the available data set into two sets namely training and testing (validation) data set. \n",
    "\n",
    "2. Train the model using the training data set\n",
    "\n",
    "3. Test the effectiveness of the model on the the reserved sample (testing) of the data set and estimate the prediction error.\n",
    "\n",
    "**cross-validation methods for assessing model performance.**\n",
    "         \n",
    "         Validation set approach (or data split)\n",
    "         Leave One Out Cross Validation\n",
    "         k-fold Cross Validation\n",
    "         Repeated k-fold Cross Validation\n",
    "         "
   ]
  },
  {
   "cell_type": "markdown",
   "metadata": {},
   "source": [
    "## The Validation Set Approach\n",
    "\n",
    "1. randomly dividing the available data set into two parts namely, training data set and  validation data set.\n",
    "    \n",
    "2. Model is trained on the training data set\n",
    "    \n",
    "3. The Trained model is then used to predict observations in the validation set to test the generalization ability of the model when faced with new observations by calculating the prediction error using model performance metrics"
   ]
  },
  {
   "cell_type": "markdown",
   "metadata": {},
   "source": [
    "# Marketing Data Set\n",
    "**Description**\n",
    "\n",
    " The impact of three advertising medias (youtube, facebook and newspaper) on sales. Data are the advertising budget in thousands of dollars along with the sales."
   ]
  },
  {
   "cell_type": "code",
   "execution_count": 2,
   "metadata": {},
   "outputs": [],
   "source": [
    "marketing=pd.read_csv('data/marking.csv',index_col=0)"
   ]
  },
  {
   "cell_type": "code",
   "execution_count": 3,
   "metadata": {},
   "outputs": [
    {
     "name": "stdout",
     "output_type": "stream",
     "text": [
      "The advertising experiment has dataset 200 observations and 4 features\n"
     ]
    }
   ],
   "source": [
    "print(\"The advertising experiment has dataset \"+\n",
    "      str(marketing.shape[0])+ ' observations and '+str(marketing.shape[1])+' features')"
   ]
  },
  {
   "cell_type": "code",
   "execution_count": 4,
   "metadata": {},
   "outputs": [
    {
     "data": {
      "text/html": [
       "<div>\n",
       "<style scoped>\n",
       "    .dataframe tbody tr th:only-of-type {\n",
       "        vertical-align: middle;\n",
       "    }\n",
       "\n",
       "    .dataframe tbody tr th {\n",
       "        vertical-align: top;\n",
       "    }\n",
       "\n",
       "    .dataframe thead th {\n",
       "        text-align: right;\n",
       "    }\n",
       "</style>\n",
       "<table border=\"1\" class=\"dataframe\">\n",
       "  <thead>\n",
       "    <tr style=\"text-align: right;\">\n",
       "      <th></th>\n",
       "      <th>youtube</th>\n",
       "      <th>facebook</th>\n",
       "      <th>newspaper</th>\n",
       "      <th>sales</th>\n",
       "    </tr>\n",
       "  </thead>\n",
       "  <tbody>\n",
       "    <tr>\n",
       "      <th>1</th>\n",
       "      <td>276.12</td>\n",
       "      <td>45.36</td>\n",
       "      <td>83.04</td>\n",
       "      <td>26.52</td>\n",
       "    </tr>\n",
       "    <tr>\n",
       "      <th>2</th>\n",
       "      <td>53.40</td>\n",
       "      <td>47.16</td>\n",
       "      <td>54.12</td>\n",
       "      <td>12.48</td>\n",
       "    </tr>\n",
       "    <tr>\n",
       "      <th>3</th>\n",
       "      <td>20.64</td>\n",
       "      <td>55.08</td>\n",
       "      <td>83.16</td>\n",
       "      <td>11.16</td>\n",
       "    </tr>\n",
       "    <tr>\n",
       "      <th>4</th>\n",
       "      <td>181.80</td>\n",
       "      <td>49.56</td>\n",
       "      <td>70.20</td>\n",
       "      <td>22.20</td>\n",
       "    </tr>\n",
       "  </tbody>\n",
       "</table>\n",
       "</div>"
      ],
      "text/plain": [
       "   youtube  facebook  newspaper  sales\n",
       "1   276.12     45.36      83.04  26.52\n",
       "2    53.40     47.16      54.12  12.48\n",
       "3    20.64     55.08      83.16  11.16\n",
       "4   181.80     49.56      70.20  22.20"
      ]
     },
     "execution_count": 4,
     "metadata": {},
     "output_type": "execute_result"
    }
   ],
   "source": [
    "marketing.head(4)"
   ]
  },
  {
   "cell_type": "code",
   "execution_count": 5,
   "metadata": {},
   "outputs": [],
   "source": [
    "scale=StandardScaler()\n",
    "features=scale.fit_transform(marketing.iloc[:,:3])"
   ]
  },
  {
   "cell_type": "code",
   "execution_count": 6,
   "metadata": {},
   "outputs": [
    {
     "data": {
      "text/plain": [
       "array([[ 0.96985227,  0.98152247,  1.77894547],\n",
       "       [-1.19737623,  1.08280781,  0.66957876],\n",
       "       [-1.51615499,  1.52846331,  1.78354865]])"
      ]
     },
     "execution_count": 6,
     "metadata": {},
     "output_type": "execute_result"
    }
   ],
   "source": [
    "features[0:3]"
   ]
  },
  {
   "cell_type": "code",
   "execution_count": 7,
   "metadata": {},
   "outputs": [],
   "source": [
    "X_train, X_test, y_train, y_test=train_test_split(features,marketing.iloc[:,-1],\n",
    "                                                  test_size=0.3,random_state=50)"
   ]
  },
  {
   "cell_type": "code",
   "execution_count": 8,
   "metadata": {},
   "outputs": [
    {
     "data": {
      "text/plain": [
       "((140, 3), (60, 3), (140,), (60,))"
      ]
     },
     "execution_count": 8,
     "metadata": {},
     "output_type": "execute_result"
    }
   ],
   "source": [
    "X_train.shape,X_test.shape,y_train.shape,y_test.shape"
   ]
  },
  {
   "cell_type": "code",
   "execution_count": 9,
   "metadata": {},
   "outputs": [],
   "source": [
    "lrg=LinearRegression()\n",
    "svm=SVR(kernel='linear')"
   ]
  },
  {
   "cell_type": "code",
   "execution_count": 10,
   "metadata": {},
   "outputs": [
    {
     "data": {
      "text/plain": [
       "SVR(kernel='linear')"
      ]
     },
     "execution_count": 10,
     "metadata": {},
     "output_type": "execute_result"
    }
   ],
   "source": [
    "lrg.fit(X_train,y_train)\n",
    "svm.fit(X_train,y_train)"
   ]
  },
  {
   "cell_type": "code",
   "execution_count": 11,
   "metadata": {},
   "outputs": [
    {
     "data": {
      "text/plain": [
       "(array([4.88659082, 3.21452514, 0.16418342]),\n",
       " array([[4.40824062, 3.57237032, 0.09602809]]))"
      ]
     },
     "execution_count": 11,
     "metadata": {},
     "output_type": "execute_result"
    }
   ],
   "source": [
    "lrg.coef_,svm.coef_"
   ]
  },
  {
   "cell_type": "code",
   "execution_count": 12,
   "metadata": {},
   "outputs": [],
   "source": [
    "lrg_predictions=lrg.predict(X_test)\n",
    "svm_predictions=svm.predict(X_test)"
   ]
  },
  {
   "cell_type": "code",
   "execution_count": 13,
   "metadata": {},
   "outputs": [
    {
     "data": {
      "text/plain": [
       "3.7105713808019356"
      ]
     },
     "execution_count": 13,
     "metadata": {},
     "output_type": "execute_result"
    }
   ],
   "source": [
    "MSE_svm=mean_squared_error(y_pred=svm_predictions,y_true=y_test)\n",
    "MSE_svm"
   ]
  },
  {
   "cell_type": "code",
   "execution_count": 14,
   "metadata": {},
   "outputs": [],
   "source": [
    "MSE_lrg=mean_squared_error(y_pred=lrg_predictions,y_true=y_test)\n",
    "RMSE=np.sqrt(MSE_lrg)\n",
    "R2=r2_score(y_pred=lrg_predictions,y_true=y_test)"
   ]
  },
  {
   "cell_type": "code",
   "execution_count": 15,
   "metadata": {},
   "outputs": [
    {
     "data": {
      "text/plain": [
       "(0.8590575550977458, 3.776792977082013, 1.9433972772138004)"
      ]
     },
     "execution_count": 15,
     "metadata": {},
     "output_type": "execute_result"
    }
   ],
   "source": [
    "R2,MSE_lrg,RMSE"
   ]
  },
  {
   "cell_type": "markdown",
   "metadata": {},
   "source": [
    "Using RMSE, the prediction error rate is calculated by dividing the RMSE by the average value of the outcome variable, which should be as small as possible"
   ]
  },
  {
   "cell_type": "code",
   "execution_count": 16,
   "metadata": {},
   "outputs": [
    {
     "data": {
      "text/plain": [
       "0.11549279593592442"
      ]
     },
     "execution_count": 16,
     "metadata": {},
     "output_type": "execute_result"
    }
   ],
   "source": [
    "RMSE/np.mean(marketing['sales'])"
   ]
  },
  {
   "cell_type": "markdown",
   "metadata": {},
   "source": [
    "# NOTE\n",
    "the validation set approach is only useful when a large data set is available. The model is trained on only a subset of the data set so it is possible the model will not be able to capture certain patterns or interesting information about data which are only present in the test data, leading to higher bias. The estimate of the test error rate can be highly variable, depending on precisely which observations are included in the training set and which observations are included in the validation set\n"
   ]
  },
  {
   "cell_type": "markdown",
   "metadata": {},
   "source": [
    "## LEAVE ONE OUT CROSS VALIDATION- LOOCV\n",
    "\n",
    "Leave out one data point and build the model on the rest of the data set. Each sample is used once as a test set  while the remaining samples form the training set. The LOOCV estimate for the test error is the average of these n test error estimates.\n",
    "\n",
    "***LeaveOneOut() is equivalent to KFold(n_splits=n)***"
   ]
  },
  {
   "cell_type": "code",
   "execution_count": 17,
   "metadata": {},
   "outputs": [],
   "source": [
    "X=np.array([[1,3],[4,5],[10,7]])\n",
    "y=np.array([1,3,2])"
   ]
  },
  {
   "cell_type": "code",
   "execution_count": 18,
   "metadata": {},
   "outputs": [],
   "source": [
    "loocv=LeaveOneOut()"
   ]
  },
  {
   "cell_type": "markdown",
   "metadata": {},
   "source": [
    "get_n_splits(X[, y, groups])-Returns the number of splitting iterations in the cross-validator"
   ]
  },
  {
   "cell_type": "code",
   "execution_count": 19,
   "metadata": {},
   "outputs": [
    {
     "data": {
      "text/plain": [
       "3"
      ]
     },
     "execution_count": 19,
     "metadata": {},
     "output_type": "execute_result"
    }
   ],
   "source": [
    "loocv.get_n_splits(X)"
   ]
  },
  {
   "cell_type": "code",
   "execution_count": 20,
   "metadata": {},
   "outputs": [
    {
     "name": "stdout",
     "output_type": "stream",
     "text": [
      "train indx [1 2] test idx [0]\n",
      "[[ 4  5]\n",
      " [10  7]] [3 2] \n",
      " \n",
      " [[1 3]] [1]\n",
      "train indx [0 2] test idx [1]\n",
      "[[ 1  3]\n",
      " [10  7]] [1 2] \n",
      " \n",
      " [[4 5]] [3]\n",
      "train indx [0 1] test idx [2]\n",
      "[[1 3]\n",
      " [4 5]] [1 3] \n",
      " \n",
      " [[10  7]] [2]\n"
     ]
    }
   ],
   "source": [
    "for train_idx,test_idx in loocv.split(X):\n",
    "    print('train indx',train_idx,'test idx',test_idx)\n",
    "    train_x,test_x=X[train_idx],X[test_idx]\n",
    "    y_train,y_test=y[train_idx],y[test_idx]\n",
    "    print(train_x,y_train,'\\n \\n',test_x,y_test)"
   ]
  },
  {
   "cell_type": "code",
   "execution_count": 21,
   "metadata": {},
   "outputs": [],
   "source": [
    "Y=np.array(marketing.iloc[:,-1])"
   ]
  },
  {
   "cell_type": "code",
   "execution_count": 22,
   "metadata": {},
   "outputs": [],
   "source": [
    "loocv_obj=LeaveOneOut()"
   ]
  },
  {
   "cell_type": "code",
   "execution_count": 23,
   "metadata": {},
   "outputs": [],
   "source": [
    "error=[]\n",
    "for train_idx,test_idx in loocv_obj.split(features):\n",
    "    X_train=features[train_idx]\n",
    "    y_train=(Y[train_idx])\n",
    "    X_test=features[test_idx,:]\n",
    "    y_test=(Y[test_idx])\n",
    "    lrg1=LinearRegression()\n",
    "    lrg1.fit(X_train,y_train)\n",
    "    pred=lrg1.predict(X_test)\n",
    "    MSE=mean_squared_error(pred,y_test)\n",
    "    error.append(MSE)"
   ]
  },
  {
   "cell_type": "code",
   "execution_count": 24,
   "metadata": {},
   "outputs": [
    {
     "data": {
      "text/plain": [
       "(4.2435357128200835, 2.059984396256458)"
      ]
     },
     "execution_count": 24,
     "metadata": {},
     "output_type": "execute_result"
    }
   ],
   "source": [
    "np.mean(error),np.sqrt(np.mean(error))"
   ]
  },
  {
   "cell_type": "code",
   "execution_count": 25,
   "metadata": {},
   "outputs": [],
   "source": [
    "lrg1=LinearRegression()\n",
    "mse=make_scorer(mean_squared_error)"
   ]
  },
  {
   "cell_type": "code",
   "execution_count": 26,
   "metadata": {},
   "outputs": [],
   "source": [
    "#sorted(sklearn.metrics.SCORERS.keys())"
   ]
  },
  {
   "cell_type": "code",
   "execution_count": 27,
   "metadata": {},
   "outputs": [
    {
     "name": "stdout",
     "output_type": "stream",
     "text": [
      "Folds: 200, MSE: 4.2435357128200835, RMSE: 2.059984396256458\n"
     ]
    }
   ],
   "source": [
    "scores=cross_val_score(lrg1,features,Y,scoring=mse,cv=loocv)\n",
    "\n",
    "print(\"Folds: \" + str(len(scores)) + \", MSE: \" + str(np.mean(scores)) + \n",
    "      \", RMSE: \" + str(np.sqrt(np.mean(scores))))"
   ]
  },
  {
   "cell_type": "code",
   "execution_count": 28,
   "metadata": {},
   "outputs": [
    {
     "name": "stdout",
     "output_type": "stream",
     "text": [
      "Folds: 200, MSE: 4.2435357128200835, RMSE: 2.059984396256458\n"
     ]
    }
   ],
   "source": [
    "scores = cross_val_score(lrg1, features,Y, scoring=\"neg_mean_squared_error\", cv=loocv,n_jobs=1)\n",
    "print(\"Folds: \" + str(len(scores)) + \", MSE: \" + str(np.mean(np.abs(scores))) +\n",
    "       \", RMSE: \" + str(np.sqrt(np.mean(np.abs(scores)))))"
   ]
  },
  {
   "cell_type": "markdown",
   "metadata": {},
   "source": [
    "\n",
    "\n",
    "## K-Fold Cross-Validation \n",
    "\n",
    "In practice if we have enough data, we set aside part of the data set known as the validation set and use it to measure the performance of our model prediction but since data are often scarce, this is usually not possible and the best practice in such situations is to use **K-fold cross-validation**.\n",
    "\n",
    "**K-fold cross-validation** \n",
    "\n",
    "1.  Randomly split the data set into k-subsets (or k-fold) \n",
    "2. Train the model on K-1  subsets\n",
    "3. Test the model on the reserved subset and record the prediction error\n",
    "4. Repeat this process until each of the k subsets has served as the test set.\n",
    "5. The average of the K validation scores is then obtained and used as the validation score for the model and is known as the cross-validation error .\n",
    "\n"
   ]
  },
  {
   "cell_type": "code",
   "execution_count": 30,
   "metadata": {},
   "outputs": [],
   "source": [
    "cv4=KFold(n_splits=4)"
   ]
  },
  {
   "cell_type": "code",
   "execution_count": 31,
   "metadata": {},
   "outputs": [
    {
     "name": "stdout",
     "output_type": "stream",
     "text": [
      "Folds: 4, MSE: 4.280873800694743, RMSE: 2.0690272595339927\n"
     ]
    }
   ],
   "source": [
    "scores = cross_val_score(lrg1, features,Y, scoring=\"neg_mean_squared_error\", cv=cv4,n_jobs=1)\n",
    "print(\"Folds: \" + str(len(scores)) + \", MSE: \" + str(np.mean(np.abs(scores))) +\n",
    "       \", RMSE: \" + str(np.sqrt(np.mean(np.abs(scores)))))"
   ]
  },
  {
   "cell_type": "markdown",
   "metadata": {},
   "source": [
    "##  REPEATED K-FOLD CROSS-VALIDATION\n",
    "\n",
    "The process of splitting the data into k-folds can be repeated a number of times, this is called repeated k-fold cross validation.\n",
    "\n",
    "number -the number of folds \n",
    "\n",
    "repeats\tFor repeated k-fold cross-validation only: the number of complete sets of folds to compute"
   ]
  },
  {
   "cell_type": "code",
   "execution_count": 32,
   "metadata": {},
   "outputs": [],
   "source": [
    "r2cv4 = RepeatedKFold(n_splits=4, n_repeats=2, random_state=40)"
   ]
  },
  {
   "cell_type": "code",
   "execution_count": 33,
   "metadata": {},
   "outputs": [
    {
     "name": "stdout",
     "output_type": "stream",
     "text": [
      "Folds: 8, MSE: 4.2380837495395145, RMSE: 2.0586606688669007\n"
     ]
    }
   ],
   "source": [
    "scores = cross_val_score(lrg1, features,Y, scoring=\"neg_mean_squared_error\", cv=r2cv4 ,n_jobs=1)\n",
    "print(\"Folds: \" + str(len(scores)) + \", MSE: \" + str(np.mean(np.abs(scores))) +\n",
    "       \", RMSE: \" + str(np.sqrt(np.mean(np.abs(scores)))))"
   ]
  },
  {
   "cell_type": "code",
   "execution_count": null,
   "metadata": {},
   "outputs": [],
   "source": []
  },
  {
   "cell_type": "code",
   "execution_count": null,
   "metadata": {},
   "outputs": [],
   "source": []
  }
 ],
 "metadata": {
  "kernelspec": {
   "display_name": "Python 3",
   "language": "python",
   "name": "python3"
  },
  "language_info": {
   "codemirror_mode": {
    "name": "ipython",
    "version": 3
   },
   "file_extension": ".py",
   "mimetype": "text/x-python",
   "name": "python",
   "nbconvert_exporter": "python",
   "pygments_lexer": "ipython3",
   "version": "3.6.5"
  },
  "latex_envs": {
   "LaTeX_envs_menu_present": true,
   "autoclose": false,
   "autocomplete": true,
   "bibliofile": "biblio.bib",
   "cite_by": "apalike",
   "current_citInitial": 1,
   "eqLabelWithNumbers": true,
   "eqNumInitial": 1,
   "hotkeys": {
    "equation": "Ctrl-E",
    "itemize": "Ctrl-I"
   },
   "labels_anchors": false,
   "latex_user_defs": false,
   "report_style_numbering": false,
   "user_envs_cfg": false
  },
  "nbTranslate": {
   "displayLangs": [
    "*"
   ],
   "hotkey": "alt-t",
   "langInMainMenu": true,
   "sourceLang": "en",
   "targetLang": "fr",
   "useGoogleTranslate": true
  },
  "toc": {
   "base_numbering": 1,
   "nav_menu": {},
   "number_sections": true,
   "sideBar": true,
   "skip_h1_title": true,
   "title_cell": "Table of Contents",
   "title_sidebar": "Contents",
   "toc_cell": true,
   "toc_position": {},
   "toc_section_display": true,
   "toc_window_display": true
  }
 },
 "nbformat": 4,
 "nbformat_minor": 2
}
