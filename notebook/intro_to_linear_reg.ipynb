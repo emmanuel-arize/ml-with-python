{
 "cells": [
  {
   "cell_type": "code",
   "execution_count": 1,
   "metadata": {
    "ExecuteTime": {
     "end_time": "2020-08-26T15:01:13.586388Z",
     "start_time": "2020-08-26T15:01:11.083645Z"
    }
   },
   "outputs": [],
   "source": [
    "import pandas as pd\n",
    "import numpy as np\n",
    "import matplotlib.pyplot as plt\n",
    "from sklearn.metrics import r2_score,adjusted_rand_score,mean_squared_error\n",
    "import seaborn as sns\n",
    "from sklearn.model_selection import train_test_split\n",
    "from sklearn.linear_model import LinearRegression\n",
    "%matplotlib inline"
   ]
  },
  {
   "cell_type": "markdown",
   "metadata": {},
   "source": [
    "# Linear Regression\n",
    "\n",
    "----\n",
    "linear regression is one of the most widely used regression models. The model seek to identify a linear relationships between the dependent and independent variable(s). It models the expected value of a quantitative response (dependent) variable  from one or more explanatory variables (independent variables). \n"
   ]
  },
  {
   "cell_type": "markdown",
   "metadata": {},
   "source": [
    "\n",
    "\n",
    "# Simple Linear Regression and ordinary least squares (OLS)\n",
    "----\n",
    "\n",
    "simple linear regression involves predicting a quantitative response variable from a single explanatory variable\n",
    "\n",
    "\n",
    "Let consider a simple linear regression to determine how the number of flyers sold on a day relate or determine the Sales of the day defined by\n",
    "$$Y = \\beta_{0} +\\beta_{1}x + \\epsilon$$ \n",
    "where \n",
    "<ui>\n",
    "    <li>ε is a random variable with mean zero </li>\n",
    "    <li>y=Sales</li>\n",
    "    <li>x=number of flyers sold</li>\n",
    "    <li>$\\beta_{0} $=the intercept of the line (bias)</li>\n",
    "    <li>$\\beta_{1}$=the slope of the line (weight)</li>\n",
    "   </ui>\n",
    " \n",
    " # NOTE\n",
    " The intercept and slope are known as the model coefficients or parameters. "
   ]
  },
  {
   "cell_type": "code",
   "execution_count": 14,
   "metadata": {
    "ExecuteTime": {
     "end_time": "2020-08-26T15:07:54.470246Z",
     "start_time": "2020-08-26T15:07:54.456268Z"
    }
   },
   "outputs": [],
   "source": [
    "data=pd.read_csv(\"data/Lemonade.csv\")"
   ]
  },
  {
   "cell_type": "code",
   "execution_count": 15,
   "metadata": {
    "ExecuteTime": {
     "end_time": "2020-08-26T15:07:55.665762Z",
     "start_time": "2020-08-26T15:07:55.647770Z"
    }
   },
   "outputs": [
    {
     "data": {
      "text/html": [
       "<div>\n",
       "<style scoped>\n",
       "    .dataframe tbody tr th:only-of-type {\n",
       "        vertical-align: middle;\n",
       "    }\n",
       "\n",
       "    .dataframe tbody tr th {\n",
       "        vertical-align: top;\n",
       "    }\n",
       "\n",
       "    .dataframe thead th {\n",
       "        text-align: right;\n",
       "    }\n",
       "</style>\n",
       "<table border=\"1\" class=\"dataframe\">\n",
       "  <thead>\n",
       "    <tr style=\"text-align: right;\">\n",
       "      <th></th>\n",
       "      <th>Date</th>\n",
       "      <th>Day</th>\n",
       "      <th>Temperature</th>\n",
       "      <th>Rainfall</th>\n",
       "      <th>Flyers</th>\n",
       "      <th>Price</th>\n",
       "      <th>Sales</th>\n",
       "    </tr>\n",
       "  </thead>\n",
       "  <tbody>\n",
       "    <tr>\n",
       "      <th>0</th>\n",
       "      <td>01/01/2017</td>\n",
       "      <td>Sunday</td>\n",
       "      <td>27.0</td>\n",
       "      <td>2.00</td>\n",
       "      <td>15</td>\n",
       "      <td>0.3</td>\n",
       "      <td>10</td>\n",
       "    </tr>\n",
       "    <tr>\n",
       "      <th>1</th>\n",
       "      <td>02/01/2017</td>\n",
       "      <td>Monday</td>\n",
       "      <td>28.9</td>\n",
       "      <td>1.33</td>\n",
       "      <td>15</td>\n",
       "      <td>0.3</td>\n",
       "      <td>13</td>\n",
       "    </tr>\n",
       "    <tr>\n",
       "      <th>2</th>\n",
       "      <td>03/01/2017</td>\n",
       "      <td>Tuesday</td>\n",
       "      <td>34.5</td>\n",
       "      <td>1.33</td>\n",
       "      <td>27</td>\n",
       "      <td>0.3</td>\n",
       "      <td>15</td>\n",
       "    </tr>\n",
       "  </tbody>\n",
       "</table>\n",
       "</div>"
      ],
      "text/plain": [
       "         Date      Day  Temperature  Rainfall  Flyers  Price  Sales\n",
       "0  01/01/2017   Sunday         27.0      2.00      15    0.3     10\n",
       "1  02/01/2017   Monday         28.9      1.33      15    0.3     13\n",
       "2  03/01/2017  Tuesday         34.5      1.33      27    0.3     15"
      ]
     },
     "execution_count": 15,
     "metadata": {},
     "output_type": "execute_result"
    }
   ],
   "source": [
    "data.head(3)"
   ]
  },
  {
   "cell_type": "markdown",
   "metadata": {},
   "source": [
    "we want to model a simple linear regression using Sales as the response variable and Flyers as the independent variable so are\n",
    "droping the 'Date', 'Day', 'Temperature', 'Rainfall', 'Price', variables\n"
   ]
  },
  {
   "cell_type": "code",
   "execution_count": 16,
   "metadata": {
    "ExecuteTime": {
     "end_time": "2020-08-26T15:08:32.173759Z",
     "start_time": "2020-08-26T15:08:32.165758Z"
    }
   },
   "outputs": [],
   "source": [
    "data.drop(['Date', 'Day', 'Temperature', 'Rainfall', 'Price'],inplace=True,axis=1)"
   ]
  },
  {
   "cell_type": "code",
   "execution_count": 17,
   "metadata": {
    "ExecuteTime": {
     "end_time": "2020-08-26T15:08:33.206732Z",
     "start_time": "2020-08-26T15:08:33.191730Z"
    }
   },
   "outputs": [
    {
     "data": {
      "text/html": [
       "<div>\n",
       "<style scoped>\n",
       "    .dataframe tbody tr th:only-of-type {\n",
       "        vertical-align: middle;\n",
       "    }\n",
       "\n",
       "    .dataframe tbody tr th {\n",
       "        vertical-align: top;\n",
       "    }\n",
       "\n",
       "    .dataframe thead th {\n",
       "        text-align: right;\n",
       "    }\n",
       "</style>\n",
       "<table border=\"1\" class=\"dataframe\">\n",
       "  <thead>\n",
       "    <tr style=\"text-align: right;\">\n",
       "      <th></th>\n",
       "      <th>Flyers</th>\n",
       "      <th>Sales</th>\n",
       "    </tr>\n",
       "  </thead>\n",
       "  <tbody>\n",
       "    <tr>\n",
       "      <th>0</th>\n",
       "      <td>15</td>\n",
       "      <td>10</td>\n",
       "    </tr>\n",
       "    <tr>\n",
       "      <th>1</th>\n",
       "      <td>15</td>\n",
       "      <td>13</td>\n",
       "    </tr>\n",
       "  </tbody>\n",
       "</table>\n",
       "</div>"
      ],
      "text/plain": [
       "   Flyers  Sales\n",
       "0      15     10\n",
       "1      15     13"
      ]
     },
     "execution_count": 17,
     "metadata": {},
     "output_type": "execute_result"
    }
   ],
   "source": [
    "data.head(2)"
   ]
  },
  {
   "cell_type": "markdown",
   "metadata": {},
   "source": [
    "Our goal is to predict the expected amount of Sales (y) for the day based on the number of flyers sold defined as\n",
    "\n",
    "$$E(Y)= \\beta_{0} +\\beta_{1}x $$ \n",
    "\n",
    "In order to be able to predict the expected amount of Sales for a day from the number of flyers sold we need to estimate the parameters $\\hat \\beta_{0}$ and $\\hat \\beta_{1}$ such that\n",
    "$$\\hat y=\\hat \\beta_{0} +\\hat \\beta_{1}x$$.\n",
    "where $\\hat y $ is the expected prediction for Y (Sales) based on the ith value of X (the number of flyers sold) using the learned parameters.\n",
    "\n",
    "\n",
    "We choose $\\hat \\beta_{0}$  and $\\hat \\beta_{1}$ in such a way that minimize the residual sum of squares (RSS or $SS_{res}$) errors  defined as\n",
    "$SSR=$SS_{res}=e^{2}=\\sum_{i}^{n}(y_{i}-\\hat y_{i})^{2}$\n",
    "\n"
   ]
  },
  {
   "cell_type": "markdown",
   "metadata": {},
   "source": [
    "$$ \\hat \\beta_{0}= \\bar y -\\hat \\beta_{1} \\bar x$$\n",
    "\n",
    "$$\\hat \\beta_{1}=\\frac{\\sum_{i}^{n}(x_{i}-\\bar x) (y_{i}-\\bar y)}{\\sum_{i}^{n}(x_{i}-\\bar x)^{2}}$$"
   ]
  },
  {
   "cell_type": "markdown",
   "metadata": {},
   "source": [
    "# residual sum of squares\n",
    "$SSR=SS_{res}=\\sum_{i}^{n}(y_{i}-\\hat y_{i})^{2}$\n",
    "\n",
    "# The total sum of squares SST\n",
    "\n",
    "$$SST =\\sum_{i}^{n}(y_{i}- \\bar y)^{2} $$\n",
    "\n",
    "$$ SST= SS_{res} + SS_{reg}$$\n",
    "\n",
    "# regression sum of squares or explained sum of squares, \n",
    "is given by\n",
    "$$SS_{reg} =\\sum_{i}^{n}(\\hat y_{i}- \\bar y)^{2} $$\n",
    "\n",
    "\n",
    "# $R^{2}$ Coefficient of determination or measures of fit or goodness fit\n",
    "\n",
    "is the proportion of the variance in the dependent variable that is predictable or accounted or explained by the independent variable(s). $R^{2}$ normally ranges from 0 to 1 (NB can be negative)  with best possible score being 1.0 \n",
    "\n",
    "and is defined as\n",
    "\n",
    "$$R^{2}=1-\\frac{SS_{res}}{ SS_{tot}} $$\n",
    "$$OR$$\n",
    "$$R^{2}=\\frac{SS_{reg}}{ SS_{tot}}=\\frac{SS_{reg}/n}{ SS_{tot} / n} $$ "
   ]
  },
  {
   "cell_type": "markdown",
   "metadata": {},
   "source": [
    "# The adjusted R-squared\n",
    "The adjusted R-squared is a modified version of R-squared for the number of predictors in a model. The adjusted R-squared increases only if the added independent variable improves the model and decreases if the added independent variable improves the model by less than expected by chance. \n",
    "\n",
    "$$R^{2} \\ Adjusted= 1- \\frac{ \\frac{SS_{res}}{n-p-1}}{ \\frac{SS_{tot}}{n-1}  } $$\n",
    "\n",
    "\n",
    "\n",
    "$$R^{2} \\ Adjusted=1-\\frac{(1- R^{2})(n-1)}{n-p-1}  $$\n",
    "\n",
    "where is p is total number of independent (explanatory) variables in the model (not including the constant term or bias), and n is the sample size\n",
    "\n",
    "# difference between R-squared and the adjusted R-squared\n",
    "One major difference between R-squared and the adjusted R-squared is that <b>R-squared</b> gives the proportion of variance or percentage of variation in the dependent variable that is accounted for or explained by the independent variables as if all the independent variables in the model really affect the dependent variable. Every independent variable added to a model increases the R-squared and never decreases it\n",
    "\n",
    "\n",
    "while the <b>adjusted R-squared </b>gives the gives the proportion of variance or percentage of variation explained only the independent variables that really affect the dependent variable, usually lower than the R-squared. The adjusted R2 increases or decreases when the independent variable is added to the model showing how that independent variable affect the dependent variable and is best suited for multiple linear regression.\n",
    "\n",
    "\n",
    "."
   ]
  },
  {
   "cell_type": "code",
   "execution_count": 18,
   "metadata": {
    "ExecuteTime": {
     "end_time": "2020-08-26T15:10:01.245750Z",
     "start_time": "2020-08-26T15:10:00.796449Z"
    }
   },
   "outputs": [
    {
     "data": {
      "text/plain": [
       "<seaborn.axisgrid.FacetGrid at 0x252c9197048>"
      ]
     },
     "execution_count": 18,
     "metadata": {},
     "output_type": "execute_result"
    },
    {
     "data": {
      "image/png": "[encoded data removed]",
      "text/plain": [
       "<Figure size 360x360 with 1 Axes>"
      ]
     },
     "metadata": {},
     "output_type": "display_data"
    }
   ],
   "source": [
    "sns.lmplot(x='Flyers',y='Sales',data=data)"
   ]
  },
  {
   "cell_type": "markdown",
   "metadata": {},
   "source": [
    "from the diagram above there seems to be a positive relationship between flyers and Sales that is increasing the number of flyers sold on a day increases Sales for the day"
   ]
  },
  {
   "cell_type": "code",
   "execution_count": 20,
   "metadata": {
    "ExecuteTime": {
     "end_time": "2020-08-26T15:11:46.686959Z",
     "start_time": "2020-08-26T15:11:45.843936Z"
    }
   },
   "outputs": [
    {
     "data": {
      "text/plain": [
       "<seaborn.axisgrid.PairGrid at 0x252c938ff28>"
      ]
     },
     "execution_count": 20,
     "metadata": {},
     "output_type": "execute_result"
    },
    {
     "data": {
      "image/png": "[encoded data removed]",
      "text/plain": [
       "<Figure size 360x360 with 6 Axes>"
      ]
     },
     "metadata": {},
     "output_type": "display_data"
    }
   ],
   "source": [
    "sns.pairplot(data)"
   ]
  },
  {
   "cell_type": "code",
   "execution_count": 21,
   "metadata": {
    "ExecuteTime": {
     "end_time": "2020-08-26T15:11:52.837092Z",
     "start_time": "2020-08-26T15:11:52.816091Z"
    }
   },
   "outputs": [
    {
     "data": {
      "text/html": [
       "<div>\n",
       "<style scoped>\n",
       "    .dataframe tbody tr th:only-of-type {\n",
       "        vertical-align: middle;\n",
       "    }\n",
       "\n",
       "    .dataframe tbody tr th {\n",
       "        vertical-align: top;\n",
       "    }\n",
       "\n",
       "    .dataframe thead th {\n",
       "        text-align: right;\n",
       "    }\n",
       "</style>\n",
       "<table border=\"1\" class=\"dataframe\">\n",
       "  <thead>\n",
       "    <tr style=\"text-align: right;\">\n",
       "      <th></th>\n",
       "      <th>Flyers</th>\n",
       "      <th>Sales</th>\n",
       "    </tr>\n",
       "  </thead>\n",
       "  <tbody>\n",
       "    <tr>\n",
       "      <th>Flyers</th>\n",
       "      <td>1.000000</td>\n",
       "      <td>0.805183</td>\n",
       "    </tr>\n",
       "    <tr>\n",
       "      <th>Sales</th>\n",
       "      <td>0.805183</td>\n",
       "      <td>1.000000</td>\n",
       "    </tr>\n",
       "  </tbody>\n",
       "</table>\n",
       "</div>"
      ],
      "text/plain": [
       "          Flyers     Sales\n",
       "Flyers  1.000000  0.805183\n",
       "Sales   0.805183  1.000000"
      ]
     },
     "execution_count": 21,
     "metadata": {},
     "output_type": "execute_result"
    }
   ],
   "source": [
    "data.corr()"
   ]
  },
  {
   "cell_type": "markdown",
   "metadata": {},
   "source": [
    "spliting the data into training and testing set with 30% for testing"
   ]
  },
  {
   "cell_type": "code",
   "execution_count": 22,
   "metadata": {
    "ExecuteTime": {
     "end_time": "2020-08-26T15:13:16.805060Z",
     "start_time": "2020-08-26T15:13:16.794067Z"
    }
   },
   "outputs": [],
   "source": [
    "x=np.array(data.iloc[:,0])\n",
    "x=x.reshape(-1,1)\n",
    "y=np.array(data.iloc[:,1])\n",
    "X_train, X_test, y_train, y_test = train_test_split(x, y, test_size=0.3, random_state=42)"
   ]
  },
  {
   "cell_type": "markdown",
   "metadata": {},
   "source": [
    "# instantiating a linear regression object"
   ]
  },
  {
   "cell_type": "code",
   "execution_count": 23,
   "metadata": {
    "ExecuteTime": {
     "end_time": "2020-08-26T15:14:01.490359Z",
     "start_time": "2020-08-26T15:14:01.485358Z"
    }
   },
   "outputs": [],
   "source": [
    "lrg=LinearRegression()"
   ]
  },
  {
   "cell_type": "markdown",
   "metadata": {},
   "source": [
    "# fitting our model on the training set"
   ]
  },
  {
   "cell_type": "code",
   "execution_count": 24,
   "metadata": {
    "ExecuteTime": {
     "end_time": "2020-08-26T15:14:37.078065Z",
     "start_time": "2020-08-26T15:14:37.064070Z"
    }
   },
   "outputs": [
    {
     "data": {
      "text/plain": [
       "LinearRegression(copy_X=True, fit_intercept=True, n_jobs=None, normalize=False)"
      ]
     },
     "execution_count": 24,
     "metadata": {},
     "output_type": "execute_result"
    }
   ],
   "source": [
    "lrg.fit(X_train,y_train)"
   ]
  },
  {
   "cell_type": "code",
   "execution_count": 25,
   "metadata": {
    "ExecuteTime": {
     "end_time": "2020-08-26T15:14:51.998854Z",
     "start_time": "2020-08-26T15:14:51.993859Z"
    }
   },
   "outputs": [],
   "source": [
    "b0=lrg.intercept_\n",
    "b1=lrg.coef_"
   ]
  },
  {
   "cell_type": "code",
   "execution_count": 26,
   "metadata": {
    "ExecuteTime": {
     "end_time": "2020-08-26T15:15:03.648911Z",
     "start_time": "2020-08-26T15:15:03.634911Z"
    }
   },
   "outputs": [
    {
     "name": "stdout",
     "output_type": "stream",
     "text": [
      " the slope or weight parameter of the equaion is [0.40608664] and the bias intercept is 9.087245628155436\n"
     ]
    }
   ],
   "source": [
    "print(' the slope or weight parameter of the equaion is ' + str(b1) + ' and the bias intercept is ' + str(b0))"
   ]
  },
  {
   "cell_type": "code",
   "execution_count": 27,
   "metadata": {
    "ExecuteTime": {
     "end_time": "2020-08-26T15:15:52.820306Z",
     "start_time": "2020-08-26T15:15:52.814304Z"
    }
   },
   "outputs": [],
   "source": [
    "def expected_Sales(flyer):\n",
    "    sales=b0 + b1*flyer\n",
    "    result=print('the expected Sales for ' +str(flyer) + ' flyers sold on a day is ' +str(sales))\n",
    "    return result"
   ]
  },
  {
   "cell_type": "code",
   "execution_count": 28,
   "metadata": {
    "ExecuteTime": {
     "end_time": "2020-08-26T15:16:08.505791Z",
     "start_time": "2020-08-26T15:16:08.498790Z"
    }
   },
   "outputs": [
    {
     "name": "stdout",
     "output_type": "stream",
     "text": [
      "the expected Sales for 10 flyers sold on a day is [13.14811206]\n"
     ]
    }
   ],
   "source": [
    "expected_Sales(10)"
   ]
  },
  {
   "cell_type": "code",
   "execution_count": 29,
   "metadata": {
    "ExecuteTime": {
     "end_time": "2020-08-26T15:16:44.905489Z",
     "start_time": "2020-08-26T15:16:44.896487Z"
    }
   },
   "outputs": [
    {
     "data": {
      "text/plain": [
       "0.6197222986256711"
      ]
     },
     "execution_count": 29,
     "metadata": {},
     "output_type": "execute_result"
    }
   ],
   "source": [
    "lrg.score(X_test,y_test)"
   ]
  },
  {
   "cell_type": "code",
   "execution_count": 30,
   "metadata": {
    "ExecuteTime": {
     "end_time": "2020-08-26T15:16:48.419113Z",
     "start_time": "2020-08-26T15:16:48.414098Z"
    }
   },
   "outputs": [],
   "source": [
    "pred=lrg.predict(X_test)"
   ]
  },
  {
   "cell_type": "code",
   "execution_count": 31,
   "metadata": {
    "ExecuteTime": {
     "end_time": "2020-08-26T15:16:57.818824Z",
     "start_time": "2020-08-26T15:16:57.808825Z"
    }
   },
   "outputs": [
    {
     "data": {
      "text/plain": [
       "19.054395643681033"
      ]
     },
     "execution_count": 31,
     "metadata": {},
     "output_type": "execute_result"
    }
   ],
   "source": [
    "mean_squared_error(pred,y_test)"
   ]
  },
  {
   "cell_type": "code",
   "execution_count": 32,
   "metadata": {
    "ExecuteTime": {
     "end_time": "2020-08-26T15:17:08.587093Z",
     "start_time": "2020-08-26T15:17:08.578092Z"
    }
   },
   "outputs": [
    {
     "data": {
      "text/plain": [
       "0.6197222986256711"
      ]
     },
     "execution_count": 32,
     "metadata": {},
     "output_type": "execute_result"
    }
   ],
   "source": [
    "r2_score(y_pred=pred,y_true=y_test)"
   ]
  },
  {
   "cell_type": "code",
   "execution_count": 33,
   "metadata": {
    "ExecuteTime": {
     "end_time": "2020-08-26T15:17:23.520639Z",
     "start_time": "2020-08-26T15:17:23.508638Z"
    }
   },
   "outputs": [
    {
     "data": {
      "text/plain": [
       "0.012258392168968645"
      ]
     },
     "execution_count": 33,
     "metadata": {},
     "output_type": "execute_result"
    }
   ],
   "source": [
    "adjusted_rand_score(pred,y_test)"
   ]
  },
  {
   "cell_type": "code",
   "execution_count": null,
   "metadata": {},
   "outputs": [],
   "source": []
  },
  {
   "cell_type": "markdown",
   "metadata": {},
   "source": []
  },
  {
   "cell_type": "markdown",
   "metadata": {},
   "source": [
    "# Multiple regression\n",
    "\n",
    "----- \n",
    "\n",
    "Multiple regression is an extension of the principles of simple linear regression to situations in which there are two or more explanatory variables.\n",
    "\n",
    "\n",
    "Let consider a multiple linear regression to determine how the number of independent variables in the data set relate or help in determining the Revenue of the day defined by\n",
    "$$Y = \\beta_{0} +\\beta_{1}x_{1} +\\beta_{2}x_{2}+\\beta_{3}x_{3}+ \\cdots+ \\epsilon$$ \n",
    "which can be represented compactly using a dot product:\n",
    "\n",
    "$$Y= \\beta X + b$$\n",
    "\n",
    "we need to estimate the parameters $\\hat \\beta$ such that\n",
    "$$\\hat y=\\hat \\beta X$$.\n",
    "\n",
    "$$\\hat y=X\\hat \\beta=X(X^{T}X)^{-1}X^{T}y $$.\n",
    "\n",
    "where \n",
    "<ui>\n",
    "    <li>ε is a random variable with mean zero </li>\n",
    "    <li>y=Revenue</li>\n",
    "    <li>X=explanatory variables(Month, Day, Temperature, Rainfall, Flyers, Price,Sales)</li>\n",
    "    <li>$\\beta $=parameters of the model</li>\n",
    "   </ui>\n",
    "   \n",
    "   \n",
    "   $$\\hat \\beta =(X^{T}X)^{-1}X^{T}y$$"
   ]
  },
  {
   "cell_type": "code",
   "execution_count": 34,
   "metadata": {
    "ExecuteTime": {
     "end_time": "2020-08-26T15:18:29.701170Z",
     "start_time": "2020-08-26T15:18:29.551853Z"
    }
   },
   "outputs": [
    {
     "data": {
      "text/html": [
       "<div>\n",
       "<style scoped>\n",
       "    .dataframe tbody tr th:only-of-type {\n",
       "        vertical-align: middle;\n",
       "    }\n",
       "\n",
       "    .dataframe tbody tr th {\n",
       "        vertical-align: top;\n",
       "    }\n",
       "\n",
       "    .dataframe thead th {\n",
       "        text-align: right;\n",
       "    }\n",
       "</style>\n",
       "<table border=\"1\" class=\"dataframe\">\n",
       "  <thead>\n",
       "    <tr style=\"text-align: right;\">\n",
       "      <th></th>\n",
       "      <th>Date</th>\n",
       "      <th>Month</th>\n",
       "      <th>Day</th>\n",
       "      <th>Temperature</th>\n",
       "      <th>Rainfall</th>\n",
       "      <th>Flyers</th>\n",
       "      <th>Price</th>\n",
       "      <th>Sales</th>\n",
       "      <th>Revenue</th>\n",
       "    </tr>\n",
       "  </thead>\n",
       "  <tbody>\n",
       "    <tr>\n",
       "      <th>0</th>\n",
       "      <td>2017-01-01</td>\n",
       "      <td>January</td>\n",
       "      <td>Sunday</td>\n",
       "      <td>27.0</td>\n",
       "      <td>2.00</td>\n",
       "      <td>15</td>\n",
       "      <td>0.3</td>\n",
       "      <td>10.0</td>\n",
       "      <td>3.0</td>\n",
       "    </tr>\n",
       "    <tr>\n",
       "      <th>1</th>\n",
       "      <td>2017-01-02</td>\n",
       "      <td>January</td>\n",
       "      <td>Monday</td>\n",
       "      <td>28.9</td>\n",
       "      <td>1.33</td>\n",
       "      <td>15</td>\n",
       "      <td>0.3</td>\n",
       "      <td>13.0</td>\n",
       "      <td>3.9</td>\n",
       "    </tr>\n",
       "    <tr>\n",
       "      <th>2</th>\n",
       "      <td>2017-01-03</td>\n",
       "      <td>January</td>\n",
       "      <td>Tuesday</td>\n",
       "      <td>34.5</td>\n",
       "      <td>1.33</td>\n",
       "      <td>27</td>\n",
       "      <td>0.3</td>\n",
       "      <td>15.0</td>\n",
       "      <td>4.5</td>\n",
       "    </tr>\n",
       "  </tbody>\n",
       "</table>\n",
       "</div>"
      ],
      "text/plain": [
       "        Date    Month      Day  Temperature  Rainfall  Flyers  Price  Sales  \\\n",
       "0 2017-01-01  January   Sunday         27.0      2.00      15    0.3   10.0   \n",
       "1 2017-01-02  January   Monday         28.9      1.33      15    0.3   13.0   \n",
       "2 2017-01-03  January  Tuesday         34.5      1.33      27    0.3   15.0   \n",
       "\n",
       "   Revenue  \n",
       "0      3.0  \n",
       "1      3.9  \n",
       "2      4.5  "
      ]
     },
     "execution_count": 34,
     "metadata": {},
     "output_type": "execute_result"
    }
   ],
   "source": [
    "data=pd.read_excel(\"data/Lemonade.xlsx\",parse_dates=True)\n",
    "data.head(3)"
   ]
  },
  {
   "cell_type": "code",
   "execution_count": 35,
   "metadata": {
    "ExecuteTime": {
     "end_time": "2020-08-26T15:19:12.427126Z",
     "start_time": "2020-08-26T15:19:12.402128Z"
    }
   },
   "outputs": [
    {
     "data": {
      "text/html": [
       "<div>\n",
       "<style scoped>\n",
       "    .dataframe tbody tr th:only-of-type {\n",
       "        vertical-align: middle;\n",
       "    }\n",
       "\n",
       "    .dataframe tbody tr th {\n",
       "        vertical-align: top;\n",
       "    }\n",
       "\n",
       "    .dataframe thead th {\n",
       "        text-align: right;\n",
       "    }\n",
       "</style>\n",
       "<table border=\"1\" class=\"dataframe\">\n",
       "  <thead>\n",
       "    <tr style=\"text-align: right;\">\n",
       "      <th></th>\n",
       "      <th>Month</th>\n",
       "      <th>Day</th>\n",
       "      <th>Temperature</th>\n",
       "      <th>Rainfall</th>\n",
       "      <th>Flyers</th>\n",
       "      <th>Price</th>\n",
       "      <th>Sales</th>\n",
       "      <th>Revenue</th>\n",
       "    </tr>\n",
       "  </thead>\n",
       "  <tbody>\n",
       "    <tr>\n",
       "      <th>0</th>\n",
       "      <td>January</td>\n",
       "      <td>Sunday</td>\n",
       "      <td>27.0</td>\n",
       "      <td>2.00</td>\n",
       "      <td>15</td>\n",
       "      <td>0.3</td>\n",
       "      <td>10.0</td>\n",
       "      <td>3.0</td>\n",
       "    </tr>\n",
       "    <tr>\n",
       "      <th>1</th>\n",
       "      <td>January</td>\n",
       "      <td>Monday</td>\n",
       "      <td>28.9</td>\n",
       "      <td>1.33</td>\n",
       "      <td>15</td>\n",
       "      <td>0.3</td>\n",
       "      <td>13.0</td>\n",
       "      <td>3.9</td>\n",
       "    </tr>\n",
       "    <tr>\n",
       "      <th>2</th>\n",
       "      <td>January</td>\n",
       "      <td>Tuesday</td>\n",
       "      <td>34.5</td>\n",
       "      <td>1.33</td>\n",
       "      <td>27</td>\n",
       "      <td>0.3</td>\n",
       "      <td>15.0</td>\n",
       "      <td>4.5</td>\n",
       "    </tr>\n",
       "  </tbody>\n",
       "</table>\n",
       "</div>"
      ],
      "text/plain": [
       "     Month      Day  Temperature  Rainfall  Flyers  Price  Sales  Revenue\n",
       "0  January   Sunday         27.0      2.00      15    0.3   10.0      3.0\n",
       "1  January   Monday         28.9      1.33      15    0.3   13.0      3.9\n",
       "2  January  Tuesday         34.5      1.33      27    0.3   15.0      4.5"
      ]
     },
     "execution_count": 35,
     "metadata": {},
     "output_type": "execute_result"
    }
   ],
   "source": [
    "data.drop(['Date'],axis=1,inplace=True)\n",
    "data.head(3)"
   ]
  },
  {
   "cell_type": "code",
   "execution_count": 36,
   "metadata": {
    "ExecuteTime": {
     "end_time": "2020-08-26T15:19:21.822382Z",
     "start_time": "2020-08-26T15:19:21.807381Z"
    }
   },
   "outputs": [
    {
     "name": "stdout",
     "output_type": "stream",
     "text": [
      "<class 'pandas.core.frame.DataFrame'>\n",
      "RangeIndex: 366 entries, 0 to 365\n",
      "Data columns (total 8 columns):\n",
      "Month          365 non-null object\n",
      "Day            365 non-null object\n",
      "Temperature    365 non-null float64\n",
      "Rainfall       365 non-null float64\n",
      "Flyers         366 non-null int64\n",
      "Price          365 non-null float64\n",
      "Sales          365 non-null float64\n",
      "Revenue        366 non-null float64\n",
      "dtypes: float64(5), int64(1), object(2)\n",
      "memory usage: 23.0+ KB\n"
     ]
    }
   ],
   "source": [
    "data.info()"
   ]
  },
  {
   "cell_type": "code",
   "execution_count": 37,
   "metadata": {
    "ExecuteTime": {
     "end_time": "2020-08-26T15:19:31.528453Z",
     "start_time": "2020-08-26T15:19:31.496433Z"
    }
   },
   "outputs": [
    {
     "name": "stdout",
     "output_type": "stream",
     "text": [
      "columns----- ---percentage of missing values \n",
      " \n",
      " Month          0.273224\n",
      "Day            0.273224\n",
      "Temperature    0.273224\n",
      "Rainfall       0.273224\n",
      "Flyers         0.000000\n",
      "Price          0.273224\n",
      "Sales          0.273224\n",
      "Revenue        0.000000\n",
      "dtype: float64\n"
     ]
    }
   ],
   "source": [
    "# percentage of missing values within each field\n",
    "print('columns----- ---percentage of missing values \\n \\n',((data.isnull().sum())/len(data))*100)"
   ]
  },
  {
   "cell_type": "code",
   "execution_count": 38,
   "metadata": {
    "ExecuteTime": {
     "end_time": "2020-08-26T15:19:42.399746Z",
     "start_time": "2020-08-26T15:19:42.389391Z"
    }
   },
   "outputs": [],
   "source": [
    "data.dropna(axis=0,inplace=True)"
   ]
  },
  {
   "cell_type": "code",
   "execution_count": 39,
   "metadata": {
    "ExecuteTime": {
     "end_time": "2020-08-26T15:19:50.775378Z",
     "start_time": "2020-08-26T15:19:50.764399Z"
    }
   },
   "outputs": [
    {
     "name": "stdout",
     "output_type": "stream",
     "text": [
      "columns----- ---percentage of missing values \n",
      " \n",
      " Month          0.0\n",
      "Day            0.0\n",
      "Temperature    0.0\n",
      "Rainfall       0.0\n",
      "Flyers         0.0\n",
      "Price          0.0\n",
      "Sales          0.0\n",
      "Revenue        0.0\n",
      "dtype: float64\n"
     ]
    }
   ],
   "source": [
    "# percentage of missing values within each field\n",
    "print('columns----- ---percentage of missing values \\n \\n',((data.isnull().sum())/len(data))*100)"
   ]
  },
  {
   "cell_type": "code",
   "execution_count": 40,
   "metadata": {
    "ExecuteTime": {
     "end_time": "2020-08-26T15:20:12.574007Z",
     "start_time": "2020-08-26T15:20:12.556004Z"
    }
   },
   "outputs": [
    {
     "data": {
      "text/plain": [
       "Month           object\n",
       "Day             object\n",
       "Temperature    float64\n",
       "Rainfall       float64\n",
       "Flyers           int64\n",
       "Price          float64\n",
       "Sales          float64\n",
       "Revenue        float64\n",
       "dtype: object"
      ]
     },
     "execution_count": 40,
     "metadata": {},
     "output_type": "execute_result"
    }
   ],
   "source": [
    "data.dtypes"
   ]
  },
  {
   "cell_type": "code",
   "execution_count": 41,
   "metadata": {
    "ExecuteTime": {
     "end_time": "2020-08-26T15:20:16.959382Z",
     "start_time": "2020-08-26T15:20:16.952381Z"
    }
   },
   "outputs": [],
   "source": [
    "data.Flyers=data.Flyers.astype('float64')"
   ]
  },
  {
   "cell_type": "code",
   "execution_count": 42,
   "metadata": {
    "ExecuteTime": {
     "end_time": "2020-08-26T15:20:25.937116Z",
     "start_time": "2020-08-26T15:20:25.931115Z"
    }
   },
   "outputs": [],
   "source": [
    "def cat(data,col):\n",
    "    for i in col:\n",
    "        data[i]=data[i].astype('category').cat.codes\n",
    "    return data"
   ]
  },
  {
   "cell_type": "code",
   "execution_count": 43,
   "metadata": {
    "ExecuteTime": {
     "end_time": "2020-08-26T15:20:40.684467Z",
     "start_time": "2020-08-26T15:20:40.673477Z"
    }
   },
   "outputs": [],
   "source": [
    "col=['Month','Day']\n",
    "data=cat(data=data,col=col)"
   ]
  },
  {
   "cell_type": "markdown",
   "metadata": {},
   "source": [
    "# relationship between the numerical independent variables and the response"
   ]
  },
  {
   "cell_type": "code",
   "execution_count": 45,
   "metadata": {
    "ExecuteTime": {
     "end_time": "2020-08-26T15:21:15.840646Z",
     "start_time": "2020-08-26T15:21:11.308477Z"
    }
   },
   "outputs": [
    {
     "data": {
      "image/png": "[encoded data removed]",
      "text/plain": [
       "<Figure size 1080x1080 with 42 Axes>"
      ]
     },
     "metadata": {},
     "output_type": "display_data"
    }
   ],
   "source": [
    "attr = ['Temperature', 'Rainfall', 'Flyers', 'Price', 'Sales','Revenue']\n",
    "sns.pairplot(data[attr])\n",
    "plt.show()"
   ]
  },
  {
   "cell_type": "code",
   "execution_count": 46,
   "metadata": {
    "ExecuteTime": {
     "end_time": "2020-08-26T15:21:24.726959Z",
     "start_time": "2020-08-26T15:21:24.700957Z"
    }
   },
   "outputs": [
    {
     "data": {
      "text/html": [
       "<div>\n",
       "<style scoped>\n",
       "    .dataframe tbody tr th:only-of-type {\n",
       "        vertical-align: middle;\n",
       "    }\n",
       "\n",
       "    .dataframe tbody tr th {\n",
       "        vertical-align: top;\n",
       "    }\n",
       "\n",
       "    .dataframe thead th {\n",
       "        text-align: right;\n",
       "    }\n",
       "</style>\n",
       "<table border=\"1\" class=\"dataframe\">\n",
       "  <thead>\n",
       "    <tr style=\"text-align: right;\">\n",
       "      <th></th>\n",
       "      <th>Month</th>\n",
       "      <th>Day</th>\n",
       "      <th>Temperature</th>\n",
       "      <th>Rainfall</th>\n",
       "      <th>Flyers</th>\n",
       "      <th>Price</th>\n",
       "      <th>Sales</th>\n",
       "      <th>Revenue</th>\n",
       "    </tr>\n",
       "  </thead>\n",
       "  <tbody>\n",
       "    <tr>\n",
       "      <th>Month</th>\n",
       "      <td>1.000000</td>\n",
       "      <td>-0.002387</td>\n",
       "      <td>0.141465</td>\n",
       "      <td>-0.216743</td>\n",
       "      <td>0.112638</td>\n",
       "      <td>-0.329168</td>\n",
       "      <td>0.132000</td>\n",
       "      <td>-0.122563</td>\n",
       "    </tr>\n",
       "    <tr>\n",
       "      <th>Day</th>\n",
       "      <td>-0.002387</td>\n",
       "      <td>1.000000</td>\n",
       "      <td>-0.004699</td>\n",
       "      <td>-0.008247</td>\n",
       "      <td>0.043464</td>\n",
       "      <td>0.010959</td>\n",
       "      <td>-0.001594</td>\n",
       "      <td>0.002462</td>\n",
       "    </tr>\n",
       "    <tr>\n",
       "      <th>Temperature</th>\n",
       "      <td>0.141465</td>\n",
       "      <td>-0.004699</td>\n",
       "      <td>1.000000</td>\n",
       "      <td>-0.902859</td>\n",
       "      <td>0.797719</td>\n",
       "      <td>0.504709</td>\n",
       "      <td>0.989832</td>\n",
       "      <td>0.839314</td>\n",
       "    </tr>\n",
       "    <tr>\n",
       "      <th>Rainfall</th>\n",
       "      <td>-0.216743</td>\n",
       "      <td>-0.008247</td>\n",
       "      <td>-0.902859</td>\n",
       "      <td>1.000000</td>\n",
       "      <td>-0.747389</td>\n",
       "      <td>-0.383775</td>\n",
       "      <td>-0.909214</td>\n",
       "      <td>-0.712513</td>\n",
       "    </tr>\n",
       "    <tr>\n",
       "      <th>Flyers</th>\n",
       "      <td>0.112638</td>\n",
       "      <td>0.043464</td>\n",
       "      <td>0.797719</td>\n",
       "      <td>-0.747389</td>\n",
       "      <td>1.000000</td>\n",
       "      <td>0.405437</td>\n",
       "      <td>0.805183</td>\n",
       "      <td>0.678700</td>\n",
       "    </tr>\n",
       "    <tr>\n",
       "      <th>Price</th>\n",
       "      <td>-0.329168</td>\n",
       "      <td>0.010959</td>\n",
       "      <td>0.504709</td>\n",
       "      <td>-0.383775</td>\n",
       "      <td>0.405437</td>\n",
       "      <td>1.000000</td>\n",
       "      <td>0.512908</td>\n",
       "      <td>0.884179</td>\n",
       "    </tr>\n",
       "    <tr>\n",
       "      <th>Sales</th>\n",
       "      <td>0.132000</td>\n",
       "      <td>-0.001594</td>\n",
       "      <td>0.989832</td>\n",
       "      <td>-0.909214</td>\n",
       "      <td>0.805183</td>\n",
       "      <td>0.512908</td>\n",
       "      <td>1.000000</td>\n",
       "      <td>0.849568</td>\n",
       "    </tr>\n",
       "    <tr>\n",
       "      <th>Revenue</th>\n",
       "      <td>-0.122563</td>\n",
       "      <td>0.002462</td>\n",
       "      <td>0.839314</td>\n",
       "      <td>-0.712513</td>\n",
       "      <td>0.678700</td>\n",
       "      <td>0.884179</td>\n",
       "      <td>0.849568</td>\n",
       "      <td>1.000000</td>\n",
       "    </tr>\n",
       "  </tbody>\n",
       "</table>\n",
       "</div>"
      ],
      "text/plain": [
       "                Month       Day  Temperature  Rainfall    Flyers     Price  \\\n",
       "Month        1.000000 -0.002387     0.141465 -0.216743  0.112638 -0.329168   \n",
       "Day         -0.002387  1.000000    -0.004699 -0.008247  0.043464  0.010959   \n",
       "Temperature  0.141465 -0.004699     1.000000 -0.902859  0.797719  0.504709   \n",
       "Rainfall    -0.216743 -0.008247    -0.902859  1.000000 -0.747389 -0.383775   \n",
       "Flyers       0.112638  0.043464     0.797719 -0.747389  1.000000  0.405437   \n",
       "Price       -0.329168  0.010959     0.504709 -0.383775  0.405437  1.000000   \n",
       "Sales        0.132000 -0.001594     0.989832 -0.909214  0.805183  0.512908   \n",
       "Revenue     -0.122563  0.002462     0.839314 -0.712513  0.678700  0.884179   \n",
       "\n",
       "                Sales   Revenue  \n",
       "Month        0.132000 -0.122563  \n",
       "Day         -0.001594  0.002462  \n",
       "Temperature  0.989832  0.839314  \n",
       "Rainfall    -0.909214 -0.712513  \n",
       "Flyers       0.805183  0.678700  \n",
       "Price        0.512908  0.884179  \n",
       "Sales        1.000000  0.849568  \n",
       "Revenue      0.849568  1.000000  "
      ]
     },
     "execution_count": 46,
     "metadata": {},
     "output_type": "execute_result"
    }
   ],
   "source": [
    "data.corr()"
   ]
  },
  {
   "cell_type": "code",
   "execution_count": 47,
   "metadata": {
    "ExecuteTime": {
     "end_time": "2020-08-26T15:21:39.027060Z",
     "start_time": "2020-08-26T15:21:39.011436Z"
    }
   },
   "outputs": [],
   "source": [
    "x=data.iloc[:,:-1]\n",
    "y=data.iloc[:,-1]"
   ]
  },
  {
   "cell_type": "code",
   "execution_count": 48,
   "metadata": {
    "ExecuteTime": {
     "end_time": "2020-08-26T15:21:48.503890Z",
     "start_time": "2020-08-26T15:21:48.480869Z"
    }
   },
   "outputs": [],
   "source": [
    "def min_max(data):\n",
    "    return data.apply(lambda x: (x-min(x))/(max(x)-min(x)))\n",
    "x=min_max(x)    "
   ]
  },
  {
   "cell_type": "code",
   "execution_count": 49,
   "metadata": {
    "ExecuteTime": {
     "end_time": "2020-08-26T15:22:34.307322Z",
     "start_time": "2020-08-26T15:22:34.283322Z"
    }
   },
   "outputs": [
    {
     "data": {
      "text/html": [
       "<div>\n",
       "<style scoped>\n",
       "    .dataframe tbody tr th:only-of-type {\n",
       "        vertical-align: middle;\n",
       "    }\n",
       "\n",
       "    .dataframe tbody tr th {\n",
       "        vertical-align: top;\n",
       "    }\n",
       "\n",
       "    .dataframe thead th {\n",
       "        text-align: right;\n",
       "    }\n",
       "</style>\n",
       "<table border=\"1\" class=\"dataframe\">\n",
       "  <thead>\n",
       "    <tr style=\"text-align: right;\">\n",
       "      <th></th>\n",
       "      <th>Month</th>\n",
       "      <th>Day</th>\n",
       "      <th>Temperature</th>\n",
       "      <th>Rainfall</th>\n",
       "      <th>Flyers</th>\n",
       "      <th>Price</th>\n",
       "      <th>Sales</th>\n",
       "    </tr>\n",
       "  </thead>\n",
       "  <tbody>\n",
       "    <tr>\n",
       "      <th>0</th>\n",
       "      <td>0.363636</td>\n",
       "      <td>0.500000</td>\n",
       "      <td>0.135535</td>\n",
       "      <td>0.753695</td>\n",
       "      <td>0.084507</td>\n",
       "      <td>0.0</td>\n",
       "      <td>0.083333</td>\n",
       "    </tr>\n",
       "    <tr>\n",
       "      <th>1</th>\n",
       "      <td>0.363636</td>\n",
       "      <td>0.166667</td>\n",
       "      <td>0.157175</td>\n",
       "      <td>0.423645</td>\n",
       "      <td>0.084507</td>\n",
       "      <td>0.0</td>\n",
       "      <td>0.166667</td>\n",
       "    </tr>\n",
       "    <tr>\n",
       "      <th>2</th>\n",
       "      <td>0.363636</td>\n",
       "      <td>0.833333</td>\n",
       "      <td>0.220957</td>\n",
       "      <td>0.423645</td>\n",
       "      <td>0.253521</td>\n",
       "      <td>0.0</td>\n",
       "      <td>0.222222</td>\n",
       "    </tr>\n",
       "  </tbody>\n",
       "</table>\n",
       "</div>"
      ],
      "text/plain": [
       "      Month       Day  Temperature  Rainfall    Flyers  Price     Sales\n",
       "0  0.363636  0.500000     0.135535  0.753695  0.084507    0.0  0.083333\n",
       "1  0.363636  0.166667     0.157175  0.423645  0.084507    0.0  0.166667\n",
       "2  0.363636  0.833333     0.220957  0.423645  0.253521    0.0  0.222222"
      ]
     },
     "execution_count": 49,
     "metadata": {},
     "output_type": "execute_result"
    }
   ],
   "source": [
    "x.head(3)"
   ]
  },
  {
   "cell_type": "code",
   "execution_count": 50,
   "metadata": {
    "ExecuteTime": {
     "end_time": "2020-08-26T15:22:48.573516Z",
     "start_time": "2020-08-26T15:22:48.557747Z"
    }
   },
   "outputs": [],
   "source": [
    "X_train, X_test, y_train, y_test = train_test_split(x, y, test_size=0.3, random_state=42)"
   ]
  },
  {
   "cell_type": "code",
   "execution_count": 51,
   "metadata": {
    "ExecuteTime": {
     "end_time": "2020-08-26T15:22:59.697344Z",
     "start_time": "2020-08-26T15:22:59.693350Z"
    }
   },
   "outputs": [],
   "source": [
    "m_lrg=LinearRegression(fit_intercept=True)"
   ]
  },
  {
   "cell_type": "code",
   "execution_count": 52,
   "metadata": {
    "ExecuteTime": {
     "end_time": "2020-08-26T15:23:08.894530Z",
     "start_time": "2020-08-26T15:23:08.883534Z"
    }
   },
   "outputs": [
    {
     "data": {
      "text/plain": [
       "LinearRegression(copy_X=True, fit_intercept=True, n_jobs=None, normalize=False)"
      ]
     },
     "execution_count": 52,
     "metadata": {},
     "output_type": "execute_result"
    }
   ],
   "source": [
    "m_lrg.fit(X_train,y_train)"
   ]
  },
  {
   "cell_type": "code",
   "execution_count": 53,
   "metadata": {
    "ExecuteTime": {
     "end_time": "2020-08-26T15:23:38.370769Z",
     "start_time": "2020-08-26T15:23:38.358777Z"
    }
   },
   "outputs": [
    {
     "data": {
      "text/plain": [
       "0.9951684956694857"
      ]
     },
     "execution_count": 53,
     "metadata": {},
     "output_type": "execute_result"
    }
   ],
   "source": [
    "m_lrg.score(X_test,y_test)"
   ]
  },
  {
   "cell_type": "code",
   "execution_count": 54,
   "metadata": {
    "ExecuteTime": {
     "end_time": "2020-08-26T15:23:42.507927Z",
     "start_time": "2020-08-26T15:23:42.499925Z"
    }
   },
   "outputs": [],
   "source": [
    "m_pred=m_lrg.predict(X_test)"
   ]
  },
  {
   "cell_type": "code",
   "execution_count": 55,
   "metadata": {
    "ExecuteTime": {
     "end_time": "2020-08-26T15:23:50.781632Z",
     "start_time": "2020-08-26T15:23:50.773628Z"
    }
   },
   "outputs": [
    {
     "data": {
      "text/plain": [
       "0.08074637237648268"
      ]
     },
     "execution_count": 55,
     "metadata": {},
     "output_type": "execute_result"
    }
   ],
   "source": [
    "mean_squared_error(m_pred,y_test)"
   ]
  },
  {
   "cell_type": "code",
   "execution_count": 63,
   "metadata": {
    "ExecuteTime": {
     "end_time": "2020-08-26T15:27:29.639474Z",
     "start_time": "2020-08-26T15:27:29.631470Z"
    }
   },
   "outputs": [],
   "source": [
    "dt=pd.DataFrame({\"Predicted Revenue\":m_pred,'true_Revenue':y_test})"
   ]
  },
  {
   "cell_type": "code",
   "execution_count": 64,
   "metadata": {
    "ExecuteTime": {
     "end_time": "2020-08-26T15:27:31.847602Z",
     "start_time": "2020-08-26T15:27:31.829600Z"
    }
   },
   "outputs": [
    {
     "data": {
      "text/html": [
       "<div>\n",
       "<style scoped>\n",
       "    .dataframe tbody tr th:only-of-type {\n",
       "        vertical-align: middle;\n",
       "    }\n",
       "\n",
       "    .dataframe tbody tr th {\n",
       "        vertical-align: top;\n",
       "    }\n",
       "\n",
       "    .dataframe thead th {\n",
       "        text-align: right;\n",
       "    }\n",
       "</style>\n",
       "<table border=\"1\" class=\"dataframe\">\n",
       "  <thead>\n",
       "    <tr style=\"text-align: right;\">\n",
       "      <th></th>\n",
       "      <th>Predicted Revenue</th>\n",
       "      <th>true_Revenue</th>\n",
       "    </tr>\n",
       "  </thead>\n",
       "  <tbody>\n",
       "    <tr>\n",
       "      <th>193</th>\n",
       "      <td>16.558194</td>\n",
       "      <td>16.5</td>\n",
       "    </tr>\n",
       "    <tr>\n",
       "      <th>33</th>\n",
       "      <td>6.157094</td>\n",
       "      <td>6.3</td>\n",
       "    </tr>\n",
       "    <tr>\n",
       "      <th>15</th>\n",
       "      <td>3.806254</td>\n",
       "      <td>3.6</td>\n",
       "    </tr>\n",
       "    <tr>\n",
       "      <th>309</th>\n",
       "      <td>6.624496</td>\n",
       "      <td>6.6</td>\n",
       "    </tr>\n",
       "    <tr>\n",
       "      <th>57</th>\n",
       "      <td>5.918103</td>\n",
       "      <td>6.0</td>\n",
       "    </tr>\n",
       "    <tr>\n",
       "      <th>...</th>\n",
       "      <td>...</td>\n",
       "      <td>...</td>\n",
       "    </tr>\n",
       "    <tr>\n",
       "      <th>158</th>\n",
       "      <td>12.005865</td>\n",
       "      <td>11.7</td>\n",
       "    </tr>\n",
       "    <tr>\n",
       "      <th>229</th>\n",
       "      <td>15.238453</td>\n",
       "      <td>14.5</td>\n",
       "    </tr>\n",
       "    <tr>\n",
       "      <th>360</th>\n",
       "      <td>5.492528</td>\n",
       "      <td>5.7</td>\n",
       "    </tr>\n",
       "    <tr>\n",
       "      <th>209</th>\n",
       "      <td>17.236669</td>\n",
       "      <td>17.5</td>\n",
       "    </tr>\n",
       "    <tr>\n",
       "      <th>328</th>\n",
       "      <td>5.924129</td>\n",
       "      <td>6.0</td>\n",
       "    </tr>\n",
       "  </tbody>\n",
       "</table>\n",
       "<p>110 rows × 2 columns</p>\n",
       "</div>"
      ],
      "text/plain": [
       "     Predicted Revenue  true_Revenue\n",
       "193          16.558194          16.5\n",
       "33            6.157094           6.3\n",
       "15            3.806254           3.6\n",
       "309           6.624496           6.6\n",
       "57            5.918103           6.0\n",
       "..                 ...           ...\n",
       "158          12.005865          11.7\n",
       "229          15.238453          14.5\n",
       "360           5.492528           5.7\n",
       "209          17.236669          17.5\n",
       "328           5.924129           6.0\n",
       "\n",
       "[110 rows x 2 columns]"
      ]
     },
     "execution_count": 64,
     "metadata": {},
     "output_type": "execute_result"
    }
   ],
   "source": [
    "dt"
   ]
  },
  {
   "cell_type": "code",
   "execution_count": null,
   "metadata": {},
   "outputs": [],
   "source": []
  }
 ],
 "metadata": {
  "kernelspec": {
   "display_name": "Python 3",
   "language": "python",
   "name": "python3"
  },
  "language_info": {
   "codemirror_mode": {
    "name": "ipython",
    "version": 3
   },
   "file_extension": ".py",
   "mimetype": "text/x-python",
   "name": "python",
   "nbconvert_exporter": "python",
   "pygments_lexer": "ipython3",
   "version": "3.6.5"
  }
 },
 "nbformat": 4,
 "nbformat_minor": 2
}
