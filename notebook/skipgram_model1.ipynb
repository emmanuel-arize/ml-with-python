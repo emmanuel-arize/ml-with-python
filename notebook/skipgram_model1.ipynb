{
 "cells": [
  {
   "cell_type": "markdown",
   "metadata": {},
   "source": [
    "# Skipgram model using gensim"
   ]
  },
  {
   "cell_type": "code",
   "execution_count": 1,
   "metadata": {},
   "outputs": [],
   "source": [
    "from gensim.models import  Word2Vec\n",
    "import gensim\n",
    "import re"
   ]
  },
  {
   "cell_type": "code",
   "execution_count": 1,
   "metadata": {},
   "outputs": [],
   "source": [
    "# path to to the data\n",
    "path = r'data/train.from'\n",
    "path2 =r'data/train.to'\n",
    "path3 =r'data/test.from'\n",
    "path4 =r'data/test.to'\n"
   ]
  },
  {
   "cell_type": "code",
   "execution_count": 2,
   "metadata": {},
   "outputs": [],
   "source": [
    "# rd means in binary format\n",
    "def loading_text(file):\n",
    "    with open(file, encoding='latin-1') as f:\n",
    "        lines = f.read()\n",
    "    return lines"
   ]
  },
  {
   "cell_type": "code",
   "execution_count": 3,
   "metadata": {},
   "outputs": [],
   "source": [
    "#loading of data\n",
    "train_to=loading_text(path2)\n",
    "test_to=loading_text(path4)\n",
    "train_from=loading_text(path)\n",
    "test_from=loading_text(path3)"
   ]
  },
  {
   "cell_type": "code",
   "execution_count": 4,
   "metadata": {},
   "outputs": [],
   "source": []
  },
  {
   "cell_type": "code",
   "execution_count": 5,
   "metadata": {},
   "outputs": [],
   "source": [
    "\n",
    "# preprocessing the data\n",
    "train_to=''.join(re.sub('(@[A-Za-z0-9]+)|([^0-9A-Za-z \\.])|(\\w+:\\/\\/\\s+)',\n",
    "                        ' ', train_to))\n",
    "train_from=''.join(re.sub(\"(@[A-Za-z0-9]+)|([^0-9A-Za-z \\.])|(\\w+:\\/\\/\\s+)\",\n",
    "                          \" \", train_from)) \n",
    "test_to=''.join(re.sub('(@[A-Za-z0-9]+)|([^0-9A-Za-z \\.])|(\\w+:\\/\\/\\s+)',\n",
    "                       ' ', test_to))\n",
    "test_from=''.join(re.sub('(@[A-Za-z0-9]+)|([^0-9A-Za-z \\.])|(\\w+:\\/\\/\\s+)',\n",
    "                         ' ', test_from)) \n"
   ]
  },
  {
   "cell_type": "code",
   "execution_count": 6,
   "metadata": {},
   "outputs": [],
   "source": [
    "# spliting the data into a list\n",
    "train_from_clean=re.split('[?.]', train_from)\n",
    "\n",
    "train_to_clean=re.split('[?.]', train_to)\n",
    "\n",
    "test_from_clean=re.split('[?.]', test_from)\n",
    "\n",
    "test_to_clean=re.split('[?.]', test_to)"
   ]
  },
  {
   "cell_type": "code",
   "execution_count": 7,
   "metadata": {},
   "outputs": [],
   "source": [
    "\n",
    "train_from_clean=[i.split() for i in train_from_clean]\n",
    "train_to_clean=[ i.split() for i in train_to_clean]\n",
    "test_from_clean=[i.split() for i in test_from_clean]\n",
    "test_to_clean=[ i.split() for i in test_to_clean]\n"
   ]
  },
  {
   "cell_type": "code",
   "execution_count": 8,
   "metadata": {},
   "outputs": [
    {
     "data": {
      "text/plain": [
       "['As', 'always', 'Dilbert', 'is', 'so', 'true']"
      ]
     },
     "execution_count": 8,
     "metadata": {},
     "output_type": "execute_result"
    }
   ],
   "source": [
    "train_from_clean[0]"
   ]
  },
  {
   "cell_type": "code",
   "execution_count": 9,
   "metadata": {},
   "outputs": [],
   "source": [
    "# concatenating the data\n",
    "words=test_from_clean + test_to_clean + train_from_clean + train_to_clean\n"
   ]
  },
  {
   "cell_type": "markdown",
   "metadata": {},
   "source": [
    "# training word to vector using gensim library"
   ]
  },
  {
   "cell_type": "code",
   "execution_count": 11,
   "metadata": {},
   "outputs": [],
   "source": [
    "# using the skipgram model sg must be  speciied to 1 \n",
    "model= Word2Vec(sentences = words, size = 50, sg = 1, window = 2, \n",
    "                 min_count = 3,negative=6, iter = 7,compute_loss=True)"
   ]
  },
  {
   "cell_type": "code",
   "execution_count": 13,
   "metadata": {},
   "outputs": [
    {
     "name": "stderr",
     "output_type": "stream",
     "text": [
      "C:\\Anaconda3\\lib\\site-packages\\ipykernel_launcher.py:2: DeprecationWarning: Call to deprecated `most_similar` (Method will be removed in 4.0.0, use self.wv.most_similar() instead).\n",
      "  \n"
     ]
    },
    {
     "data": {
      "text/plain": [
       "[('good', 0.862677812576294),\n",
       " ('terrible', 0.8062669038772583),\n",
       " ('cool', 0.794794499874115),\n",
       " ('lame', 0.7650114893913269),\n",
       " ('tasty', 0.7642785310745239),\n",
       " ('retarded', 0.7618979811668396),\n",
       " ('tough', 0.7604925036430359),\n",
       " ('odd', 0.7554553151130676),\n",
       " ('great', 0.7549631595611572),\n",
       " ('clever', 0.7547526359558105)]"
      ]
     },
     "execution_count": 13,
     "metadata": {},
     "output_type": "execute_result"
    }
   ],
   "source": [
    "# finding words from the data similar to the words bad \n",
    "model.most_similar('bad')"
   ]
  },
  {
   "cell_type": "code",
   "execution_count": 14,
   "metadata": {},
   "outputs": [
    {
     "name": "stderr",
     "output_type": "stream",
     "text": [
      "C:\\Anaconda3\\lib\\site-packages\\ipykernel_launcher.py:1: DeprecationWarning: Call to deprecated `most_similar` (Method will be removed in 4.0.0, use self.wv.most_similar() instead).\n",
      "  \"\"\"Entry point for launching an IPython kernel.\n"
     ]
    },
    {
     "data": {
      "text/plain": [
       "[('boy', 0.8032748699188232),\n",
       " ('girl', 0.7696595788002014),\n",
       " ('lady', 0.7685872316360474),\n",
       " ('dude', 0.7660578489303589),\n",
       " ('guy', 0.7489833235740662),\n",
       " ('woman', 0.7379618883132935),\n",
       " ('friend', 0.7261476516723633),\n",
       " ('joke', 0.7238820791244507),\n",
       " ('tits', 0.7219446301460266),\n",
       " ('fucker', 0.7105892300605774)]"
      ]
     },
     "execution_count": 14,
     "metadata": {},
     "output_type": "execute_result"
    }
   ],
   "source": [
    "model.most_similar('man')"
   ]
  },
  {
   "cell_type": "code",
   "execution_count": 15,
   "metadata": {},
   "outputs": [
    {
     "name": "stderr",
     "output_type": "stream",
     "text": [
      "C:\\Anaconda3\\lib\\site-packages\\ipykernel_launcher.py:1: DeprecationWarning: Call to deprecated `most_similar` (Method will be removed in 4.0.0, use self.wv.most_similar() instead).\n",
      "  \"\"\"Entry point for launching an IPython kernel.\n"
     ]
    },
    {
     "data": {
      "text/plain": [
       "[('bad', 0.862677812576294),\n",
       " ('great', 0.8434005379676819),\n",
       " ('cool', 0.8278169631958008),\n",
       " ('terrible', 0.7991344928741455),\n",
       " ('strange', 0.7890195250511169),\n",
       " ('fantastic', 0.7883712649345398),\n",
       " ('decent', 0.7747383117675781),\n",
       " ('tough', 0.7729984521865845),\n",
       " ('weird', 0.77089923620224),\n",
       " ('nice', 0.7682676315307617)]"
      ]
     },
     "execution_count": 15,
     "metadata": {},
     "output_type": "execute_result"
    }
   ],
   "source": [
    "model.most_similar('good')"
   ]
  },
  {
   "cell_type": "code",
   "execution_count": 20,
   "metadata": {},
   "outputs": [
    {
     "data": {
      "text/plain": [
       "50"
      ]
     },
     "execution_count": 20,
     "metadata": {},
     "output_type": "execute_result"
    }
   ],
   "source": [
    "model.vector_size"
   ]
  },
  {
   "cell_type": "code",
   "execution_count": null,
   "metadata": {},
   "outputs": [],
   "source": []
  }
 ],
 "metadata": {
  "kernelspec": {
   "display_name": "Python 3",
   "language": "python",
   "name": "python3"
  },
  "language_info": {
   "codemirror_mode": {
    "name": "ipython",
    "version": 3
   },
   "file_extension": ".py",
   "mimetype": "text/x-python",
   "name": "python",
   "nbconvert_exporter": "python",
   "pygments_lexer": "ipython3",
   "version": "3.6.5"
  }
 },
 "nbformat": 4,
 "nbformat_minor": 2
}
