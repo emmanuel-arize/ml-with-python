{
 "cells": [
  {
   "cell_type": "markdown",
   "metadata": {},
   "source": [
    "<h1>INSTANCE-BASED LEARNING</h1>\n",
    "<h2>From the book: Machine Learning by Tom M. Mitchell page 230</h2>\n",
    "<img src=\"images/inst.jpg\">"
   ]
  },
  {
   "cell_type": "code",
   "execution_count": null,
   "metadata": {},
   "outputs": [],
   "source": []
  },
  {
   "cell_type": "markdown",
   "metadata": {},
   "source": [
    "<h1 title='K-Nearest Neighbour'>K-NN</h1>\n",
    "\n",
    "The KNN is one of the simplest machine learning algorithms and an example of instance-based learning, where new instances are predicted based on stored instances. k-nearest neighbors algorithm (k-NN) is a supervised nonparametric method used for both classification (data with discrete labels) and regression (data with continuous labels) but  widely used for classification problems. At the heart of this method is the K ( The number of nearest neighbors to look for) parameter. Unlike other supervised learning algorithms, K-NN does not learn an explicit mapping f from the training data which will used in making predictions or classifying new instances but instead with a predefined K, KNN finds the K training samples that are closest to the new instance based some distance or similarity function such as Euclidean (commonly used), Manhattan, Mahalanobis, cosine similarity function and predict the label from these K closest training example.\n",
    "\n",
    "<h1 title='K-NN USED AS A CLASSIFIER'>In classification settings</h1> \n",
    "Once k is selected, given a new instance the method assigns a label to a new instance (unlabeled vector) based on the k closest training data points,  that is a new instance is classified by assigning the label which is most frequent or common among the k training samples nearest to that new instance.\n",
    "\n",
    "<h1 title='K-NN USED AS A REGRESSOR'>In regression </h1>\n",
    "assign the average response (Average the values of k nearest neighbors)  of the of k nearest neighbors"
   ]
  },
  {
   "cell_type": "markdown",
   "metadata": {},
   "source": [
    "<h1> K-Nearest Neighbors Algorithm </h1>\n",
    "<ul>\n",
    "    <li>Determine parameter K </li>\n",
    "    <li>Compute the distance of the new instance from each training point </li>\n",
    "   <li>Sort the distances in ascending (or descending) order </li>\n",
    "<li>Select the K nearest neighbors based on the sorted distances </li>\n",
    "<li>Use majority rule (for classification) or averaging (for regression)</li>\n",
    "</ul>\n",
    "\n",
    "<h1>NOTE</h1>\n",
    "The choice of distance or similarity function depends on the type of features in the dataset\n",
    "\n",
    "The experimental results from [Effects of Distance Measure Choice on KNN Classifier Performance - A Review](https://www.ncbi.nlm.nih.gov/pmc/articles/PMC4978658/) show that the performance of KNN classifier depends significantly on the distance measure used. The results also show that some distance measure are less affected by added noise.\n"
   ]
  },
  {
   "cell_type": "code",
   "execution_count": 1,
   "metadata": {
    "ExecuteTime": {
     "end_time": "2020-08-23T03:49:46.990403Z",
     "start_time": "2020-08-23T03:49:45.501736Z"
    }
   },
   "outputs": [],
   "source": [
    "from sklearn.datasets import load_iris\n",
    "from sklearn.neighbors import KNeighborsClassifier\n",
    "from sklearn.metrics import confusion_matrix,classification_report,accuracy_score\n",
    "from sklearn.preprocessing import StandardScaler\n",
    "import numpy as np"
   ]
  },
  {
   "cell_type": "code",
   "execution_count": 2,
   "metadata": {
    "ExecuteTime": {
     "end_time": "2020-08-23T03:49:47.004405Z",
     "start_time": "2020-08-23T03:49:46.997385Z"
    }
   },
   "outputs": [],
   "source": [
    "np.random.seed(1000)"
   ]
  },
  {
   "cell_type": "code",
   "execution_count": 3,
   "metadata": {
    "ExecuteTime": {
     "end_time": "2020-08-23T03:49:47.022402Z",
     "start_time": "2020-08-23T03:49:47.010384Z"
    }
   },
   "outputs": [],
   "source": [
    "iris=load_iris()"
   ]
  },
  {
   "cell_type": "code",
   "execution_count": 4,
   "metadata": {
    "ExecuteTime": {
     "end_time": "2020-08-23T03:49:47.031384Z",
     "start_time": "2020-08-23T03:49:47.026382Z"
    }
   },
   "outputs": [],
   "source": [
    "features=iris.data\n",
    "labels=iris.target"
   ]
  },
  {
   "cell_type": "code",
   "execution_count": 5,
   "metadata": {
    "ExecuteTime": {
     "end_time": "2020-08-23T03:49:48.039891Z",
     "start_time": "2020-08-23T03:49:48.013892Z"
    }
   },
   "outputs": [
    {
     "data": {
      "text/plain": [
       "((150, 4), (150,))"
      ]
     },
     "execution_count": 5,
     "metadata": {},
     "output_type": "execute_result"
    }
   ],
   "source": [
    "features.shape,labels.shape"
   ]
  },
  {
   "cell_type": "code",
   "execution_count": 6,
   "metadata": {
    "ExecuteTime": {
     "end_time": "2020-08-23T03:49:48.826195Z",
     "start_time": "2020-08-23T03:49:48.820199Z"
    }
   },
   "outputs": [],
   "source": [
    "scale=StandardScaler()\n",
    "features=scale.fit_transform(features)    "
   ]
  },
  {
   "cell_type": "code",
   "execution_count": 7,
   "metadata": {
    "ExecuteTime": {
     "end_time": "2020-08-23T03:49:49.569409Z",
     "start_time": "2020-08-23T03:49:49.560404Z"
    }
   },
   "outputs": [
    {
     "data": {
      "text/plain": [
       "array([[-1.14301691, -0.13197948, -1.34022653, -1.3154443 ],\n",
       "       [-1.38535265,  0.32841405, -1.39706395, -1.3154443 ],\n",
       "       [-1.50652052,  0.09821729, -1.2833891 , -1.3154443 ],\n",
       "       [-1.02184904,  1.24920112, -1.34022653, -1.3154443 ],\n",
       "       [-0.53717756,  1.93979142, -1.16971425, -1.05217993]])"
      ]
     },
     "execution_count": 7,
     "metadata": {},
     "output_type": "execute_result"
    }
   ],
   "source": [
    "features[1:6]"
   ]
  },
  {
   "cell_type": "markdown",
   "metadata": {},
   "source": [
    "the data contain 150 instances with 4 features and a label"
   ]
  },
  {
   "cell_type": "code",
   "execution_count": 8,
   "metadata": {
    "ExecuteTime": {
     "end_time": "2020-08-23T03:49:50.643944Z",
     "start_time": "2020-08-23T03:49:50.635950Z"
    }
   },
   "outputs": [
    {
     "data": {
      "text/plain": [
       "array([0, 0, 0, 0, 0, 0, 0, 0, 0])"
      ]
     },
     "execution_count": 8,
     "metadata": {},
     "output_type": "execute_result"
    }
   ],
   "source": [
    "labels[1:10]"
   ]
  },
  {
   "cell_type": "markdown",
   "metadata": {},
   "source": [
    "# spliting the data into training and test dataset with 20% as test dataset"
   ]
  },
  {
   "cell_type": "code",
   "execution_count": 9,
   "metadata": {
    "ExecuteTime": {
     "end_time": "2020-08-23T03:49:51.561919Z",
     "start_time": "2020-08-23T03:49:51.555920Z"
    }
   },
   "outputs": [],
   "source": [
    "indices = np.random.permutation(len(features))\n",
    "X_train = features[indices[:-30]]\n",
    "y_train = labels[indices[:-30]]\n",
    "X_test = features[indices[-30:]]\n",
    "y_test = labels[indices[-30:]]"
   ]
  },
  {
   "cell_type": "code",
   "execution_count": 10,
   "metadata": {
    "ExecuteTime": {
     "end_time": "2020-08-23T03:49:52.548684Z",
     "start_time": "2020-08-23T03:49:52.540685Z"
    }
   },
   "outputs": [
    {
     "data": {
      "text/plain": [
       "array([0, 2, 2, 0, 0, 1, 1, 0, 2])"
      ]
     },
     "execution_count": 10,
     "metadata": {},
     "output_type": "execute_result"
    }
   ],
   "source": [
    "y_train[1:10]"
   ]
  },
  {
   "cell_type": "code",
   "execution_count": 11,
   "metadata": {
    "ExecuteTime": {
     "end_time": "2020-08-23T03:49:53.096015Z",
     "start_time": "2020-08-23T03:49:53.088020Z"
    }
   },
   "outputs": [
    {
     "data": {
      "text/plain": [
       "(120,)"
      ]
     },
     "execution_count": 11,
     "metadata": {},
     "output_type": "execute_result"
    }
   ],
   "source": [
    "y_train.shape"
   ]
  },
  {
   "cell_type": "markdown",
   "metadata": {
    "ExecuteTime": {
     "end_time": "2020-08-17T09:57:25.489718Z",
     "start_time": "2020-08-17T09:57:25.481721Z"
    }
   },
   "source": [
    "# instantiating a KNN OBJECT with k=6"
   ]
  },
  {
   "cell_type": "code",
   "execution_count": 12,
   "metadata": {
    "ExecuteTime": {
     "end_time": "2020-08-23T03:49:55.199351Z",
     "start_time": "2020-08-23T03:49:55.195356Z"
    }
   },
   "outputs": [],
   "source": [
    "knn=KNeighborsClassifier(n_neighbors=6)"
   ]
  },
  {
   "cell_type": "code",
   "execution_count": 13,
   "metadata": {
    "ExecuteTime": {
     "end_time": "2020-08-23T03:49:55.973523Z",
     "start_time": "2020-08-23T03:49:55.961519Z"
    }
   },
   "outputs": [
    {
     "data": {
      "text/plain": [
       "KNeighborsClassifier(algorithm='auto', leaf_size=30, metric='minkowski',\n",
       "                     metric_params=None, n_jobs=None, n_neighbors=6, p=2,\n",
       "                     weights='uniform')"
      ]
     },
     "execution_count": 13,
     "metadata": {},
     "output_type": "execute_result"
    }
   ],
   "source": [
    "knn.fit(X_train,y_train)"
   ]
  },
  {
   "cell_type": "markdown",
   "metadata": {},
   "source": [
    "<h1>Minkowski Distance</h1>\n",
    "The Minkowski distance can be considered as a generalization of both the Euclidean and Manhattan distance.\n",
    "The Minkowski distance of order p where p is an ineteger between two points\n",
    "$X=(x_{1},x_{2},\\cdots, x_{n})$ $Y=(y_{1},y_{2},\\cdots, y_{n}$ is defined as\n",
    "$$ D(X,Y)=\\lgroup \\sum_{i}^{n}|x_{i}-y_{i}|^{p}    \\rgroup ^{\\frac{1}{p} }$$\n",
    "\n",
    "The default metric is minkowski with p=2 which is equivalent to the standard Euclidean distance.\n",
    "\n",
    "<h1>Euclidean Distance</h1>\n",
    "between two points X and Y is defined as\n",
    "\n",
    "$$ D(X,Y)=\\sqrt {\\sum_{i}^{n}(x_{i}-y_{i})^{2}} $$\n",
    "<h1>Manhattan Distance or $L^{1}$ distance OR $\\ell_{1}$ norm</h1>\n",
    "between two points X and Y is defined as\n",
    "$$ D(X,Y)=\\sum_{i}^{n}|x_{i}-y_{i}| $$"
   ]
  },
  {
   "cell_type": "code",
   "execution_count": 14,
   "metadata": {
    "ExecuteTime": {
     "end_time": "2020-08-23T03:50:06.086473Z",
     "start_time": "2020-08-23T03:50:06.072476Z"
    }
   },
   "outputs": [
    {
     "data": {
      "text/plain": [
       "array([0, 0, 2, 0, 0, 1, 1, 0, 1, 0, 1, 1, 0, 2, 1, 0, 1, 0, 0, 2, 2, 0,\n",
       "       0, 1, 2, 0, 1, 1, 1, 1])"
      ]
     },
     "execution_count": 14,
     "metadata": {},
     "output_type": "execute_result"
    }
   ],
   "source": [
    "y_pred=knn.predict(X_test)\n",
    "y_pred"
   ]
  },
  {
   "cell_type": "code",
   "execution_count": 15,
   "metadata": {
    "ExecuteTime": {
     "end_time": "2020-08-23T03:50:07.993312Z",
     "start_time": "2020-08-23T03:50:07.984310Z"
    }
   },
   "outputs": [
    {
     "data": {
      "text/plain": [
       "array([0, 0, 2, 0, 0, 1, 1, 0, 1, 0, 1, 1, 0, 2, 1, 0, 1, 0, 0, 2, 2, 0,\n",
       "       0, 1, 2, 0, 1, 1, 1, 1])"
      ]
     },
     "execution_count": 15,
     "metadata": {},
     "output_type": "execute_result"
    }
   ],
   "source": [
    "y_test"
   ]
  },
  {
   "cell_type": "code",
   "execution_count": 16,
   "metadata": {
    "ExecuteTime": {
     "end_time": "2020-08-23T03:50:40.685409Z",
     "start_time": "2020-08-23T03:50:38.320950Z"
    }
   },
   "outputs": [],
   "source": [
    "import pandas as pd"
   ]
  },
  {
   "cell_type": "code",
   "execution_count": 17,
   "metadata": {
    "ExecuteTime": {
     "end_time": "2020-08-23T03:53:41.844708Z",
     "start_time": "2020-08-23T03:53:41.835708Z"
    }
   },
   "outputs": [
    {
     "data": {
      "text/plain": [
       "array([ True,  True,  True,  True,  True,  True,  True,  True,  True,\n",
       "        True,  True,  True,  True,  True,  True,  True,  True,  True,\n",
       "        True,  True,  True,  True,  True,  True,  True,  True,  True,\n",
       "        True,  True,  True])"
      ]
     },
     "execution_count": 17,
     "metadata": {},
     "output_type": "execute_result"
    }
   ],
   "source": [
    "y_pred==y_test"
   ]
  },
  {
   "cell_type": "markdown",
   "metadata": {},
   "source": [
    "<h1>Performance Metrics</h1>\n",
    "Since the problem is treated as a classification problem, like any other classification problem, F1−score,\n",
    "precision and accuracy were the performance metrics used.\n",
    "<h1>Accuracy</h1>\n",
    "  is defined to be the ratio of correctly predicted observation to the total observations and it heuristically\n",
    "provides us with information as whether a model is trained correctly or not and is defined as\n",
    "\n",
    "$$Accuracy = \\frac{T rue\\ positive + T rue \\ negative}{Total \\ sample}$$\n",
    "\n",
    "<h1>Precision</h1>\n",
    " tell us if the various labeled intents are correctly predicted positive by the classifier then\n",
    "how often are they correctly predicted positive and is a good measure of determining the costs of false\n",
    "positive predicted. Precision is defined as the ratio of correctly predicted positive observations to the\n",
    "total predicted positive observations (both falsely and truly predicted positive). Precision is defined as\n",
    "\n",
    "$$P recision =\\frac{ True \\ positive}{True \\ positive + False \\ positive}$$\n",
    "<h1>F1−Score</h1>\n",
    "is a measure of a test’s accuracy which can be interpreted as a weighted average of the\n",
    "precision and recall reaching its best value at 1 and worst score at 0 and is defined as\n",
    "\n",
    "$$ F1 − Score = 2 ∗ \\frac{precision ∗ recall}{precision + recal }$$\n",
    "\n",
    "\n",
    "<h1>Recall</h1>\n",
    " is defined as\n",
    "$$recall = \\frac{True \\ positive}{True \\ positive + False \\ negative}$$"
   ]
  },
  {
   "cell_type": "code",
   "execution_count": 18,
   "metadata": {
    "ExecuteTime": {
     "end_time": "2020-08-23T03:53:44.835168Z",
     "start_time": "2020-08-23T03:53:44.825169Z"
    }
   },
   "outputs": [
    {
     "data": {
      "text/plain": [
       "1.0"
      ]
     },
     "execution_count": 18,
     "metadata": {},
     "output_type": "execute_result"
    }
   ],
   "source": [
    "accuracy_score(y_test,y_pred)"
   ]
  },
  {
   "cell_type": "code",
   "execution_count": 19,
   "metadata": {
    "ExecuteTime": {
     "end_time": "2020-08-23T03:53:45.681189Z",
     "start_time": "2020-08-23T03:53:45.671189Z"
    }
   },
   "outputs": [
    {
     "data": {
      "text/plain": [
       "array([[13,  0,  0],\n",
       "       [ 0, 12,  0],\n",
       "       [ 0,  0,  5]], dtype=int64)"
      ]
     },
     "execution_count": 19,
     "metadata": {},
     "output_type": "execute_result"
    }
   ],
   "source": [
    "confusion_matrix(y_test,y_pred)"
   ]
  },
  {
   "cell_type": "code",
   "execution_count": 20,
   "metadata": {
    "ExecuteTime": {
     "end_time": "2020-08-23T03:53:46.336346Z",
     "start_time": "2020-08-23T03:53:46.312339Z"
    }
   },
   "outputs": [
    {
     "name": "stdout",
     "output_type": "stream",
     "text": [
      "              precision    recall  f1-score   support\n",
      "\n",
      "           0       1.00      1.00      1.00        13\n",
      "           1       1.00      1.00      1.00        12\n",
      "           2       1.00      1.00      1.00         5\n",
      "\n",
      "    accuracy                           1.00        30\n",
      "   macro avg       1.00      1.00      1.00        30\n",
      "weighted avg       1.00      1.00      1.00        30\n",
      "\n"
     ]
    }
   ],
   "source": [
    "print(classification_report(y_test,y_pred))"
   ]
  },
  {
   "cell_type": "code",
   "execution_count": null,
   "metadata": {},
   "outputs": [],
   "source": []
  },
  {
   "cell_type": "code",
   "execution_count": null,
   "metadata": {},
   "outputs": [],
   "source": []
  },
  {
   "cell_type": "code",
   "execution_count": null,
   "metadata": {},
   "outputs": [],
   "source": []
  },
  {
   "cell_type": "code",
   "execution_count": null,
   "metadata": {},
   "outputs": [],
   "source": []
  }
 ],
 "metadata": {
  "kernelspec": {
   "display_name": "Python 3",
   "language": "python",
   "name": "python3"
  },
  "language_info": {
   "codemirror_mode": {
    "name": "ipython",
    "version": 3
   },
   "file_extension": ".py",
   "mimetype": "text/x-python",
   "name": "python",
   "nbconvert_exporter": "python",
   "pygments_lexer": "ipython3",
   "version": "3.6.5"
  }
 },
 "nbformat": 4,
 "nbformat_minor": 2
}
