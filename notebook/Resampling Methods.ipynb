{
 "cells": [
  {
   "cell_type": "markdown",
   "metadata": {
    "toc": true
   },
   "source": [
    "<h1>Table of Contents<span class=\"tocSkip\"></span></h1>\n",
    "<div class=\"toc\"><ul class=\"toc-item\"><li><span><a href=\"#Cross-validation\" data-toc-modified-id=\"Cross-validation-1\"><span class=\"toc-item-num\">1&nbsp;&nbsp;</span>Cross-validation</a></span></li><li><span><a href=\"#The-Validation-Set-Approach\" data-toc-modified-id=\"The-Validation-Set-Approach-2\"><span class=\"toc-item-num\">2&nbsp;&nbsp;</span>The Validation Set Approach</a></span><ul class=\"toc-item\"><li><span><a href=\"#-LEAVE-ONE-OUT-CROSS-VALIDATION--LOOCV\" data-toc-modified-id=\"-LEAVE-ONE-OUT-CROSS-VALIDATION--LOOCV-2.1\"><span class=\"toc-item-num\">2.1&nbsp;&nbsp;</span><b> LEAVE ONE OUT CROSS VALIDATION- LOOCV</b></a></span></li></ul></li><li><span><a href=\"#K-Fold-Cross-Validation\" data-toc-modified-id=\"K-Fold-Cross-Validation-3\"><span class=\"toc-item-num\">3&nbsp;&nbsp;</span>K-Fold Cross-Validation</a></span></li><li><span><a href=\"#REPEATED-K-FOLD-CROSS-VALIDATION\" data-toc-modified-id=\"REPEATED-K-FOLD-CROSS-VALIDATION-4\"><span class=\"toc-item-num\">4&nbsp;&nbsp;</span>REPEATED K-FOLD CROSS-VALIDATION</a></span></li><li><span><a href=\"#REPEATED-K-FOLD-CROSS-VALIDATION\" data-toc-modified-id=\"REPEATED-K-FOLD-CROSS-VALIDATION-5\"><span class=\"toc-item-num\">5&nbsp;&nbsp;</span>REPEATED K-FOLD CROSS-VALIDATION</a></span></li></ul></div>"
   ]
  },
  {
   "cell_type": "code",
   "execution_count": 40,
   "metadata": {},
   "outputs": [],
   "source": [
    "from sklearn.preprocessing import StandardScaler\n",
    "from sklearn.model_selection import (train_test_split,LeaveOneOut,KFold,RepeatedKFold,\n",
    "                                     cross_val_score)\n",
    "import numpy as np\n",
    "from sklearn.linear_model import LinearRegression\n",
    "from sklearn.svm import SVR,SVC\n",
    "from sklearn.metrics import make_scorer,mean_squared_error,r2_score\n",
    "import sklearn\n",
    "import pandas as pd"
   ]
  },
  {
   "cell_type": "markdown",
   "metadata": {},
   "source": [
    "## Cross-validation\n",
    "\n",
    "One of the finest techniques to check the generalization power of a machine learning model is to use ***Cross-validation techniques***. **Cross-validation** refers to a set of methods for measuring the performance of a given predictive model and can be computationally expensive, because they involve fitting the same model multiple times using different subsets of the training data. Cross-validation techniques generally involves the following process:\n",
    "\n",
    "1.  Divide the available data set into two sets namely training and testing (validation) data set.\n",
    "\n",
    "2.  Train the model using the training set\n",
    "\n",
    "3.  Test the effectiveness of the model on the the reserved sample (testing) of the data set and estimate the prediction error.\n",
    "\n",
    "**cross-validation methods for assessing model performance includes,**\n",
    "\n",
    "         Validation set approach (or data split)\n",
    "         Leave One Out Cross Validation\n",
    "         k-fold Cross Validation\n",
    "         Repeated k-fold Cross Validation\n",
    "         \n"
   ]
  },
  {
   "cell_type": "markdown",
   "metadata": {},
   "source": [
    "## The Validation Set Approach\n",
    "\n",
    "1.  randomly dividing the available data set into two parts namely, training data set and validation data set.\n",
    "\n",
    "2.  Model is trained on the training data set\n",
    "\n",
    "3.  The Trained model is then used to predict observations in the validation set to test the generalization ability of the model when faced with new observations by calculating the prediction error using model performance metrics"
   ]
  },
  {
   "cell_type": "markdown",
   "metadata": {},
   "source": [
    "# Marketing Data Set\n",
    "**Description**\n",
    "\n",
    " The impact of three advertising medias (youtube, facebook and newspaper) on sales. Data are the advertising budget in thousands of dollars along with the sales."
   ]
  },
  {
   "cell_type": "code",
   "execution_count": 9,
   "metadata": {},
   "outputs": [],
   "source": [
    "marketing=pd.read_csv('data/marking.csv',index_col=0)"
   ]
  },
  {
   "cell_type": "code",
   "execution_count": 10,
   "metadata": {},
   "outputs": [
    {
     "data": {
      "text/plain": [
       "3"
      ]
     },
     "execution_count": 10,
     "metadata": {},
     "output_type": "execute_result"
    }
   ],
   "source": [
    "marketing.shape[1]-1"
   ]
  },
  {
   "cell_type": "code",
   "execution_count": 11,
   "metadata": {},
   "outputs": [
    {
     "name": "stdout",
     "output_type": "stream",
     "text": [
      "The advertising datasets has 200 observations and 3 features and a label name sales \n"
     ]
    }
   ],
   "source": [
    "print(\"The advertising datasets has \"+\n",
    "      str(marketing.shape[0])+ ' observations and '+str(marketing.shape[1]-1)\n",
    "      +' features and a label name sales ')"
   ]
  },
  {
   "cell_type": "code",
   "execution_count": 12,
   "metadata": {},
   "outputs": [
    {
     "data": {
      "text/html": [
       "<div>\n",
       "<style scoped>\n",
       "    .dataframe tbody tr th:only-of-type {\n",
       "        vertical-align: middle;\n",
       "    }\n",
       "\n",
       "    .dataframe tbody tr th {\n",
       "        vertical-align: top;\n",
       "    }\n",
       "\n",
       "    .dataframe thead th {\n",
       "        text-align: right;\n",
       "    }\n",
       "</style>\n",
       "<table border=\"1\" class=\"dataframe\">\n",
       "  <thead>\n",
       "    <tr style=\"text-align: right;\">\n",
       "      <th></th>\n",
       "      <th>youtube</th>\n",
       "      <th>facebook</th>\n",
       "      <th>newspaper</th>\n",
       "      <th>sales</th>\n",
       "    </tr>\n",
       "  </thead>\n",
       "  <tbody>\n",
       "    <tr>\n",
       "      <th>1</th>\n",
       "      <td>276.12</td>\n",
       "      <td>45.36</td>\n",
       "      <td>83.04</td>\n",
       "      <td>26.52</td>\n",
       "    </tr>\n",
       "    <tr>\n",
       "      <th>2</th>\n",
       "      <td>53.40</td>\n",
       "      <td>47.16</td>\n",
       "      <td>54.12</td>\n",
       "      <td>12.48</td>\n",
       "    </tr>\n",
       "    <tr>\n",
       "      <th>3</th>\n",
       "      <td>20.64</td>\n",
       "      <td>55.08</td>\n",
       "      <td>83.16</td>\n",
       "      <td>11.16</td>\n",
       "    </tr>\n",
       "    <tr>\n",
       "      <th>4</th>\n",
       "      <td>181.80</td>\n",
       "      <td>49.56</td>\n",
       "      <td>70.20</td>\n",
       "      <td>22.20</td>\n",
       "    </tr>\n",
       "  </tbody>\n",
       "</table>\n",
       "</div>"
      ],
      "text/plain": [
       "   youtube  facebook  newspaper  sales\n",
       "1   276.12     45.36      83.04  26.52\n",
       "2    53.40     47.16      54.12  12.48\n",
       "3    20.64     55.08      83.16  11.16\n",
       "4   181.80     49.56      70.20  22.20"
      ]
     },
     "execution_count": 12,
     "metadata": {},
     "output_type": "execute_result"
    }
   ],
   "source": [
    "marketing.head(4)"
   ]
  },
  {
   "cell_type": "code",
   "execution_count": 126,
   "metadata": {},
   "outputs": [],
   "source": [
    "scale=StandardScaler()\n",
    "features=scale.fit_transform(marketing.iloc[:,:3])"
   ]
  },
  {
   "cell_type": "code",
   "execution_count": 127,
   "metadata": {},
   "outputs": [
    {
     "data": {
      "text/plain": [
       "array([[ 0.96985227,  0.98152247,  1.77894547],\n",
       "       [-1.19737623,  1.08280781,  0.66957876],\n",
       "       [-1.51615499,  1.52846331,  1.78354865]])"
      ]
     },
     "execution_count": 127,
     "metadata": {},
     "output_type": "execute_result"
    }
   ],
   "source": [
    "features[0:3]"
   ]
  },
  {
   "cell_type": "code",
   "execution_count": 128,
   "metadata": {},
   "outputs": [],
   "source": [
    "X_train, X_test, y_train, y_test=train_test_split(features,marketing.iloc[:,-1],\n",
    "                                                  test_size=0.3,random_state=50)"
   ]
  },
  {
   "cell_type": "code",
   "execution_count": 129,
   "metadata": {},
   "outputs": [
    {
     "data": {
      "text/plain": [
       "((140, 3), (60, 3), (140,), (60,))"
      ]
     },
     "execution_count": 129,
     "metadata": {},
     "output_type": "execute_result"
    }
   ],
   "source": [
    "X_train.shape,X_test.shape,y_train.shape,y_test.shape"
   ]
  },
  {
   "cell_type": "code",
   "execution_count": 130,
   "metadata": {},
   "outputs": [
    {
     "data": {
      "text/plain": [
       "SVR(kernel='linear')"
      ]
     },
     "execution_count": 130,
     "metadata": {},
     "output_type": "execute_result"
    }
   ],
   "source": [
    "lrg=LinearRegression()\n",
    "svm=SVR(kernel='linear')\n",
    "lrg.fit(X_train,y_train)\n",
    "svm.fit(X_train,y_train)"
   ]
  },
  {
   "cell_type": "code",
   "execution_count": 131,
   "metadata": {},
   "outputs": [
    {
     "data": {
      "text/plain": [
       "(array([4.88659082, 3.21452514, 0.16418342]),\n",
       " array([[4.40824062, 3.57237032, 0.09602809]]))"
      ]
     },
     "execution_count": 131,
     "metadata": {},
     "output_type": "execute_result"
    }
   ],
   "source": [
    "lrg.coef_,svm.coef_"
   ]
  },
  {
   "cell_type": "code",
   "execution_count": 132,
   "metadata": {},
   "outputs": [],
   "source": [
    "lrg_predictions=lrg.predict(X_test)\n",
    "svm_predictions=svm.predict(X_test)"
   ]
  },
  {
   "cell_type": "code",
   "execution_count": 133,
   "metadata": {},
   "outputs": [
    {
     "data": {
      "text/html": [
       "<div>\n",
       "<style scoped>\n",
       "    .dataframe tbody tr th:only-of-type {\n",
       "        vertical-align: middle;\n",
       "    }\n",
       "\n",
       "    .dataframe tbody tr th {\n",
       "        vertical-align: top;\n",
       "    }\n",
       "\n",
       "    .dataframe thead th {\n",
       "        text-align: right;\n",
       "    }\n",
       "</style>\n",
       "<table border=\"1\" class=\"dataframe\">\n",
       "  <thead>\n",
       "    <tr style=\"text-align: right;\">\n",
       "      <th></th>\n",
       "      <th>y-true</th>\n",
       "      <th>y-predicted</th>\n",
       "    </tr>\n",
       "  </thead>\n",
       "  <tbody>\n",
       "    <tr>\n",
       "      <th>113</th>\n",
       "      <td>16.92</td>\n",
       "      <td>16.637655</td>\n",
       "    </tr>\n",
       "    <tr>\n",
       "      <th>166</th>\n",
       "      <td>14.28</td>\n",
       "      <td>18.010867</td>\n",
       "    </tr>\n",
       "    <tr>\n",
       "      <th>13</th>\n",
       "      <td>11.04</td>\n",
       "      <td>12.726141</td>\n",
       "    </tr>\n",
       "    <tr>\n",
       "      <th>74</th>\n",
       "      <td>13.20</td>\n",
       "      <td>12.108743</td>\n",
       "    </tr>\n",
       "    <tr>\n",
       "      <th>145</th>\n",
       "      <td>13.68</td>\n",
       "      <td>12.246996</td>\n",
       "    </tr>\n",
       "    <tr>\n",
       "      <th>21</th>\n",
       "      <td>21.60</td>\n",
       "      <td>22.129354</td>\n",
       "    </tr>\n",
       "    <tr>\n",
       "      <th>200</th>\n",
       "      <td>16.08</td>\n",
       "      <td>18.427477</td>\n",
       "    </tr>\n",
       "    <tr>\n",
       "      <th>9</th>\n",
       "      <td>5.76</td>\n",
       "      <td>4.205481</td>\n",
       "    </tr>\n",
       "    <tr>\n",
       "      <th>40</th>\n",
       "      <td>25.80</td>\n",
       "      <td>24.685959</td>\n",
       "    </tr>\n",
       "    <tr>\n",
       "      <th>89</th>\n",
       "      <td>15.48</td>\n",
       "      <td>14.379462</td>\n",
       "    </tr>\n",
       "  </tbody>\n",
       "</table>\n",
       "</div>"
      ],
      "text/plain": [
       "     y-true  y-predicted\n",
       "113   16.92    16.637655\n",
       "166   14.28    18.010867\n",
       "13    11.04    12.726141\n",
       "74    13.20    12.108743\n",
       "145   13.68    12.246996\n",
       "21    21.60    22.129354\n",
       "200   16.08    18.427477\n",
       "9      5.76     4.205481\n",
       "40    25.80    24.685959\n",
       "89    15.48    14.379462"
      ]
     },
     "execution_count": 133,
     "metadata": {},
     "output_type": "execute_result"
    }
   ],
   "source": [
    "compare=pd.DataFrame({\"y-true\":y_test,\"y-predicted\":lrg_predictions})\n",
    "compare.head(10)"
   ]
  },
  {
   "cell_type": "code",
   "execution_count": 134,
   "metadata": {},
   "outputs": [
    {
     "data": {
      "text/plain": [
       "3.7105713808019356"
      ]
     },
     "execution_count": 134,
     "metadata": {},
     "output_type": "execute_result"
    }
   ],
   "source": [
    "MSE_svm=mean_squared_error(y_pred=svm_predictions,y_true=y_test)\n",
    "MSE_svm"
   ]
  },
  {
   "cell_type": "code",
   "execution_count": 135,
   "metadata": {},
   "outputs": [],
   "source": [
    "MSE_lrg=mean_squared_error(y_pred=lrg_predictions,y_true=y_test)\n",
    "RMSE=np.sqrt(MSE_lrg)\n",
    "R2=r2_score(y_pred=lrg_predictions,y_true=y_test)"
   ]
  },
  {
   "cell_type": "code",
   "execution_count": 136,
   "metadata": {},
   "outputs": [
    {
     "data": {
      "text/plain": [
       "(0.859057555097746, 3.776792977082012, 1.9433972772138002)"
      ]
     },
     "execution_count": 136,
     "metadata": {},
     "output_type": "execute_result"
    }
   ],
   "source": [
    "R2,MSE_lrg,RMSE"
   ]
  },
  {
   "cell_type": "markdown",
   "metadata": {},
   "source": [
    "Using RMSE, the prediction error rate is calculated by dividing the RMSE by the average value of the outcome variable, which should be as small as possible"
   ]
  },
  {
   "cell_type": "code",
   "execution_count": 137,
   "metadata": {},
   "outputs": [
    {
     "data": {
      "text/plain": [
       "0.1154927959359244"
      ]
     },
     "execution_count": 137,
     "metadata": {},
     "output_type": "execute_result"
    }
   ],
   "source": [
    "RMSE/np.mean(marketing['sales'])"
   ]
  },
  {
   "cell_type": "markdown",
   "metadata": {},
   "source": [
    "# NOTE\n",
    "the validation set approach is only useful when a large data set is available. The model is trained on only a subset of the data set so it is possible the model will not be able to capture certain patterns or interesting information about data which are only present in the test data, leading to higher bias. The estimate of the test error rate can vary highly, depending on precisely which observations are included in the training set and which observations are included in the validation set\n"
   ]
  },
  {
   "cell_type": "markdown",
   "metadata": {},
   "source": [
    "<h3><b> LEAVE ONE OUT CROSS VALIDATION- LOOCV</b></h3>\n",
    "\n",
    "LOOCV is a special case of K-cross-validation where the number of folds equals the number of instances in the data set.It involves splitting the date set into two parts. However, instead of creating two subsets of comparable size, only a single data point is reserved as the test set.\n",
    "The model is trained on the training set which consist of all the data points except the reserved point and compute the test error on the reserved data point. It repeats the process until each of the n data points has served as the test set and then avarage the n test errors.\n",
    "\n",
    "***LeaveOneOut() is equivalent to KFold(n_splits=n)***"
   ]
  },
  {
   "cell_type": "code",
   "execution_count": 138,
   "metadata": {},
   "outputs": [
    {
     "name": "stdout",
     "output_type": "stream",
     "text": [
      "[3 4 5 7] [1]\n",
      "[1 4 5 7] [3]\n",
      "[1 3 5 7] [4]\n",
      "[1 3 4 7] [5]\n",
      "[1 3 4 5] [7]\n"
     ]
    }
   ],
   "source": [
    "X=np.array([1,3,4,5,7])\n",
    "loocv=LeaveOneOut()\n",
    "for train,test in loocv.split(X):\n",
    "    print(\"%s %s\"%(X[train],X[test]))"
   ]
  },
  {
   "cell_type": "markdown",
   "metadata": {},
   "source": [
    "get_n_splits(X[, y, groups])-Returns the number of splitting iterations in the cross-validator"
   ]
  },
  {
   "cell_type": "code",
   "execution_count": 139,
   "metadata": {},
   "outputs": [],
   "source": [
    "Y=np.array(marketing.iloc[:,-1])"
   ]
  },
  {
   "cell_type": "code",
   "execution_count": 140,
   "metadata": {},
   "outputs": [
    {
     "data": {
      "text/plain": [
       "(4.243535712820084, 2.0599843962564583)"
      ]
     },
     "execution_count": 140,
     "metadata": {},
     "output_type": "execute_result"
    }
   ],
   "source": [
    "loocv_obj=LeaveOneOut()\n",
    "error=[]\n",
    "for train_idx,test_idx in loocv_obj.split(features):\n",
    "    X_train=features[train_idx]\n",
    "    y_train=Y[train_idx]\n",
    "    X_test=features[test_idx]\n",
    "    y_test=Y[test_idx]\n",
    "    lrg1=LinearRegression()\n",
    "    lrg1.fit(X_train,y_train)\n",
    "    pred=lrg1.predict(X_test)\n",
    "    MSE=mean_squared_error(pred,y_test)\n",
    "    error.append(MSE)\n",
    "np.mean(error),np.sqrt(np.mean(error))"
   ]
  },
  {
   "cell_type": "code",
   "execution_count": 141,
   "metadata": {},
   "outputs": [],
   "source": [
    "lrg1=LinearRegression()\n",
    "loocv=LeaveOneOut()\n",
    "mse=make_scorer(mean_squared_error)"
   ]
  },
  {
   "cell_type": "code",
   "execution_count": 142,
   "metadata": {},
   "outputs": [],
   "source": [
    "#sorted(sklearn.metrics.SCORERS.keys())"
   ]
  },
  {
   "cell_type": "code",
   "execution_count": 143,
   "metadata": {},
   "outputs": [
    {
     "name": "stdout",
     "output_type": "stream",
     "text": [
      "Folds: 200, MSE: 4.243535712820084, RMSE: 2.0599843962564583\n"
     ]
    }
   ],
   "source": [
    "scores=cross_val_score(lrg1,features,Y,scoring=mse,cv=loocv)\n",
    "\n",
    "print(\"Folds: \" + str(len(scores)) + \", MSE: \" + str(np.mean(scores)) + \n",
    "      \", RMSE: \" + str(np.sqrt(np.mean(scores))))"
   ]
  },
  {
   "cell_type": "code",
   "execution_count": 144,
   "metadata": {},
   "outputs": [
    {
     "name": "stdout",
     "output_type": "stream",
     "text": [
      "Folds: 200, MSE: 4.243535712820084, RMSE: 2.0599843962564583\n"
     ]
    }
   ],
   "source": [
    "scores = cross_val_score(lrg1, features,Y, scoring=\"neg_mean_squared_error\", cv=loocv,n_jobs=1)\n",
    "print(\"Folds: \" + str(len(scores)) + \", MSE: \" + str(np.mean(np.abs(scores))) +\n",
    "       \", RMSE: \" + str(np.sqrt(np.mean(np.abs(scores)))))"
   ]
  },
  {
   "cell_type": "markdown",
   "metadata": {},
   "source": [
    "\n",
    "\n",
    "## K-Fold Cross-Validation \n",
    "\n",
    "In practice if we have enough data, we set aside part of the data set known as the validation set and use it to measure the performance of our model prediction but since data are often scarce, this is usually not possible and the best practice in such situations is to use **K-fold cross-validation**.\n",
    "\n",
    "**K-fold cross-validation** \n",
    "\n",
    "1.  Randomly split the data set into k-subsets (or k-fold) \n",
    "2. Train the model on K-1  subsets\n",
    "3. Test the model on the reserved subset and record the prediction error\n",
    "4. Repeat this process until each of the k subsets has served as the test set.\n",
    "5. The average of the K validation scores is then obtained and used as the validation score for the model and is known as the cross-validation error .\n",
    "\n"
   ]
  },
  {
   "cell_type": "code",
   "execution_count": 145,
   "metadata": {},
   "outputs": [
    {
     "name": "stdout",
     "output_type": "stream",
     "text": [
      "[4 5 7] [1 3]\n",
      "[1 3 7] [4 5]\n",
      "[1 3 4 5] [7]\n"
     ]
    }
   ],
   "source": [
    "X=np.array([1,3,4,5,7])\n",
    "kcv=KFold(n_splits=3)\n",
    "for train,test in kcv.split(X):\n",
    "    print(\"%s %s\"%(X[train],X[test]))"
   ]
  },
  {
   "cell_type": "code",
   "execution_count": 146,
   "metadata": {},
   "outputs": [],
   "source": [
    "cv4=KFold(n_splits=4)"
   ]
  },
  {
   "cell_type": "code",
   "execution_count": 147,
   "metadata": {},
   "outputs": [
    {
     "name": "stdout",
     "output_type": "stream",
     "text": [
      "Folds: 4, MSE: 4.280873800694744, RMSE: 2.0690272595339927\n"
     ]
    }
   ],
   "source": [
    "scores = cross_val_score(lrg1, features,Y, scoring=\"neg_mean_squared_error\", cv=cv4,n_jobs=1)\n",
    "print(\"Folds: \" + str(len(scores)) + \", MSE: \" + str(np.mean(np.abs(scores))) +\n",
    "       \", RMSE: \" + str(np.sqrt(np.mean(np.abs(scores)))))"
   ]
  },
  {
   "cell_type": "markdown",
   "metadata": {},
   "source": [
    "##  REPEATED K-FOLD CROSS-VALIDATION\n",
    "\n",
    "The process of splitting the data into k-folds can be repeated a number of times, this is called repeated k-fold cross validation.\n",
    "\n",
    "number -the number of folds \n",
    "\n",
    "repeats\tFor repeated k-fold cross-validation only: the number of complete sets of folds to compute"
   ]
  },
  {
   "cell_type": "code",
   "execution_count": 148,
   "metadata": {},
   "outputs": [
    {
     "name": "stdout",
     "output_type": "stream",
     "text": [
      "[3 4 5] [1 7]\n",
      "[1 5 7] [3 4]\n",
      "[1 3 4 7] [5]\n",
      "[1 3 7] [4 5]\n",
      "[1 4 5] [3 7]\n",
      "[3 4 5 7] [1]\n"
     ]
    }
   ],
   "source": [
    "X=np.array([1,3,4,5,7])\n",
    "rkcv=RepeatedKFold(n_splits=3,n_repeats=2)\n",
    "for train,test in rkcv.split(X):\n",
    "    print(\"%s %s\"%(X[train],X[test]))"
   ]
  },
  {
   "cell_type": "code",
   "execution_count": null,
   "metadata": {},
   "outputs": [],
   "source": []
  },
  {
   "cell_type": "code",
   "execution_count": 149,
   "metadata": {},
   "outputs": [],
   "source": [
    "r2cv4 = RepeatedKFold(n_splits=4, n_repeats=2, random_state=40)"
   ]
  },
  {
   "cell_type": "code",
   "execution_count": 150,
   "metadata": {},
   "outputs": [
    {
     "name": "stdout",
     "output_type": "stream",
     "text": [
      "Folds: 8, MSE: 4.238083749539515, RMSE: 2.0586606688669007\n"
     ]
    }
   ],
   "source": [
    "scores = cross_val_score(lrg1, features,Y, scoring=\"neg_mean_squared_error\", cv=r2cv4 ,n_jobs=1)\n",
    "print(\"Folds: \" + str(len(scores)) + \", MSE: \" + str(np.mean(np.abs(scores))) +\n",
    "       \", RMSE: \" + str(np.sqrt(np.mean(np.abs(scores)))))"
   ]
  },
  {
   "cell_type": "code",
   "execution_count": null,
   "metadata": {},
   "outputs": [],
   "source": []
  },
  {
   "cell_type": "markdown",
   "metadata": {},
   "source": [
    "# Cross-Validation on Classification Problems "
   ]
  },
  {
   "cell_type": "code",
   "execution_count": 41,
   "metadata": {},
   "outputs": [],
   "source": [
    "from sklearn.datasets import load_iris"
   ]
  },
  {
   "cell_type": "code",
   "execution_count": 151,
   "metadata": {},
   "outputs": [],
   "source": [
    "x_iris,y_iris=load_iris(return_X_y=True)"
   ]
  },
  {
   "cell_type": "code",
   "execution_count": 152,
   "metadata": {},
   "outputs": [],
   "source": [
    "x_iris=StandardScaler().fit_transform(x_iris)"
   ]
  },
  {
   "cell_type": "markdown",
   "metadata": {},
   "source": [
    "# K-FOLD CROSS-VALIDATION"
   ]
  },
  {
   "cell_type": "code",
   "execution_count": 153,
   "metadata": {},
   "outputs": [],
   "source": [
    "clr=SVC(kernel='linear')"
   ]
  },
  {
   "cell_type": "code",
   "execution_count": 154,
   "metadata": {},
   "outputs": [],
   "source": [
    "clr_scores=cross_val_score(clr,x_iris,y_iris,scoring='accuracy',cv=5)"
   ]
  },
  {
   "cell_type": "code",
   "execution_count": 155,
   "metadata": {},
   "outputs": [
    {
     "data": {
      "text/plain": [
       "array([0.96666667, 1.        , 0.93333333, 0.93333333, 1.        ])"
      ]
     },
     "execution_count": 155,
     "metadata": {},
     "output_type": "execute_result"
    }
   ],
   "source": [
    "clr_scores"
   ]
  },
  {
   "cell_type": "code",
   "execution_count": 156,
   "metadata": {},
   "outputs": [
    {
     "name": "stdout",
     "output_type": "stream",
     "text": [
      "0.97 accuracy with a standard deviation of 0.03\n"
     ]
    }
   ],
   "source": [
    "print(f\"{np.round(clr_scores.mean(),2)} accuracy with a standard deviation of {np.round(clr_scores.std(),2)}\")"
   ]
  },
  {
   "cell_type": "markdown",
   "metadata": {},
   "source": [
    "##  REPEATED K-FOLD CROSS-VALIDATION"
   ]
  },
  {
   "cell_type": "code",
   "execution_count": 157,
   "metadata": {},
   "outputs": [],
   "source": [
    "r2cv4 = RepeatedKFold(n_splits=5, n_repeats=2, random_state=40)\n",
    "clr_scores_repeat=cross_val_score(clr,x_iris,y_iris,scoring='accuracy',cv=r2cv4)"
   ]
  },
  {
   "cell_type": "code",
   "execution_count": 158,
   "metadata": {},
   "outputs": [
    {
     "name": "stdout",
     "output_type": "stream",
     "text": [
      "0.97 accuracy with a standard deviation of 0.02\n"
     ]
    }
   ],
   "source": [
    "print(f\"{np.round(clr_scores_repeat.mean(),2)} accuracy with a standard deviation of {np.round(clr_scores_repeat.std(),2)}\")"
   ]
  },
  {
   "cell_type": "code",
   "execution_count": null,
   "metadata": {},
   "outputs": [],
   "source": []
  }
 ],
 "metadata": {
  "kernelspec": {
   "display_name": "Python 3",
   "language": "python",
   "name": "python3"
  },
  "language_info": {
   "codemirror_mode": {
    "name": "ipython",
    "version": 3
   },
   "file_extension": ".py",
   "mimetype": "text/x-python",
   "name": "python",
   "nbconvert_exporter": "python",
   "pygments_lexer": "ipython3",
   "version": "3.8.8"
  },
  "latex_envs": {
   "LaTeX_envs_menu_present": true,
   "autoclose": false,
   "autocomplete": true,
   "bibliofile": "biblio.bib",
   "cite_by": "apalike",
   "current_citInitial": 1,
   "eqLabelWithNumbers": true,
   "eqNumInitial": 1,
   "hotkeys": {
    "equation": "Ctrl-E",
    "itemize": "Ctrl-I"
   },
   "labels_anchors": false,
   "latex_user_defs": false,
   "report_style_numbering": false,
   "user_envs_cfg": false
  },
  "nbTranslate": {
   "displayLangs": [
    "*"
   ],
   "hotkey": "alt-t",
   "langInMainMenu": true,
   "sourceLang": "en",
   "targetLang": "fr",
   "useGoogleTranslate": true
  },
  "toc": {
   "base_numbering": 1,
   "nav_menu": {},
   "number_sections": true,
   "sideBar": true,
   "skip_h1_title": true,
   "title_cell": "Table of Contents",
   "title_sidebar": "Contents",
   "toc_cell": true,
   "toc_position": {},
   "toc_section_display": true,
   "toc_window_display": true
  }
 },
 "nbformat": 4,
 "nbformat_minor": 2
}
