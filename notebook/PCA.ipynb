{
 "cells": [
  {
   "cell_type": "markdown",
   "metadata": {
    "toc": true
   },
   "source": [
    "<h1>Table of Contents<span class=\"tocSkip\"></span></h1>\n",
    "<div class=\"toc\"><ul class=\"toc-item\"></ul></div>"
   ]
  },
  {
   "cell_type": "code",
   "execution_count": 17,
   "metadata": {},
   "outputs": [],
   "source": [
    "from sklearn.decomposition import PCA\n",
    "import numpy as np\n",
    "import scipy\n",
    "from sklearn.datasets import load_iris\n",
    "from sklearn.utils.extmath import svd_flip\n",
    "import matplotlib.pyplot as plt\n",
    "%matplotlib inline"
   ]
  },
  {
   "cell_type": "code",
   "execution_count": 18,
   "metadata": {},
   "outputs": [],
   "source": [
    "# X_iris, y_iris = load_iris(return_X_y=True)\n",
    "iris=load_iris()\n",
    "X_iris=iris.data\n",
    "y =iris.target\n",
    "y_categories_names=iris.target_names"
   ]
  },
  {
   "cell_type": "markdown",
   "metadata": {},
   "source": [
    "# Principal components analysis (PCA)\n",
    "\n",
    "In this tutorials, we will explore one of the most widely used unsupervised algorithm known as principal component analysis denoted a PCA, A technique for finding patterns in data of high dimension, useful in exploratory data analysis, allowing data visualization, feature extraction and has found application in fields such as face recognition and image compression.\n",
    "\n",
    "Suppose you have a dataset containing several variables that are possibly correlated and you want to reduced these correlated variables into a few set of uncorrelated variables. With PCA, it will reduce these correlated variables into few set of uncorrelated variables that collectively explain most of the variability in the original set. **The information in the given dataset corresponds to the total variation it contains and the goal of PCA is to identify the principal directions or principal components along which the variation in the dataset is maximal**.\n"
   ]
  },
  {
   "cell_type": "markdown",
   "metadata": {},
   "source": [
    "# Principal Components Analysis\n",
    "\n",
    "**Principal components analysis denoted as PCA is a dimensionality reduction technique that transforms a larger number of possibly correlated variables which indicate redundancy within the dataset into a set of few new uncorrelated (orthogonal) variables called principal components (PCs) where each component is a linear combination of the original variables**. Variables which correlate with one another will contribute strongly to the same principal component. Each principal component retain a certain percentage of the total variation in the dataset and these components are ordered according to the fraction or percentage of the total information or variation the component retain with the first principal component containing the largest percentage of the variation. The amount of information in each component is measured by the ***Eigenvalues/variances of the PCs***.\n",
    "\n",
    "> when the data is projected onto a lower dimensional linear space the variance of the projected data is maximized"
   ]
  },
  {
   "cell_type": "markdown",
   "metadata": {},
   "source": [
    "# EIGEN-DECOMPOSITION"
   ]
  },
  {
   "cell_type": "markdown",
   "metadata": {},
   "source": [
    "\n",
    "## Principal Components\n",
    "\n",
    "steps involve in computing the principal components are as follow,\n",
    "\n",
    "First we calculate the variance-covariance matrix of the data which involves the following.\n",
    "\n",
    "the covariance between x and y is given as\n",
    "\n",
    "$$\n",
    "cov(x,y)=\\frac{\\sum_{i=1}^{n} (x_{i}- \\bar x)(y_{i}-\\bar y)}{n-1}\n",
    "$$\n",
    "\n",
    "and that of x which is just the variance of x\n",
    "\n",
    "$$\n",
    "cov(x,x)=var(x)=\\frac{\\sum_{i=1}^{n} (x_{i}- \\bar x)(x_{i}-\\bar x)}{n-1}=\\frac{\\sum_{i=1}^{n} (x_{i}- \\bar x))^{2}}{n-1}\n",
    "$$\n"
   ]
  },
  {
   "cell_type": "markdown",
   "metadata": {},
   "source": [
    "Hence the sample variance-covariance matrix  variance-covariance matrix of a data with three dimension namely **x, y, z** is given as\n",
    "\n",
    "$$COV(x,y,z)=S =\\left[ \\begin{array}{ccc}\n",
    "cov(x,x) & cov(x,y) & cov(x,z) \\\\\n",
    "cov(y,x) & cov(y,y) & cov(y,z) \\\\\n",
    "cov(z,x) & cov(z,y) & cov(z,z) \n",
    "\\end{array}\\right] $$\n",
    "\n",
    "\n",
    "We then find the eigenvalues and eigenvectors of this covariance matrix. It turns out that the eigenvector with the highest eigenvalue is the first principle component of the dataset and in that order.\n"
   ]
  },
  {
   "cell_type": "markdown",
   "metadata": {},
   "source": [
    "Compute the eigenvalues  $\\lambda_1,\\lambda_2,\\dots,\\lambda_d $ Of sample variance-covariance matrix $S$ and the and the corresponding eigenvectors  $ \\alpha_1,\\alpha_1,\\cdots,\\alpha_d  $ we then define our estimated principal components using the eigenvectors as our coefficients:\n",
    "\n",
    "Using the coefficients or loadings of the principal components, we can project the observations on the axis of the principal component using \n",
    "\n",
    "$$ \\hat{Y}=XA$$ where\n",
    "\n",
    "$A$ is the matrix of the coefficients of $\\alpha$ \n",
    "\n",
    "\n",
    "the projections are called scores."
   ]
  },
  {
   "cell_type": "markdown",
   "metadata": {},
   "source": [
    "# Eigenvalues / Variances\n",
    "\n",
    "The amount of variation retained by each principal component are measured by the eigenvalues and since the PCs are ordered in a descending order according to the information they retained, the first PC corresponds to the directions with the maximum amount of variation in the data set and hence has the largest eigenvalue (That is the eigenvalue with the highest  eigenvector is the first principle component ). let us now examine the eigenvalues to determine the number of principal components to be considered.\n",
    "\n"
   ]
  },
  {
   "cell_type": "code",
   "execution_count": 34,
   "metadata": {},
   "outputs": [],
   "source": [
    "def My_PCAA(X):\n",
    "    X-=np.mean(X,axis=0)\n",
    "    con_mat=X.transpose()@X\n",
    "    eig_va,eigen_vec=np.linalg.eig(con_mat)\n",
    "    return np.dot(X,eigen_vec),eigen_vec"
   ]
  },
  {
   "cell_type": "code",
   "execution_count": 35,
   "metadata": {},
   "outputs": [],
   "source": [
    "X_trans,components=My_PCAA(X_iris)"
   ]
  },
  {
   "cell_type": "code",
   "execution_count": 36,
   "metadata": {},
   "outputs": [
    {
     "data": {
      "text/plain": [
       "array([[ 0.36138659, -0.65658877, -0.58202985,  0.31548719],\n",
       "       [-0.08452251, -0.73016143,  0.59791083, -0.3197231 ],\n",
       "       [ 0.85667061,  0.17337266,  0.07623608, -0.47983899],\n",
       "       [ 0.3582892 ,  0.07548102,  0.54583143,  0.75365743]])"
      ]
     },
     "execution_count": 36,
     "metadata": {},
     "output_type": "execute_result"
    }
   ],
   "source": [
    "components"
   ]
  },
  {
   "cell_type": "code",
   "execution_count": 37,
   "metadata": {},
   "outputs": [
    {
     "data": {
      "image/png": "[encoded data removed]",
      "text/plain": [
       "<Figure size 432x288 with 1 Axes>"
      ]
     },
     "metadata": {},
     "output_type": "display_data"
    }
   ],
   "source": [
    "colors = ['lime', 'navy', 'turquoise']\n",
    "for i in range(len(colors)):\n",
    "    pca1=X_trans[:,0][y==i]\n",
    "    pc2=X_trans[:,1][y==i]\n",
    "    plt.scatter(pca1,pc2,c=colors[i])\n",
    "    plt.legend(y_categories_names)\n",
    "    plt.xlabel('First Principal Component')\n",
    "    plt.ylabel('Second Principal Component')\n",
    "    plt.title('PCA of IRIS dataset')\n",
    "    plt.xticks([])\n",
    "    plt.yticks([])\n",
    "plt.show()\n"
   ]
  },
  {
   "cell_type": "markdown",
   "metadata": {},
   "source": [
    "# SVD Decomposition\n",
    "Suppose that a matrix A is singular or nearly. Let $A= m × n$ matrix of rank r, with m ≥ n. The singular value decomposition of A is\n",
    "\n",
    "$$A = UDV^{T}$$\n",
    "where\n",
    "\n",
    "U is an orthogonal m × n matrix, D is an r × r diagonal matrix, and V is an n × n square orthogonal matrix.\n",
    "From the last chapter we recall that since\n",
    "U and V are orthogonal, then\n",
    "$UU^{T} = VV^{T} = I$\n",
    "\n",
    "The elements along the diagonal of D  are called the singular values of A. \n"
   ]
  },
  {
   "cell_type": "markdown",
   "metadata": {},
   "source": [
    "The columns of $V$ are principal directions/axes/components. The principal components scores is given by $UD$"
   ]
  },
  {
   "cell_type": "code",
   "execution_count": 38,
   "metadata": {},
   "outputs": [],
   "source": [
    "def PCA_SVD(X,n_components=None):\n",
    "    if n_components is not None:\n",
    "        assert 1<=n_components<=X.shape[1]\n",
    "    else:\n",
    "        n_components=X.shape[1]\n",
    "    X-=np.mean(X,axis=0)\n",
    "    U,D,Vt=scipy.linalg.svd(X,full_matrices=False)\n",
    "    U,Vt=svd_flip(U,Vt)\n",
    "    U=U[:,:n_components]\n",
    "    U*=D[:n_components]\n",
    "    PCs=Vt\n",
    "    return U,PCs"
   ]
  },
  {
   "cell_type": "code",
   "execution_count": 39,
   "metadata": {},
   "outputs": [],
   "source": [
    "X_transformed,components=PCA_SVD(X_iris)"
   ]
  },
  {
   "cell_type": "code",
   "execution_count": 40,
   "metadata": {},
   "outputs": [
    {
     "data": {
      "image/png": "[encoded data removed]",
      "text/plain": [
       "<Figure size 432x288 with 1 Axes>"
      ]
     },
     "metadata": {},
     "output_type": "display_data"
    }
   ],
   "source": [
    "colors = ['lime', 'navy', 'turquoise']\n",
    "for i in range(len(colors)):\n",
    "    pca1=X_transformed[:,0][y==i]\n",
    "    pc2=X_transformed[:,1][y==i]\n",
    "    plt.scatter(pca1,pc2,c=colors[i])\n",
    "    plt.legend(y_categories_names)\n",
    "    plt.xlabel('First Principal Component')\n",
    "    plt.ylabel('Second Principal Component')\n",
    "    plt.title('PCA of IRIS dataset')\n",
    "    plt.xticks([])\n",
    "    plt.yticks([])\n",
    "plt.show()\n"
   ]
  },
  {
   "cell_type": "code",
   "execution_count": 42,
   "metadata": {},
   "outputs": [
    {
     "data": {
      "text/plain": [
       "array([[ 0.36138659, -0.08452251,  0.85667061,  0.3582892 ],\n",
       "       [ 0.65658877,  0.73016143, -0.17337266, -0.07548102],\n",
       "       [-0.58202985,  0.59791083,  0.07623608,  0.54583143],\n",
       "       [-0.31548719,  0.3197231 ,  0.47983899, -0.75365743]])"
      ]
     },
     "execution_count": 42,
     "metadata": {},
     "output_type": "execute_result"
    }
   ],
   "source": [
    "components"
   ]
  },
  {
   "cell_type": "markdown",
   "metadata": {},
   "source": [
    "# USING SCIKIT-LEARN"
   ]
  },
  {
   "cell_type": "code",
   "execution_count": 41,
   "metadata": {},
   "outputs": [
    {
     "data": {
      "text/plain": [
       "PCA()"
      ]
     },
     "execution_count": 41,
     "metadata": {},
     "output_type": "execute_result"
    }
   ],
   "source": [
    "pca = PCA()\n",
    "pca.fit(X_iris)"
   ]
  },
  {
   "cell_type": "code",
   "execution_count": 43,
   "metadata": {},
   "outputs": [
    {
     "data": {
      "text/plain": [
       "array([[ 0.36138659, -0.08452251,  0.85667061,  0.3582892 ],\n",
       "       [ 0.65658877,  0.73016143, -0.17337266, -0.07548102],\n",
       "       [-0.58202985,  0.59791083,  0.07623608,  0.54583143],\n",
       "       [-0.31548719,  0.3197231 ,  0.47983899, -0.75365743]])"
      ]
     },
     "execution_count": 43,
     "metadata": {},
     "output_type": "execute_result"
    }
   ],
   "source": [
    "pca.components_"
   ]
  },
  {
   "cell_type": "code",
   "execution_count": 44,
   "metadata": {},
   "outputs": [],
   "source": [
    "X_transformed_sk=pca.transform(X_iris)"
   ]
  },
  {
   "cell_type": "code",
   "execution_count": 45,
   "metadata": {},
   "outputs": [
    {
     "data": {
      "image/png": "[encoded data removed]",
      "text/plain": [
       "<Figure size 432x288 with 1 Axes>"
      ]
     },
     "metadata": {},
     "output_type": "display_data"
    }
   ],
   "source": [
    "colors = ['lime', 'navy', 'turquoise']\n",
    "for i in range(len(colors)):\n",
    "    pca1=X_transformed_sk[:,0][y==i]\n",
    "    pc2=X_transformed_sk[:,1][y==i]\n",
    "    plt.scatter(pca1,pc2,c=colors[i])\n",
    "    plt.legend(y_categories_names)\n",
    "    plt.xlabel('First Principal Component')\n",
    "    plt.ylabel('Second Principal Component')\n",
    "    plt.title('PCA of IRIS dataset')\n",
    "    plt.xticks([])\n",
    "    plt.yticks([])\n",
    "plt.show()\n"
   ]
  },
  {
   "cell_type": "markdown",
   "metadata": {},
   "source": [
    "Percentage of variance explained for each components"
   ]
  },
  {
   "cell_type": "code",
   "execution_count": 53,
   "metadata": {},
   "outputs": [
    {
     "name": "stdout",
     "output_type": "stream",
     "text": [
      "explained variance ratio for the first two components : [0.92461872 0.05306648 0.01710261 0.00521218]\n"
     ]
    }
   ],
   "source": [
    "print(\"explained variance ratio for the first two components : %s\" %pca.explained_variance_ratio_)"
   ]
  },
  {
   "cell_type": "code",
   "execution_count": 54,
   "metadata": {},
   "outputs": [
    {
     "data": {
      "image/png": "[encoded data removed]",
      "text/plain": [
       "<Figure size 432x288 with 1 Axes>"
      ]
     },
     "metadata": {},
     "output_type": "display_data"
    }
   ],
   "source": [
    "colors = ['lime', 'navy', 'turquoise']\n",
    "for i in range(len(colors)):\n",
    "    pca1=X_transformed[:,0][y==i]\n",
    "    pc2=X_transformed[:,1][y==i]\n",
    "    plt.scatter(pca1,pc2,c=colors[i])\n",
    "    plt.legend(y_categories_names)\n",
    "    plt.xlabel('First Principal Component')\n",
    "    plt.ylabel('Second Principal Component')\n",
    "    plt.title('PCA of IRIS dataset')\n",
    "    plt.xticks([])\n",
    "    plt.yticks([])\n",
    "plt.show()\n"
   ]
  },
  {
   "cell_type": "code",
   "execution_count": null,
   "metadata": {},
   "outputs": [],
   "source": []
  },
  {
   "cell_type": "markdown",
   "metadata": {},
   "source": [
    "<a href='https://jakevdp.github.io/PythonDataScienceHandbook/05.09-principal-component-analysis.html'>In Depth: Principal Component Analysis</a>\n",
    "\n",
    "\n",
    "[Principal component analysis](https://en.wikipedia.org/wiki/Principal_component_analysis \"wikipeida\")\n",
    "\n",
    "[Application of Principal Component Analysis to Image Compression](https://www.intechopen.com/books/statistics-growing-data-sets-and-growing-demand-for-statistics/application-of-principal-component-analysis-to-image-compression \"By Wilmar Hernandez and Alfredo Mendez\")\n",
    "\n",
    "<a href=''></a>\n",
    "\n",
    "<a href=''></a>\n",
    "\n",
    "<a href=''></a>\n",
    "\n",
    "<a href=''></a>\n",
    "\n",
    "<a href=''></a>"
   ]
  },
  {
   "cell_type": "code",
   "execution_count": null,
   "metadata": {},
   "outputs": [],
   "source": []
  }
 ],
 "metadata": {
  "kernelspec": {
   "display_name": "Python 3",
   "language": "python",
   "name": "python3"
  },
  "language_info": {
   "codemirror_mode": {
    "name": "ipython",
    "version": 3
   },
   "file_extension": ".py",
   "mimetype": "text/x-python",
   "name": "python",
   "nbconvert_exporter": "python",
   "pygments_lexer": "ipython3",
   "version": "3.8.8"
  },
  "latex_envs": {
   "LaTeX_envs_menu_present": true,
   "autoclose": false,
   "autocomplete": true,
   "bibliofile": "biblio.bib",
   "cite_by": "apalike",
   "current_citInitial": 1,
   "eqLabelWithNumbers": true,
   "eqNumInitial": 1,
   "hotkeys": {
    "equation": "Ctrl-E",
    "itemize": "Ctrl-I"
   },
   "labels_anchors": false,
   "latex_user_defs": false,
   "report_style_numbering": false,
   "user_envs_cfg": false
  },
  "nbTranslate": {
   "displayLangs": [
    "*"
   ],
   "hotkey": "alt-t",
   "langInMainMenu": true,
   "sourceLang": "en",
   "targetLang": "fr",
   "useGoogleTranslate": true
  },
  "toc": {
   "base_numbering": 1,
   "nav_menu": {},
   "number_sections": true,
   "sideBar": true,
   "skip_h1_title": true,
   "title_cell": "Table of Contents",
   "title_sidebar": "Contents",
   "toc_cell": true,
   "toc_position": {},
   "toc_section_display": true,
   "toc_window_display": true
  }
 },
 "nbformat": 4,
 "nbformat_minor": 2
}
