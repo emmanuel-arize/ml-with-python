{
 "cells": [
  {
   "cell_type": "markdown",
   "id": "31de2abd",
   "metadata": {},
   "source": [
    "In this post, we’ll focus on customer segmentation and provide practical examples using k-means algorithm.\n",
    "\n",
    "\n",
    "  Companies serve customers with unique interests, having different sensitivities to price, product preferences and requirements which cannot be satisfied by using a single one-size-fits-all marketing campaign. As a company you cannot also personalize marketing campaigns for each customer, instead, marketers use cluster analysis to discover pattern within the customers (customers data) and partition them into distinct homogenous segments so that observations within each segment are quite similar to each other, while observations in different segments are quite different from each other. This is perceived as an important business opportunity because by identifying subgroups of people who might be more receptive to a particular form of advertising, or more likely to purchase a particular product, this allow a company to maximise the use of it limited resources. Since we are writing about customers segmentation, what Is Customer Segmentation?\n"
   ]
  },
  {
   "cell_type": "markdown",
   "id": "bd388199",
   "metadata": {},
   "source": [
    "\n",
    "###  What Is Customer Segmentation?\n",
    "**Customers segmentation** is the process of partitioning a target customers  into segments where customers within each segment are similar and collectively different from customers in other segments. The general goal of customer segmentation is to identify subgroups of customers with common characteristics and wants. Customer segmentation assumes that different segments of customer  require different marketing campaigns and a company might segment their customers based on  demographic, psychographic, geographic, and behavioral.\n"
   ]
  },
  {
   "cell_type": "markdown",
   "id": "7fbbd01f",
   "metadata": {},
   "source": [
    "## Why is customer segmentation important?\n",
    "\n",
    "Customers have different sensitivities to price, product preferences and requirements. Markets are also saturated with attractive products and services, of which many are in direct competition with your product, services and marketing offerings, so by identifying the differences and similarities between potential customer segments, and with a deep understanding of each segment, a marketer can make better strategic choices about opportunities, develop more competitive and attractive offerings tailor to the specific requirements of each segment to better satisfy their wants that aim to outweigh the bundle of benefits provided by your competitors. This make marketing campaigns more effective and provide a significant boost to the company and also improve customer service.\n"
   ]
  },
  {
   "cell_type": "markdown",
   "id": "6492936e",
   "metadata": {},
   "source": [
    "There are many clustering techniques  (unsupervised machine learning algorithms) that can help companies segment their customers but in this post I will focus on a very commonly used technique known as **K-means clustering**. Before diving into K-Means clustering let first load the mall customers data that will be used in this post and preprocess it. "
   ]
  },
  {
   "cell_type": "code",
   "execution_count": 1,
   "id": "77efd32e",
   "metadata": {},
   "outputs": [],
   "source": [
    "import os\n",
    "os.environ[\"OMP_NUM_THREADS\"] = '1'\n",
    "import numpy as np\n",
    "import pandas as pd\n",
    "import matplotlib.pyplot as plt\n",
    "import seaborn as sns\n",
    "from sklearn.cluster import KMeans\n",
    "from sklearn.preprocessing import StandardScaler\n",
    "%matplotlib inline"
   ]
  },
  {
   "cell_type": "code",
   "execution_count": 2,
   "id": "3a1ecb01",
   "metadata": {},
   "outputs": [
    {
     "data": {
      "text/html": [
       "<div>\n",
       "<style scoped>\n",
       "    .dataframe tbody tr th:only-of-type {\n",
       "        vertical-align: middle;\n",
       "    }\n",
       "\n",
       "    .dataframe tbody tr th {\n",
       "        vertical-align: top;\n",
       "    }\n",
       "\n",
       "    .dataframe thead th {\n",
       "        text-align: right;\n",
       "    }\n",
       "</style>\n",
       "<table border=\"1\" class=\"dataframe\">\n",
       "  <thead>\n",
       "    <tr style=\"text-align: right;\">\n",
       "      <th></th>\n",
       "      <th>CustomerID</th>\n",
       "      <th>Gender</th>\n",
       "      <th>Age</th>\n",
       "      <th>Annual Income (k$)</th>\n",
       "      <th>Spending Score (1-100)</th>\n",
       "    </tr>\n",
       "  </thead>\n",
       "  <tbody>\n",
       "    <tr>\n",
       "      <th>0</th>\n",
       "      <td>1</td>\n",
       "      <td>Male</td>\n",
       "      <td>19</td>\n",
       "      <td>15</td>\n",
       "      <td>39</td>\n",
       "    </tr>\n",
       "    <tr>\n",
       "      <th>1</th>\n",
       "      <td>2</td>\n",
       "      <td>Male</td>\n",
       "      <td>21</td>\n",
       "      <td>15</td>\n",
       "      <td>81</td>\n",
       "    </tr>\n",
       "    <tr>\n",
       "      <th>2</th>\n",
       "      <td>3</td>\n",
       "      <td>Female</td>\n",
       "      <td>20</td>\n",
       "      <td>16</td>\n",
       "      <td>6</td>\n",
       "    </tr>\n",
       "  </tbody>\n",
       "</table>\n",
       "</div>"
      ],
      "text/plain": [
       "   CustomerID  Gender  Age  Annual Income (k$)  Spending Score (1-100)\n",
       "0           1    Male   19                  15                      39\n",
       "1           2    Male   21                  15                      81\n",
       "2           3  Female   20                  16                       6"
      ]
     },
     "execution_count": 2,
     "metadata": {},
     "output_type": "execute_result"
    }
   ],
   "source": [
    "mall_data=pd.read_csv(\"./data/Mall_Customers.csv\")\n",
    "mall_data.head(3)"
   ]
  },
  {
   "cell_type": "markdown",
   "id": "1378e662",
   "metadata": {},
   "source": [
    "The data contain attributes such as age and gender of the customers, their estimated annual income (Annual Income (k$)) and the the spending score (Spending Score (1-100)) which denotes the amount of shopping the customer has done at the mall (a higher score means a higher spending )."
   ]
  },
  {
   "cell_type": "code",
   "execution_count": 3,
   "id": "66279b84",
   "metadata": {},
   "outputs": [
    {
     "name": "stdout",
     "output_type": "stream",
     "text": [
      "<class 'pandas.core.frame.DataFrame'>\n",
      "RangeIndex: 200 entries, 0 to 199\n",
      "Data columns (total 5 columns):\n",
      " #   Column                  Non-Null Count  Dtype \n",
      "---  ------                  --------------  ----- \n",
      " 0   CustomerID              200 non-null    int64 \n",
      " 1   Gender                  200 non-null    object\n",
      " 2   Age                     200 non-null    int64 \n",
      " 3   Annual Income (k$)      200 non-null    int64 \n",
      " 4   Spending Score (1-100)  200 non-null    int64 \n",
      "dtypes: int64(4), object(1)\n",
      "memory usage: 7.9+ KB\n"
     ]
    }
   ],
   "source": [
    "mall_data.info()"
   ]
  },
  {
   "cell_type": "markdown",
   "id": "1c7438ae",
   "metadata": {},
   "source": [
    "With the data information provided above we can see that the mall data contain 5 attributes and 200 samples (customers) with no missing values"
   ]
  },
  {
   "cell_type": "markdown",
   "id": "7d911715",
   "metadata": {},
   "source": [
    "Let rename the attributes **Annual Income (k$)** to **Income** and **Spending Score (1-100)** to **Spending_Score**"
   ]
  },
  {
   "cell_type": "code",
   "execution_count": 4,
   "id": "e95f64b8",
   "metadata": {},
   "outputs": [],
   "source": [
    "mall_data.rename(columns={'Annual Income (k$)':'Income',\n",
    "                          'Spending Score (1-100)':'Spending_Score'},\n",
    "                             inplace=True)"
   ]
  },
  {
   "cell_type": "code",
   "execution_count": 5,
   "id": "0efa0b14",
   "metadata": {},
   "outputs": [
    {
     "data": {
      "text/plain": [
       "Index(['CustomerID', 'Gender', 'Age', 'Income', 'Spending_Score'], dtype='object')"
      ]
     },
     "execution_count": 5,
     "metadata": {},
     "output_type": "execute_result"
    }
   ],
   "source": [
    "mall_data.columns"
   ]
  },
  {
   "cell_type": "markdown",
   "id": "c15abb94",
   "metadata": {},
   "source": [
    "### Selecting Clustering Variables\n",
    "There are multiple ways to segment customers and because of its exploratory nature, there is always the question of whether the cluster analysis is producing the correct segmentation scheme and is the result useful for targeting your audience. To make the segmentation useful it is important to first define the variables that form the basis of the homogeneous groups of customers because these variables directs the nature of the groups formed and provide insights into the grouped formed. In this post I will segments customers based on their income level and spending scores regardless of\n",
    "the customer gender and age so that we can have different marketing strategy for customers with high income and low spending scores, those with medium income and spending scores versus those with low income and high spending scores."
   ]
  },
  {
   "cell_type": "code",
   "execution_count": 6,
   "id": "62e9ad1c",
   "metadata": {},
   "outputs": [],
   "source": [
    "mall_data_1=mall_data.copy()"
   ]
  },
  {
   "cell_type": "code",
   "execution_count": 7,
   "id": "0262fa25",
   "metadata": {},
   "outputs": [
    {
     "data": {
      "text/html": [
       "<div>\n",
       "<style scoped>\n",
       "    .dataframe tbody tr th:only-of-type {\n",
       "        vertical-align: middle;\n",
       "    }\n",
       "\n",
       "    .dataframe tbody tr th {\n",
       "        vertical-align: top;\n",
       "    }\n",
       "\n",
       "    .dataframe thead th {\n",
       "        text-align: right;\n",
       "    }\n",
       "</style>\n",
       "<table border=\"1\" class=\"dataframe\">\n",
       "  <thead>\n",
       "    <tr style=\"text-align: right;\">\n",
       "      <th></th>\n",
       "      <th>Income</th>\n",
       "      <th>Spending_Score</th>\n",
       "    </tr>\n",
       "  </thead>\n",
       "  <tbody>\n",
       "    <tr>\n",
       "      <th>0</th>\n",
       "      <td>15</td>\n",
       "      <td>39</td>\n",
       "    </tr>\n",
       "    <tr>\n",
       "      <th>1</th>\n",
       "      <td>15</td>\n",
       "      <td>81</td>\n",
       "    </tr>\n",
       "    <tr>\n",
       "      <th>2</th>\n",
       "      <td>16</td>\n",
       "      <td>6</td>\n",
       "    </tr>\n",
       "  </tbody>\n",
       "</table>\n",
       "</div>"
      ],
      "text/plain": [
       "   Income  Spending_Score\n",
       "0      15              39\n",
       "1      15              81\n",
       "2      16               6"
      ]
     },
     "execution_count": 7,
     "metadata": {},
     "output_type": "execute_result"
    }
   ],
   "source": [
    "selected_cols=['Income', 'Spending_Score']\n",
    "mall_data_1[selected_cols].head(3)\n"
   ]
  },
  {
   "cell_type": "markdown",
   "id": "022670b5",
   "metadata": {},
   "source": [
    "Let visualize the relationship between income and spending score"
   ]
  },
  {
   "cell_type": "code",
   "execution_count": 8,
   "id": "32c1bfaf",
   "metadata": {},
   "outputs": [
    {
     "data": {
      "image/png": "[encoded data removed]",
      "text/plain": [
       "<Figure size 432x288 with 1 Axes>"
      ]
     },
     "metadata": {
      "needs_background": "light"
     },
     "output_type": "display_data"
    }
   ],
   "source": [
    "sns.scatterplot(x=mall_data_1.Income,y=mall_data_1.Spending_Score)\n",
    "plt.title(\"Relationship btw Income and Spending Scrore\")\n",
    "plt.show()"
   ]
  },
  {
   "cell_type": "markdown",
   "id": "50d4b090",
   "metadata": {},
   "source": [
    "From the above graph the seems to be no correlation (relationship) between income and spending score . It also seems to have 5 natural groups"
   ]
  },
  {
   "cell_type": "code",
   "execution_count": 9,
   "id": "a1fcdfe8",
   "metadata": {},
   "outputs": [
    {
     "data": {
      "text/html": [
       "<div>\n",
       "<style scoped>\n",
       "    .dataframe tbody tr th:only-of-type {\n",
       "        vertical-align: middle;\n",
       "    }\n",
       "\n",
       "    .dataframe tbody tr th {\n",
       "        vertical-align: top;\n",
       "    }\n",
       "\n",
       "    .dataframe thead th {\n",
       "        text-align: right;\n",
       "    }\n",
       "</style>\n",
       "<table border=\"1\" class=\"dataframe\">\n",
       "  <thead>\n",
       "    <tr style=\"text-align: right;\">\n",
       "      <th></th>\n",
       "      <th>Income</th>\n",
       "      <th>Spending_Score</th>\n",
       "    </tr>\n",
       "  </thead>\n",
       "  <tbody>\n",
       "    <tr>\n",
       "      <th>Income</th>\n",
       "      <td>1.000000</td>\n",
       "      <td>0.009903</td>\n",
       "    </tr>\n",
       "    <tr>\n",
       "      <th>Spending_Score</th>\n",
       "      <td>0.009903</td>\n",
       "      <td>1.000000</td>\n",
       "    </tr>\n",
       "  </tbody>\n",
       "</table>\n",
       "</div>"
      ],
      "text/plain": [
       "                  Income  Spending_Score\n",
       "Income          1.000000        0.009903\n",
       "Spending_Score  0.009903        1.000000"
      ]
     },
     "execution_count": 9,
     "metadata": {},
     "output_type": "execute_result"
    }
   ],
   "source": [
    "mall_data_1[selected_cols].corr()"
   ]
  },
  {
   "cell_type": "code",
   "execution_count": 10,
   "id": "a18a7e92",
   "metadata": {},
   "outputs": [
    {
     "name": "stdout",
     "output_type": "stream",
     "text": [
      "Min income: 15\n",
      "Max income: 137\n",
      "Min spending-score: 1\n",
      "Max spending-score: 99\n"
     ]
    }
   ],
   "source": [
    "print(\"Min income: \"+ str(mall_data_1[selected_cols].Income.min()))\n",
    "print(\"Max income: \"+ str(mall_data_1.Income.max()))\n",
    "print(\"Min spending-score: \"+ str(mall_data_1.Spending_Score.min()))\n",
    "print(\"Max spending-score: \"+ str(mall_data_1.Spending_Score.max()))"
   ]
  },
  {
   "cell_type": "markdown",
   "id": "4233f769",
   "metadata": {},
   "source": [
    "## Standardizing  Customer Data\n",
    "From the minimum and maximum values for Income and Spending score above we can see that the \n",
    "two segmentation variables are measured on different scale. Since K-Means is distance-based methods of segment extraction, the range of values of a segmentation variable affects its relative influence on the clustering result so to balance the influence of the segmentation variables on the segmentation results, the segmentation variables are standardized to puts them on a common scale. I will standardize the mall data using z-scoring which is given as\n",
    "\n",
    "$$z=\\frac{x_{i}-\\bar{x}}{s} $$\n",
    "\n",
    "$s=standard \\ deviation$ "
   ]
  },
  {
   "cell_type": "code",
   "execution_count": 11,
   "id": "fa6ef988",
   "metadata": {},
   "outputs": [],
   "source": [
    "z_score=StandardScaler()\n",
    "mall_data_1[selected_cols]=z_score.fit_transform(mall_data_1[selected_cols])"
   ]
  },
  {
   "cell_type": "code",
   "execution_count": 12,
   "id": "877cf2dd",
   "metadata": {},
   "outputs": [
    {
     "data": {
      "text/html": [
       "<div>\n",
       "<style scoped>\n",
       "    .dataframe tbody tr th:only-of-type {\n",
       "        vertical-align: middle;\n",
       "    }\n",
       "\n",
       "    .dataframe tbody tr th {\n",
       "        vertical-align: top;\n",
       "    }\n",
       "\n",
       "    .dataframe thead th {\n",
       "        text-align: right;\n",
       "    }\n",
       "</style>\n",
       "<table border=\"1\" class=\"dataframe\">\n",
       "  <thead>\n",
       "    <tr style=\"text-align: right;\">\n",
       "      <th></th>\n",
       "      <th>CustomerID</th>\n",
       "      <th>Gender</th>\n",
       "      <th>Age</th>\n",
       "      <th>Income</th>\n",
       "      <th>Spending_Score</th>\n",
       "    </tr>\n",
       "  </thead>\n",
       "  <tbody>\n",
       "    <tr>\n",
       "      <th>0</th>\n",
       "      <td>1</td>\n",
       "      <td>Male</td>\n",
       "      <td>19</td>\n",
       "      <td>-1.738999</td>\n",
       "      <td>-0.434801</td>\n",
       "    </tr>\n",
       "    <tr>\n",
       "      <th>1</th>\n",
       "      <td>2</td>\n",
       "      <td>Male</td>\n",
       "      <td>21</td>\n",
       "      <td>-1.738999</td>\n",
       "      <td>1.195704</td>\n",
       "    </tr>\n",
       "    <tr>\n",
       "      <th>2</th>\n",
       "      <td>3</td>\n",
       "      <td>Female</td>\n",
       "      <td>20</td>\n",
       "      <td>-1.700830</td>\n",
       "      <td>-1.715913</td>\n",
       "    </tr>\n",
       "  </tbody>\n",
       "</table>\n",
       "</div>"
      ],
      "text/plain": [
       "   CustomerID  Gender  Age    Income  Spending_Score\n",
       "0           1    Male   19 -1.738999       -0.434801\n",
       "1           2    Male   21 -1.738999        1.195704\n",
       "2           3  Female   20 -1.700830       -1.715913"
      ]
     },
     "execution_count": 12,
     "metadata": {},
     "output_type": "execute_result"
    }
   ],
   "source": [
    "mall_data_1.head(3)"
   ]
  },
  {
   "cell_type": "markdown",
   "id": "4504b125",
   "metadata": {},
   "source": [
    "let now dive into K-means clustering "
   ]
  },
  {
   "cell_type": "markdown",
   "id": "72f896da",
   "metadata": {},
   "source": [
    "# K-Means Clustering\n",
    "\n",
    "K-means clustering is an approach for partitioning a dataset into a set of k $(k<n )$  distinct clusters where k represent the number of clusters and it's pre-specified by the analyst.\n",
    "Using K-Means algorithmn each observation is assigned to one and only one cluster and can be characterized by a manyto-one mapping $k=C(i)$ that assigns the $i$th observation to the $k$th cluster with the goal of minimizing the differences within each cluster while maximizing the differences between clusters."
   ]
  },
  {
   "cell_type": "markdown",
   "id": "7d0905b7",
   "metadata": {},
   "source": [
    "Partitioning customers into subgroups requires a method for computing the dissimilarities or similarities between customers. The choice of similarities (distance) measures is a critical step in clustering as it defines what it means for two or more observations (customers) to be similar or different and also influences the clustering result. \n",
    "There are several different clustering criteria (distance measure) such as Manhattan and correlation-based distances but in this post squared Euclidean distance is chosen as the dissimilarity measure because with squared euclidean distance, customers with high values of variables tend to cluster together and those with low values of variables also tend to be cluster together and is given by\n",
    "\n",
    "$$d(x_{i}, x_{i′}) =\\sum_{j=1}^{p} \\lgroup x_{ij} -x_{i'j} \\rgroup ^{2}=|| x_{i} -x_{i'}||^{2}$$\n"
   ]
  },
  {
   "cell_type": "markdown",
   "id": "a8c4dc30",
   "metadata": {},
   "source": [
    "The basic idea behind k-means clustering consists of defining clusters such that the \n",
    "\n",
    "total intra-cluster variation known as total within-cluster sum of square (WSS) which is a measure  of the amount by which the observations within a cluster differ from each other is minimized. The total within-cluster variation  is defined as\n",
    "\n",
    "$$WSS= \\sum_{i \\in k}\\sum_{j=1}^{p} \\lgroup x_{ij} -\\mu_{kj} \\rgroup ^{2} $$\n",
    "\n",
    "where k is the cluster, $x_{ij}$ is the value of the $j$th variable for the $i$th observation, $µ_{kj}$ is the is the centroid for the $k$th cluster, and p is the number of variables."
   ]
  },
  {
   "cell_type": "markdown",
   "id": "d80b55a8",
   "metadata": {},
   "source": [
    "## Conceptually, the k-means algorithm is as follows:\n",
    "\n",
    "1. Specify the number of clusters (K) to be created (by the analyst)\n",
    "\n",
    "2. Randomly initialize k data points as the initial cluster centers (centroids).\n",
    "\n",
    "3. Assigns each observation to their closest centroid, based on the Euclidean distance between the observation and the centroid. Each of these centroids represents a cluster.\n",
    "\n",
    "4. Recalculate the cluster center (new centroids) as the average of its assigned data points\n",
    "\n",
    "5. Compute the distance between each observation and the new centroids and assign the data point to its closest centroid (new centroids).\n",
    "\n",
    "6. Iteratively minimize the total within sum of square. That is, iterate steps 4 and 5 until the cluster assignments stop changing (The centroids do not move significantly so observations aren’t reassigned new cluster) or or a maximum number of iterations is reached .\n",
    "\n"
   ]
  },
  {
   "cell_type": "markdown",
   "id": "a0f809bb",
   "metadata": {},
   "source": [
    "## Choosing the Right Number Of Clusters\n",
    "\n",
    "Determining the optimal number of clusters is a fundamental issue in partitioning clustering.  Features used play an important role in defining similarities between clusters(customers). We usually do not know the optimal number of clusters, so there is a need to understand the different ways in choosing the optimal number of clusters. Decisions on the number of clusters can be subjective and depends on the method used for measuring similarities and the features used for partitioning. Choosing k can be subjective so if you have prior domain knowledge as to how many clusters should theoretically be present in a dataset, then you can use this knowledge to guide your selection. There are several approaches for determining the optimal number of clusters including visual inspection, silhouette score, elbow method, gap statistic method and many more  but in this post I will only look at the elbow method. These quantitative measures only tell how well that number of clusters fits the data. They do not tell how useful these clusters are for business. Since, it is the  business analyst that will interpret and act on these clusters, they have to understand the nature of the clusters and what each cluster cares about. So no matter how good these clusters are statistically, they are useless if they are not actionable by the business.\n",
    "\n",
    "\n",
    "\n"
   ]
  },
  {
   "cell_type": "markdown",
   "id": "fb54eb41",
   "metadata": {},
   "source": [
    "### Elbow Method\n",
    "\n",
    "The basic idea behind k-means clustering consists of defining clusters such that thEtotal within-cluster sum of square (WSS) is minimized. \n",
    "\n",
    "Using Elbow method, the method looks at the total WSS as a function of the number of clusters. The total WSS will decreases as the number of clusters increases, because each cluster will be smaller and tighter. In this process the hope is that the rate at which the WSS decreases will slow down for k beyond the optimal number of clusters. In other words, the graph of WSS versus k should flatten out beyond the optimal k, so the optimal k will be at the **elbo** of the graph.\n",
    "\n",
    "The optimal number of clusters can be defined as follow:\n",
    "\n",
    "\n",
    "1. Compute k-means clustering for different values of k ,for instance, by varying k from 1 to 10 clusters.\n",
    "2. For each k, calculate the total within-cluster sum of square (wss).\n",
    "3. Plot the curve of wss according to the number of clusters k.\n",
    "4. The location of a bend (knee) in the plot is generally considered as an indicator of the appropriate number of clusters\n",
    "\n",
    "Let’s try calculating WSS for up to 15 clusters"
   ]
  },
  {
   "cell_type": "code",
   "execution_count": 13,
   "id": "ca33fd20",
   "metadata": {},
   "outputs": [
    {
     "name": "stderr",
     "output_type": "stream",
     "text": [
      "C:\\Users\\arize\\AppData\\Roaming\\Python\\Python39\\site-packages\\sklearn\\cluster\\_kmeans.py:870: FutureWarning: The default value of `n_init` will change from 10 to 'auto' in 1.4. Set the value of `n_init` explicitly to suppress the warning\n",
      "  warnings.warn(\n",
      "C:\\Users\\arize\\AppData\\Roaming\\Python\\Python39\\site-packages\\sklearn\\cluster\\_kmeans.py:870: FutureWarning: The default value of `n_init` will change from 10 to 'auto' in 1.4. Set the value of `n_init` explicitly to suppress the warning\n",
      "  warnings.warn(\n",
      "C:\\Users\\arize\\AppData\\Roaming\\Python\\Python39\\site-packages\\sklearn\\cluster\\_kmeans.py:870: FutureWarning: The default value of `n_init` will change from 10 to 'auto' in 1.4. Set the value of `n_init` explicitly to suppress the warning\n",
      "  warnings.warn(\n",
      "C:\\Users\\arize\\AppData\\Roaming\\Python\\Python39\\site-packages\\sklearn\\cluster\\_kmeans.py:870: FutureWarning: The default value of `n_init` will change from 10 to 'auto' in 1.4. Set the value of `n_init` explicitly to suppress the warning\n",
      "  warnings.warn(\n",
      "C:\\Users\\arize\\AppData\\Roaming\\Python\\Python39\\site-packages\\sklearn\\cluster\\_kmeans.py:870: FutureWarning: The default value of `n_init` will change from 10 to 'auto' in 1.4. Set the value of `n_init` explicitly to suppress the warning\n",
      "  warnings.warn(\n",
      "C:\\Users\\arize\\AppData\\Roaming\\Python\\Python39\\site-packages\\sklearn\\cluster\\_kmeans.py:870: FutureWarning: The default value of `n_init` will change from 10 to 'auto' in 1.4. Set the value of `n_init` explicitly to suppress the warning\n",
      "  warnings.warn(\n",
      "C:\\Users\\arize\\AppData\\Roaming\\Python\\Python39\\site-packages\\sklearn\\cluster\\_kmeans.py:870: FutureWarning: The default value of `n_init` will change from 10 to 'auto' in 1.4. Set the value of `n_init` explicitly to suppress the warning\n",
      "  warnings.warn(\n",
      "C:\\Users\\arize\\AppData\\Roaming\\Python\\Python39\\site-packages\\sklearn\\cluster\\_kmeans.py:870: FutureWarning: The default value of `n_init` will change from 10 to 'auto' in 1.4. Set the value of `n_init` explicitly to suppress the warning\n",
      "  warnings.warn(\n",
      "C:\\Users\\arize\\AppData\\Roaming\\Python\\Python39\\site-packages\\sklearn\\cluster\\_kmeans.py:870: FutureWarning: The default value of `n_init` will change from 10 to 'auto' in 1.4. Set the value of `n_init` explicitly to suppress the warning\n",
      "  warnings.warn(\n",
      "C:\\Users\\arize\\AppData\\Roaming\\Python\\Python39\\site-packages\\sklearn\\cluster\\_kmeans.py:870: FutureWarning: The default value of `n_init` will change from 10 to 'auto' in 1.4. Set the value of `n_init` explicitly to suppress the warning\n",
      "  warnings.warn(\n",
      "C:\\Users\\arize\\AppData\\Roaming\\Python\\Python39\\site-packages\\sklearn\\cluster\\_kmeans.py:870: FutureWarning: The default value of `n_init` will change from 10 to 'auto' in 1.4. Set the value of `n_init` explicitly to suppress the warning\n",
      "  warnings.warn(\n",
      "C:\\Users\\arize\\AppData\\Roaming\\Python\\Python39\\site-packages\\sklearn\\cluster\\_kmeans.py:870: FutureWarning: The default value of `n_init` will change from 10 to 'auto' in 1.4. Set the value of `n_init` explicitly to suppress the warning\n",
      "  warnings.warn(\n",
      "C:\\Users\\arize\\AppData\\Roaming\\Python\\Python39\\site-packages\\sklearn\\cluster\\_kmeans.py:870: FutureWarning: The default value of `n_init` will change from 10 to 'auto' in 1.4. Set the value of `n_init` explicitly to suppress the warning\n",
      "  warnings.warn(\n",
      "C:\\Users\\arize\\AppData\\Roaming\\Python\\Python39\\site-packages\\sklearn\\cluster\\_kmeans.py:870: FutureWarning: The default value of `n_init` will change from 10 to 'auto' in 1.4. Set the value of `n_init` explicitly to suppress the warning\n",
      "  warnings.warn(\n"
     ]
    },
    {
     "data": {
      "image/png": "[encoded data removed]",
      "text/plain": [
       "<Figure size 504x360 with 1 Axes>"
      ]
     },
     "metadata": {
      "needs_background": "light"
     },
     "output_type": "display_data"
    }
   ],
   "source": [
    "wss=[]\n",
    "K= range(1,15)\n",
    "for k in K:\n",
    "    km=KMeans(n_clusters=k,random_state=42)\n",
    "    km=km.fit(mall_data_1[selected_cols])\n",
    "    wss.append(km.inertia_)\n",
    "    \n",
    "    \n",
    "plt.figure(figsize=[7,5])\n",
    "plt.plot(range(1,15), wss, color='gray')\n",
    "plt.title(\"WSS vs. number of clusters\")\n",
    "plt.xlabel(\"Number of clusters: K\")\n",
    "plt.ylabel('WSS')\n",
    "plt.show()"
   ]
  },
  {
   "cell_type": "markdown",
   "id": "b3ec663f",
   "metadata": {},
   "source": [
    "When we look at the graph the peak of the bend,  occurs at around the 5th cluster, indicating that this is the ideal number of clusters to fit for with the K-means algorithm. The code below instantiate a KMeans model with 5 number of clusters (n_clusters)."
   ]
  },
  {
   "cell_type": "code",
   "execution_count": 14,
   "id": "a41e6e42",
   "metadata": {},
   "outputs": [],
   "source": [
    "kmeans_model=KMeans(n_clusters=5,random_state=42)"
   ]
  },
  {
   "cell_type": "markdown",
   "id": "b71df6fe",
   "metadata": {},
   "source": [
    "Next, fit the model on the data using the selected columns named selected_cols. "
   ]
  },
  {
   "cell_type": "code",
   "execution_count": 15,
   "id": "f5bcfb73",
   "metadata": {},
   "outputs": [
    {
     "name": "stderr",
     "output_type": "stream",
     "text": [
      "C:\\Users\\arize\\AppData\\Roaming\\Python\\Python39\\site-packages\\sklearn\\cluster\\_kmeans.py:870: FutureWarning: The default value of `n_init` will change from 10 to 'auto' in 1.4. Set the value of `n_init` explicitly to suppress the warning\n",
      "  warnings.warn(\n"
     ]
    },
    {
     "data": {
      "text/html": [
       "<style>#sk-container-id-1 {color: black;background-color: white;}#sk-container-id-1 pre{padding: 0;}#sk-container-id-1 div.sk-toggleable {background-color: white;}#sk-container-id-1 label.sk-toggleable__label {cursor: pointer;display: block;width: 100%;margin-bottom: 0;padding: 0.3em;box-sizing: border-box;text-align: center;}#sk-container-id-1 label.sk-toggleable__label-arrow:before {content: \"▸\";float: left;margin-right: 0.25em;color: #696969;}#sk-container-id-1 label.sk-toggleable__label-arrow:hover:before {color: black;}#sk-container-id-1 div.sk-estimator:hover label.sk-toggleable__label-arrow:before {color: black;}#sk-container-id-1 div.sk-toggleable__content {max-height: 0;max-width: 0;overflow: hidden;text-align: left;background-color: #f0f8ff;}#sk-container-id-1 div.sk-toggleable__content pre {margin: 0.2em;color: black;border-radius: 0.25em;background-color: #f0f8ff;}#sk-container-id-1 input.sk-toggleable__control:checked~div.sk-toggleable__content {max-height: 200px;max-width: 100%;overflow: auto;}#sk-container-id-1 input.sk-toggleable__control:checked~label.sk-toggleable__label-arrow:before {content: \"▾\";}#sk-container-id-1 div.sk-estimator input.sk-toggleable__control:checked~label.sk-toggleable__label {background-color: #d4ebff;}#sk-container-id-1 div.sk-label input.sk-toggleable__control:checked~label.sk-toggleable__label {background-color: #d4ebff;}#sk-container-id-1 input.sk-hidden--visually {border: 0;clip: rect(1px 1px 1px 1px);clip: rect(1px, 1px, 1px, 1px);height: 1px;margin: -1px;overflow: hidden;padding: 0;position: absolute;width: 1px;}#sk-container-id-1 div.sk-estimator {font-family: monospace;background-color: #f0f8ff;border: 1px dotted black;border-radius: 0.25em;box-sizing: border-box;margin-bottom: 0.5em;}#sk-container-id-1 div.sk-estimator:hover {background-color: #d4ebff;}#sk-container-id-1 div.sk-parallel-item::after {content: \"\";width: 100%;border-bottom: 1px solid gray;flex-grow: 1;}#sk-container-id-1 div.sk-label:hover label.sk-toggleable__label {background-color: #d4ebff;}#sk-container-id-1 div.sk-serial::before {content: \"\";position: absolute;border-left: 1px solid gray;box-sizing: border-box;top: 0;bottom: 0;left: 50%;z-index: 0;}#sk-container-id-1 div.sk-serial {display: flex;flex-direction: column;align-items: center;background-color: white;padding-right: 0.2em;padding-left: 0.2em;position: relative;}#sk-container-id-1 div.sk-item {position: relative;z-index: 1;}#sk-container-id-1 div.sk-parallel {display: flex;align-items: stretch;justify-content: center;background-color: white;position: relative;}#sk-container-id-1 div.sk-item::before, #sk-container-id-1 div.sk-parallel-item::before {content: \"\";position: absolute;border-left: 1px solid gray;box-sizing: border-box;top: 0;bottom: 0;left: 50%;z-index: -1;}#sk-container-id-1 div.sk-parallel-item {display: flex;flex-direction: column;z-index: 1;position: relative;background-color: white;}#sk-container-id-1 div.sk-parallel-item:first-child::after {align-self: flex-end;width: 50%;}#sk-container-id-1 div.sk-parallel-item:last-child::after {align-self: flex-start;width: 50%;}#sk-container-id-1 div.sk-parallel-item:only-child::after {width: 0;}#sk-container-id-1 div.sk-dashed-wrapped {border: 1px dashed gray;margin: 0 0.4em 0.5em 0.4em;box-sizing: border-box;padding-bottom: 0.4em;background-color: white;}#sk-container-id-1 div.sk-label label {font-family: monospace;font-weight: bold;display: inline-block;line-height: 1.2em;}#sk-container-id-1 div.sk-label-container {text-align: center;}#sk-container-id-1 div.sk-container {/* jupyter's `normalize.less` sets `[hidden] { display: none; }` but bootstrap.min.css set `[hidden] { display: none !important; }` so we also need the `!important` here to be able to override the default hidden behavior on the sphinx rendered scikit-learn.org. See: https://github.com/scikit-learn/scikit-learn/issues/21755 */display: inline-block !important;position: relative;}#sk-container-id-1 div.sk-text-repr-fallback {display: none;}</style><div id=\"sk-container-id-1\" class=\"sk-top-container\"><div class=\"sk-text-repr-fallback\"><pre>KMeans(n_clusters=5, random_state=42)</pre><b>In a Jupyter environment, please rerun this cell to show the HTML representation or trust the notebook. <br />On GitHub, the HTML representation is unable to render, please try loading this page with nbviewer.org.</b></div><div class=\"sk-container\" hidden><div class=\"sk-item\"><div class=\"sk-estimator sk-toggleable\"><input class=\"sk-toggleable__control sk-hidden--visually\" id=\"sk-estimator-id-1\" type=\"checkbox\" checked><label for=\"sk-estimator-id-1\" class=\"sk-toggleable__label sk-toggleable__label-arrow\">KMeans</label><div class=\"sk-toggleable__content\"><pre>KMeans(n_clusters=5, random_state=42)</pre></div></div></div></div></div>"
      ],
      "text/plain": [
       "KMeans(n_clusters=5, random_state=42)"
      ]
     },
     "execution_count": 15,
     "metadata": {},
     "output_type": "execute_result"
    }
   ],
   "source": [
    "kmeans_model.fit(mall_data_1[selected_cols])"
   ]
  },
  {
   "cell_type": "markdown",
   "id": "3c6b62e5",
   "metadata": {},
   "source": [
    "Using the predict method of the k-means model, the code below assign to each customer a cluster with the cluster variable named as Cluster."
   ]
  },
  {
   "cell_type": "code",
   "execution_count": 16,
   "id": "30f37568",
   "metadata": {},
   "outputs": [],
   "source": [
    "mall_data_1['Cluster']=kmeans_model.predict(mall_data_1[selected_cols])"
   ]
  },
  {
   "cell_type": "markdown",
   "id": "f51b2d46",
   "metadata": {},
   "source": [
    "Let Now visualize the data points and their assigned cluster by using different shape and color for each cluster."
   ]
  },
  {
   "cell_type": "code",
   "execution_count": 17,
   "id": "fb1cc8c1",
   "metadata": {},
   "outputs": [
    {
     "data": {
      "image/png": "[encoded data removed]",
      "text/plain": [
       "<Figure size 432x288 with 1 Axes>"
      ]
     },
     "metadata": {
      "needs_background": "light"
     },
     "output_type": "display_data"
    }
   ],
   "source": [
    "markers = ['x', '*', '+', '|', '_']\n",
    "colors=['violet','red','green','blue','orange']\n",
    "centroid=kmeans_model.cluster_centers_\n",
    "\n",
    "for cluster in range(5):\n",
    "    temp = mall_data_1[mall_data_1.Cluster == cluster]\n",
    "    plt.scatter(temp.Income, temp.Spending_Score, marker=markers[cluster], \n",
    "                color = colors[cluster], label=\"Cluster \"+str(cluster))\n",
    "    plt.scatter(centroid[cluster][0],centroid[cluster][1],color = 'black')\n",
    "  \n",
    "plt.xlabel('Income')\n",
    "plt.title(\"K-Means Clustering\")\n",
    "plt.ylabel('Spend_score')\n",
    "plt.legend()\n",
    "\n",
    "plt.show()"
   ]
  },
  {
   "cell_type": "markdown",
   "id": "7431c45a",
   "metadata": {},
   "source": [
    "Looking at the scatter plot above with clusters represented by different shapes and colors, \n",
    "the k-means algorithm did a great job of identifying the natural grouping within the data ."
   ]
  },
  {
   "cell_type": "markdown",
   "id": "0fafed2a",
   "metadata": {},
   "source": [
    "## Understanding and Describing the Clusters\n",
    "\n",
    "As a marketing analysts, you need to have a clear understanding of each segments so that you can\n",
    "explaina to the various stakeholders in the business what each cluster (segment) means from a business perspective since they are usually the decision makers. To understand the clusters, one simple approach is to study the various characteristics of the customers based on the relevant features used for clustering. To understand the characteristics of the clusters, we will analyze the features in the original  mall dataset (mall_data)  which does not contain scaled features by adding their predicted clusters to see how Income and Spending_Score varies across the clusters. "
   ]
  },
  {
   "cell_type": "markdown",
   "id": "0d6f2640",
   "metadata": {},
   "source": [
    "the code below add customers predicted clusters to the original mall dataset:\n"
   ]
  },
  {
   "cell_type": "code",
   "execution_count": 18,
   "id": "ef22aa49",
   "metadata": {},
   "outputs": [],
   "source": [
    "mall_data[\"Cluster\"]=mall_data_1.Cluster"
   ]
  },
  {
   "cell_type": "markdown",
   "id": "8a9b10ae",
   "metadata": {},
   "source": [
    "To see how Income and Spending_Score varies across the segments, let group the dataset by Cluster and plot the mean value of each cluster using the code below"
   ]
  },
  {
   "cell_type": "code",
   "execution_count": 19,
   "id": "a7234309",
   "metadata": {},
   "outputs": [
    {
     "data": {
      "image/png": "[encoded data removed]",
      "text/plain": [
       "<Figure size 432x288 with 1 Axes>"
      ]
     },
     "metadata": {
      "needs_background": "light"
     },
     "output_type": "display_data"
    }
   ],
   "source": [
    "mall_data.groupby('Cluster')[['Income','Spending_Score']].mean().plot.bar()\n",
    "plt.show()"
   ]
  },
  {
   "cell_type": "markdown",
   "id": "fd89af00",
   "metadata": {},
   "source": [
    "Let also sample 10 customers with their predicted clusters"
   ]
  },
  {
   "cell_type": "code",
   "execution_count": 20,
   "id": "0fcff5d8",
   "metadata": {},
   "outputs": [
    {
     "data": {
      "text/html": [
       "<div>\n",
       "<style scoped>\n",
       "    .dataframe tbody tr th:only-of-type {\n",
       "        vertical-align: middle;\n",
       "    }\n",
       "\n",
       "    .dataframe tbody tr th {\n",
       "        vertical-align: top;\n",
       "    }\n",
       "\n",
       "    .dataframe thead th {\n",
       "        text-align: right;\n",
       "    }\n",
       "</style>\n",
       "<table border=\"1\" class=\"dataframe\">\n",
       "  <thead>\n",
       "    <tr style=\"text-align: right;\">\n",
       "      <th></th>\n",
       "      <th>CustomerID</th>\n",
       "      <th>Gender</th>\n",
       "      <th>Age</th>\n",
       "      <th>Income</th>\n",
       "      <th>Spending_Score</th>\n",
       "      <th>Cluster</th>\n",
       "    </tr>\n",
       "  </thead>\n",
       "  <tbody>\n",
       "    <tr>\n",
       "      <th>24</th>\n",
       "      <td>25</td>\n",
       "      <td>Female</td>\n",
       "      <td>54</td>\n",
       "      <td>28</td>\n",
       "      <td>14</td>\n",
       "      <td>2</td>\n",
       "    </tr>\n",
       "    <tr>\n",
       "      <th>111</th>\n",
       "      <td>112</td>\n",
       "      <td>Female</td>\n",
       "      <td>19</td>\n",
       "      <td>63</td>\n",
       "      <td>54</td>\n",
       "      <td>0</td>\n",
       "    </tr>\n",
       "    <tr>\n",
       "      <th>124</th>\n",
       "      <td>125</td>\n",
       "      <td>Female</td>\n",
       "      <td>23</td>\n",
       "      <td>70</td>\n",
       "      <td>29</td>\n",
       "      <td>1</td>\n",
       "    </tr>\n",
       "    <tr>\n",
       "      <th>16</th>\n",
       "      <td>17</td>\n",
       "      <td>Female</td>\n",
       "      <td>35</td>\n",
       "      <td>21</td>\n",
       "      <td>35</td>\n",
       "      <td>2</td>\n",
       "    </tr>\n",
       "    <tr>\n",
       "      <th>138</th>\n",
       "      <td>139</td>\n",
       "      <td>Male</td>\n",
       "      <td>19</td>\n",
       "      <td>74</td>\n",
       "      <td>10</td>\n",
       "      <td>1</td>\n",
       "    </tr>\n",
       "    <tr>\n",
       "      <th>92</th>\n",
       "      <td>93</td>\n",
       "      <td>Male</td>\n",
       "      <td>48</td>\n",
       "      <td>60</td>\n",
       "      <td>49</td>\n",
       "      <td>0</td>\n",
       "    </tr>\n",
       "    <tr>\n",
       "      <th>130</th>\n",
       "      <td>131</td>\n",
       "      <td>Male</td>\n",
       "      <td>47</td>\n",
       "      <td>71</td>\n",
       "      <td>9</td>\n",
       "      <td>1</td>\n",
       "    </tr>\n",
       "    <tr>\n",
       "      <th>174</th>\n",
       "      <td>175</td>\n",
       "      <td>Female</td>\n",
       "      <td>52</td>\n",
       "      <td>88</td>\n",
       "      <td>13</td>\n",
       "      <td>1</td>\n",
       "    </tr>\n",
       "    <tr>\n",
       "      <th>11</th>\n",
       "      <td>12</td>\n",
       "      <td>Female</td>\n",
       "      <td>35</td>\n",
       "      <td>19</td>\n",
       "      <td>99</td>\n",
       "      <td>3</td>\n",
       "    </tr>\n",
       "    <tr>\n",
       "      <th>183</th>\n",
       "      <td>184</td>\n",
       "      <td>Female</td>\n",
       "      <td>29</td>\n",
       "      <td>98</td>\n",
       "      <td>88</td>\n",
       "      <td>4</td>\n",
       "    </tr>\n",
       "  </tbody>\n",
       "</table>\n",
       "</div>"
      ],
      "text/plain": [
       "     CustomerID  Gender  Age  Income  Spending_Score  Cluster\n",
       "24           25  Female   54      28              14        2\n",
       "111         112  Female   19      63              54        0\n",
       "124         125  Female   23      70              29        1\n",
       "16           17  Female   35      21              35        2\n",
       "138         139    Male   19      74              10        1\n",
       "92           93    Male   48      60              49        0\n",
       "130         131    Male   47      71               9        1\n",
       "174         175  Female   52      88              13        1\n",
       "11           12  Female   35      19              99        3\n",
       "183         184  Female   29      98              88        4"
      ]
     },
     "execution_count": 20,
     "metadata": {},
     "output_type": "execute_result"
    }
   ],
   "source": [
    "mall_data.sample(10)"
   ]
  },
  {
   "cell_type": "markdown",
   "id": "8e1b6f6e",
   "metadata": {},
   "source": [
    "From the above graph and table we can describe the clusters as:\n",
    "\n",
    "- **Cluster 0**: Moderate spenders with moderate-income \n",
    "- **Cluster 1**: Low spenders with high-income\n",
    "- **Cluster 2**: Low spenders with low-income \n",
    "- **Cluster 3**: High spenders with low-income \n",
    "- **Cluster 4**: High spenders with high-income "
   ]
  },
  {
   "cell_type": "markdown",
   "id": "a141db6a",
   "metadata": {},
   "source": [
    "With these clusters, the business can decide to focus on customers in cluster 0,3,4 since these clusters have high spending scores which provide high revenues to the business."
   ]
  },
  {
   "cell_type": "code",
   "execution_count": null,
   "id": "f1b68e4c",
   "metadata": {},
   "outputs": [],
   "source": []
  }
 ],
 "metadata": {
  "kernelspec": {
   "display_name": "Python 3 (ipykernel)",
   "language": "python",
   "name": "python3"
  },
  "language_info": {
   "codemirror_mode": {
    "name": "ipython",
    "version": 3
   },
   "file_extension": ".py",
   "mimetype": "text/x-python",
   "name": "python",
   "nbconvert_exporter": "python",
   "pygments_lexer": "ipython3",
   "version": "3.9.7"
  }
 },
 "nbformat": 4,
 "nbformat_minor": 5
}
